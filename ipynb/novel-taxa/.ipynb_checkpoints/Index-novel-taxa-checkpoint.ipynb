{
 "cells": [
  {
   "cell_type": "markdown",
   "metadata": {},
   "source": [
    "## Contents"
   ]
  },
  {
   "cell_type": "markdown",
   "metadata": {},
   "source": [
    "* [Simulated community generation](./novel-taxa-database-generation.ipynb): Generates the novel-taxa simulated community datasets that are included in this repository. It should not be necessary to re-run this notebook, but it can be used or adapted to simulate other communities.\n",
    "* [Data generation](./generate-tax-assignments-novel-taxa.ipynb): Creates and executes commands for generating taxonomic assignments for the novel-taxa simulated communities contained in this package. The results of running this notebook are included in the repository, so it's not necessary to re-run this unless if adding a new method.\n",
    "* [Analysis base (general)](./base.ipynb): Template for general novel-taxa simulated community analysis at different taxonomic levels (the notebooks linked below are auto-generated from this notebook in the following cell).\n",
    "   * [Pre-computed phylum report](./phylum-partial.ipynb)\n",
    "   * [Pre-computed class report](./class-partial.ipynb)\n",
    "   * [Pre-computed order report](./order-partial.ipynb)\n",
    "   * [Pre-computed family report](./family-partial.ipynb)\n",
    "   * [Pre-computed genus report](./genus-partial.ipynb)\n",
    "   * [Pre-computed species report](./species-partial.ipynb) \n"
   ]
  },
  {
   "cell_type": "markdown",
   "metadata": {},
   "source": [
    "If you'd like to generate all of the notebooks from the *Analysis Base* notebook, you should execute the following cell. This can take a long time if the results haven't been pre-computed."
   ]
  },
  {
   "cell_type": "code",
   "execution_count": 1,
   "metadata": {
    "collapsed": false
   },
   "outputs": [],
   "source": [
    "import os\n",
    "import os.path\n",
    "\n",
    "commands = []\n",
    "\n",
    "taxonomic_levels = [('2', 'phylum'), ('3', 'class'), ('4', 'order'), ('5', 'family'), ('6', 'genus'), ('7', 'species')]\n",
    "# The use_cached_results defines whether pre-existing simulated community results should be used if they\n",
    "# exist. If this is your first time running this notebook with new data, you should set this to False\n",
    "use_cached_results = True\n",
    "\n",
    "for taxonomic_level in taxonomic_levels:\n",
    "    input_fp = os.path.join(os.getcwd(), 'base.ipynb')\n",
    "    output_fp = os.path.join(os.getcwd(), '%s.ipynb' % (taxonomic_level[1]))\n",
    "    cmd = \"export taxonomic_level=%s; export use_cached_results=%s; cd %s; runipy -q %s %s; ipython nbconvert --to notebook --nbformat 4 --inplace %s\" % (taxonomic_level[0], use_cached_results, os.getcwd(), input_fp, output_fp, output_fp)\n",
    "    commands.append(cmd)"
   ]
  },
  {
   "cell_type": "code",
   "execution_count": 2,
   "metadata": {
    "collapsed": false
   },
   "outputs": [],
   "source": [
    "from IPython.parallel import Client\n",
    "rc = Client()\n",
    "lview = rc.load_balanced_view()\n",
    "\n",
    "@lview.parallel()\n",
    "def call_cmd(cmd):\n",
    "    from qcli import qcli_system_call\n",
    "    stdout, stderr, retval = qcli_system_call(cmd)\n",
    "    # return stdout, stderr, the return value, and the command\n",
    "    # the command is useful in case it needs to be re-run\n",
    "    return stdout, stderr, retval, cmd"
   ]
  },
  {
   "cell_type": "code",
   "execution_count": 3,
   "metadata": {
    "collapsed": true
   },
   "outputs": [],
   "source": [
    "r = call_cmd.map(commands)"
   ]
  },
  {
   "cell_type": "code",
   "execution_count": null,
   "metadata": {
    "collapsed": true
   },
   "outputs": [],
   "source": []
  }
 ],
 "metadata": {
  "kernelspec": {
   "display_name": "Python 3",
   "language": "python",
   "name": "python3"
  },
  "language_info": {
   "codemirror_mode": {
    "name": "ipython",
    "version": 3
   },
   "file_extension": ".py",
   "mimetype": "text/x-python",
   "name": "python",
   "nbconvert_exporter": "python",
   "pygments_lexer": "ipython3",
   "version": "3.5.2"
  }
 },
 "nbformat": 4,
 "nbformat_minor": 0
}
