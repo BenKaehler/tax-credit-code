{
 "cells": [
  {
   "cell_type": "markdown",
   "metadata": {},
   "source": [
    "# Novel-taxa and simulated community generation\n",
    "\n",
    "This notebook describes the generation of reference databases for both novel-taxa and simulated community analyses. Novel-taxa analysis is a form of cross-validated taxonomic classification, wherein random unique sequences are sampled from the reference database as a test set; all sequences sharing taxonomic affiliation at a given taxonomic level are removed from the reference database (training set); and taxonomy is assigned to the query sequences at the given taxonomic level. Thus, this test interrogates the behavior of a taxonomy classifier when challenged with \"novel\" sequences that are not represented by close matches within the reference sequence database. Such an analysis is performed to assess the degree to which \"overassignment\" occurs for sequences that are not represented in a reference database.\n",
    "\n",
    "Simulated community analysis represents more conventional cross-validated classification, wherein unique sequences are randomly sampled from a reference dataset and used as a test set for taxonomic classification, using a training set that has those sequences removed, but not other sequences that share taxonomic affiliation. Instead, the training set must contain identical taxonomies to those represented by the test sequences."
   ]
  },
  {
   "cell_type": "markdown",
   "metadata": {},
   "source": [
    "## Environment\n",
    "First step is to create a conda environment with the necessary dependencies. This requires installing [miniconda 3](http://conda.pydata.org/miniconda.html) to manage parallel python environments. After miniconda (or another conda version) is installed, proceed with [installing QIIME 2](https://docs.qiime2.org/2.0.6/install/).\n"
   ]
  },
  {
   "cell_type": "markdown",
   "metadata": {},
   "source": [
    "# Novel-taxa reference data set generation\n",
    "\n",
    "This section describes the preparation of the data sets necessary for \"novel taxa\" analysis. The goals of this step are:\n",
    "1. Create a \"clean\" reference database that can be used for evaluation of \"novel taxa\" from phylum to species level.\n",
    "2. Generate simulated amplicons and randomly subsample query sequences to use as \"novel taxa\"\n",
    "3. Create modified sequence reference databases for taxonomic classification of \"novel taxa\" sequences\n",
    "\n",
    "In this first cell, we describe data set/database characteristics as a dictionary: dataset name is the key, with values reference sequence fasta, taxonomy, database name, forward primer sequence, reverse primer sequence, forward primer name, reverse primer name.\n",
    "\n",
    "MODIFY these values to generate novel-taxa files on a new reference database"
   ]
  },
  {
   "cell_type": "code",
   "execution_count": 1,
   "metadata": {
    "collapsed": false
   },
   "outputs": [],
   "source": [
    "from tax_credit.framework_functions import (generate_simulated_datasets,\n",
    "                                            test_simulated_communities,\n",
    "                                            test_novel_taxa_datasets)\n",
    "\n",
    "from os.path import expandvars, join\n",
    "import pandas as pd\n"
   ]
  },
  {
   "cell_type": "code",
   "execution_count": 2,
   "metadata": {
    "collapsed": false
   },
   "outputs": [],
   "source": [
    "project_dir = expandvars(\"$HOME/Desktop/projects/short-read-tax-assignment\")\n",
    "data_dir = join(project_dir, \"data\")\n",
    "\n",
    "# List databases as fasta/taxonomy file pairs\n",
    "databases = {'B1-REF': [expandvars(\"$HOME/Desktop/ref_dbs/gg_13_8_otus/rep_set/99_otus.fasta\"), \n",
    "             expandvars(\"$HOME/Desktop/ref_dbs/gg_13_8_otus/taxonomy/99_otu_taxonomy.txt\"),\n",
    "             \"gg_13_8_otus\", \"GTGCCAGCMGCCGCGGTAA\", \"ATTAGAWACCCBDGTAGTCC\", \"515f\", \"806r\"],\n",
    "             'F1-REF': [expandvars(\"$HOME/Desktop/ref_dbs/sh_qiime_release_20.11.2016/developer/sh_refs_qiime_ver7_99_20.11.2016_dev.fasta\"), \n",
    "             expandvars(\"$HOME/Desktop/ref_dbs/sh_qiime_release_20.11.2016/developer/sh_taxonomy_qiime_ver7_99_20.11.2016_dev.txt\"), \n",
    "             \"unite_20.11.2016\", \"ACCTGCGGARGGATCA\", \"GAGATCCRTTGYTRAAAGTT\", \"BITSf\", \"B58S3r\"]\n",
    "            }"
   ]
  },
  {
   "cell_type": "markdown",
   "metadata": {},
   "source": [
    "Now we will import these to a dataframe and view it. You should not need to modify the following cell."
   ]
  },
  {
   "cell_type": "code",
   "execution_count": 3,
   "metadata": {
    "collapsed": false
   },
   "outputs": [
    {
     "data": {
      "text/html": [
       "<div>\n",
       "<table border=\"1\" class=\"dataframe\">\n",
       "  <thead>\n",
       "    <tr style=\"text-align: right;\">\n",
       "      <th></th>\n",
       "      <th>Reference file path</th>\n",
       "      <th>Reference tax path</th>\n",
       "      <th>Reference id</th>\n",
       "      <th>Fwd primer</th>\n",
       "      <th>Rev primer</th>\n",
       "      <th>Fwd primer id</th>\n",
       "      <th>Rev primer id</th>\n",
       "    </tr>\n",
       "  </thead>\n",
       "  <tbody>\n",
       "    <tr>\n",
       "      <th>B1-REF</th>\n",
       "      <td>/Users/nbokulich/Desktop/ref_dbs/gg_13_8_otus/...</td>\n",
       "      <td>/Users/nbokulich/Desktop/ref_dbs/gg_13_8_otus/...</td>\n",
       "      <td>gg_13_8_otus</td>\n",
       "      <td>GTGCCAGCMGCCGCGGTAA</td>\n",
       "      <td>ATTAGAWACCCBDGTAGTCC</td>\n",
       "      <td>515f</td>\n",
       "      <td>806r</td>\n",
       "    </tr>\n",
       "    <tr>\n",
       "      <th>F1-REF</th>\n",
       "      <td>/Users/nbokulich/Desktop/ref_dbs/sh_qiime_rele...</td>\n",
       "      <td>/Users/nbokulich/Desktop/ref_dbs/sh_qiime_rele...</td>\n",
       "      <td>unite_20.11.2016</td>\n",
       "      <td>ACCTGCGGARGGATCA</td>\n",
       "      <td>GAGATCCRTTGYTRAAAGTT</td>\n",
       "      <td>BITSf</td>\n",
       "      <td>B58S3r</td>\n",
       "    </tr>\n",
       "  </tbody>\n",
       "</table>\n",
       "</div>"
      ],
      "text/plain": [
       "                                      Reference file path  \\\n",
       "B1-REF  /Users/nbokulich/Desktop/ref_dbs/gg_13_8_otus/...   \n",
       "F1-REF  /Users/nbokulich/Desktop/ref_dbs/sh_qiime_rele...   \n",
       "\n",
       "                                       Reference tax path      Reference id  \\\n",
       "B1-REF  /Users/nbokulich/Desktop/ref_dbs/gg_13_8_otus/...      gg_13_8_otus   \n",
       "F1-REF  /Users/nbokulich/Desktop/ref_dbs/sh_qiime_rele...  unite_20.11.2016   \n",
       "\n",
       "                 Fwd primer            Rev primer Fwd primer id Rev primer id  \n",
       "B1-REF  GTGCCAGCMGCCGCGGTAA  ATTAGAWACCCBDGTAGTCC          515f          806r  \n",
       "F1-REF     ACCTGCGGARGGATCA  GAGATCCRTTGYTRAAAGTT         BITSf        B58S3r  "
      ]
     },
     "execution_count": 3,
     "metadata": {},
     "output_type": "execute_result"
    }
   ],
   "source": [
    "# Arrange data set / database info in data frame\n",
    "simulated_community_definitions = pd.DataFrame.from_dict(databases, orient=\"index\")\n",
    "simulated_community_definitions.columns = [\"Reference file path\", \"Reference tax path\", \"Reference id\", \n",
    "                                           \"Fwd primer\", \"Rev primer\", \"Fwd primer id\", \"Rev primer id\"]\n",
    "simulated_community_definitions"
   ]
  },
  {
   "cell_type": "markdown",
   "metadata": {},
   "source": [
    "Generate \"clean\" reference taxonomy and sequence database by removing taxonomy strings with empty or ambiguous levels'\n",
    "\n",
    "Set simulated community parameters, including amplicon length and the number of iterations to perform. Iterations will split our query sequence files into N chunks.\n",
    "\n",
    "This will take a few minutes to run. Get some coffee."
   ]
  },
  {
   "cell_type": "code",
   "execution_count": 4,
   "metadata": {
    "collapsed": false,
    "scrolled": true
   },
   "outputs": [
    {
     "name": "stdout",
     "output_type": "stream",
     "text": [
      "B1-REF Sequence Counts\n",
      "Raw Fasta:            203452.0\n",
      "Clean Fasta:          20745.0\n",
      "Simulated Amplicons:  20694.0\n",
      "Simulated Reads:      20692.0\n",
      "B1-REF level 6 contains 3144 unique and 2120 branched taxa              \n",
      "B1-REF level 5 contains 1456 unique and 1358 branched taxa              \n",
      "B1-REF level 4 contains 277 unique and 202 branched taxa              \n",
      "B1-REF level 3 contains 123 unique and 78 branched taxa              \n",
      "B1-REF level 2 contains 65 unique and 49 branched taxa              \n",
      "B1-REF level 1 contains 28 unique and 28 branched taxa              \n",
      "F1-REF Sequence Counts\n",
      "Raw Fasta:            28856.0\n",
      "Clean Fasta:          20854.0\n",
      "Simulated Amplicons:  13198.0\n",
      "Simulated Reads:      9700.0\n",
      "F1-REF level 6 contains 6206 unique and 5388 branched taxa              \n",
      "F1-REF level 5 contains 1613 unique and 1448 branched taxa              \n",
      "F1-REF level 4 contains 406 unique and 316 branched taxa              \n",
      "F1-REF level 3 contains 150 unique and 121 branched taxa              \n",
      "F1-REF level 2 contains 45 unique and 42 branched taxa              \n",
      "F1-REF level 1 contains 7 unique and 7 branched taxa              \n"
     ]
    }
   ],
   "source": [
    "read_length = 250\n",
    "iterations = 3\n",
    "generate_simulated_datasets(simulated_community_definitions, data_dir, read_length, iterations)\n"
   ]
  },
  {
   "cell_type": "markdown",
   "metadata": {},
   "source": [
    "For peace of mind, we can test our novel taxa and simulated community datasets to confirm that:\n",
    "\n",
    "1) For simulated communities, test (query) taxa IDs are not in training (ref) set, but all taxonomy strings are\n",
    "\n",
    "2) For novel taxa, test taxa IDs and taxonomies are not in training (ref) set, but sister branch taxa are\n",
    "\n",
    "If no errors print, all tests pass."
   ]
  },
  {
   "cell_type": "code",
   "execution_count": 5,
   "metadata": {
    "collapsed": false
   },
   "outputs": [],
   "source": [
    "test_simulated_communities(simulated_community_definitions, data_dir, iterations)"
   ]
  },
  {
   "cell_type": "markdown",
   "metadata": {},
   "source": [
    "As a sanity check, confirm that novel taxa were generated successfully."
   ]
  },
  {
   "cell_type": "code",
   "execution_count": 6,
   "metadata": {
    "collapsed": false
   },
   "outputs": [],
   "source": [
    "test_novel_taxa_datasets(simulated_community_definitions, data_dir, iterations)"
   ]
  },
  {
   "cell_type": "code",
   "execution_count": null,
   "metadata": {
    "collapsed": true
   },
   "outputs": [],
   "source": []
  }
 ],
 "metadata": {
  "anaconda-cloud": {},
  "kernelspec": {
   "display_name": "Python [default]",
   "language": "python",
   "name": "python3"
  },
  "language_info": {
   "codemirror_mode": {
    "name": "ipython",
    "version": 3
   },
   "file_extension": ".py",
   "mimetype": "text/x-python",
   "name": "python",
   "nbconvert_exporter": "python",
   "pygments_lexer": "ipython3",
   "version": "3.5.2"
  }
 },
 "nbformat": 4,
 "nbformat_minor": 1
}
