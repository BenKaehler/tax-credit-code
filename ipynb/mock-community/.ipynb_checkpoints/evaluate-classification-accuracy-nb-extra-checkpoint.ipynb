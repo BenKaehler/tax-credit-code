{
 "cells": [
  {
   "cell_type": "markdown",
   "metadata": {},
   "source": [
    "# Evaluate mock community classification accuracy\n",
    "The purpose of this notebook is to evaluate taxonomic classification accuracy of mock communities using different classification methods."
   ]
  },
  {
   "cell_type": "markdown",
   "metadata": {},
   "source": [
    "Prepare the environment\n",
    "-----------------------\n",
    "\n",
    "First we'll import various functions that we'll need for generating the report. "
   ]
  },
  {
   "cell_type": "code",
   "execution_count": 1,
   "metadata": {
    "collapsed": true
   },
   "outputs": [],
   "source": [
    "%matplotlib inline\n",
    "from os.path import join, exists, expandvars\n",
    "import pandas as pd\n",
    "from IPython.display import display, Markdown\n",
    "import seaborn.xkcd_rgb as colors\n",
    "from tax_credit.plotting_functions import (pointplot_from_data_frame,\n",
    "                                           boxplot_from_data_frame,\n",
    "                                           heatmap_from_data_frame,\n",
    "                                           per_level_kruskal_wallis,\n",
    "                                           beta_diversity_pcoa,\n",
    "                                           average_distance_boxplots,\n",
    "                                           rank_optimized_method_performance_by_dataset)\n",
    "from tax_credit.eval_framework import (evaluate_results,\n",
    "                                       method_by_dataset_a1,\n",
    "                                       parameter_comparisons,\n",
    "                                       merge_expected_and_observed_tables,\n",
    "                                       filter_df)"
   ]
  },
  {
   "cell_type": "markdown",
   "metadata": {},
   "source": [
    "Configure local environment-specific values\n",
    "-------------------------------------------\n",
    "\n",
    "**This is the only cell that you will need to edit to generate basic reports locally.** After editing this cell, you can run all cells in this notebook to generate your analysis report. This will take a few minutes to run, as results are computed at multiple taxonomic levels.\n",
    "\n",
    "Values in this cell will not need to be changed, with the exception of ``project_dir``, to generate the default results contained within tax-credit. To analyze results separately from the tax-credit precomputed results, other variables in this cell will need to be set."
   ]
  },
  {
   "cell_type": "code",
   "execution_count": 2,
   "metadata": {
    "collapsed": true
   },
   "outputs": [],
   "source": [
    "## project_dir should be the directory where you've downloaded (or cloned) the \n",
    "## short-read-tax-assignment repository. \n",
    "project_dir = join('..', '..')\n",
    "\n",
    "## expected_results_dir contains expected composition data in the structure\n",
    "## expected_results_dir/<dataset name>/<reference name>/expected/\n",
    "expected_results_dir = join(project_dir, \"data/precomputed-results/\", \"mock-community\")\n",
    "\n",
    "## mock_results_fp designates the files to which summary results are written.\n",
    "## If this file exists, it can be read in to generate results plots, instead\n",
    "## of computing new scores.\n",
    "mock_results_fp = join(expected_results_dir, 'mock_results.tsv')\n",
    "\n",
    "## results_dirs should contain the directory or directories where\n",
    "## results can be found. By default, this is the same location as expected \n",
    "## results included with the project. If other results should be included, \n",
    "## absolute paths to those directories should be added to this list.\n",
    "results_dirs = [expected_results_dir]\n",
    "\n",
    "## directory containing mock community data, e.g., feature table without taxonomy\n",
    "mock_dir = join(project_dir, \"data\", \"mock-community\")\n",
    "\n",
    "## Minimum number of times an OTU must be observed for it to be included in analyses. Edit this\n",
    "## to analyze the effect of the minimum count on taxonomic results.\n",
    "min_count = 1\n",
    "\n",
    "## Define the range of taxonomic levels over which to compute accuracy scores.\n",
    "## The default given below will compute order (level 2) through species (level 6)\n",
    "taxonomy_level_range = range(2,7)"
   ]
  },
  {
   "cell_type": "code",
   "execution_count": 3,
   "metadata": {
    "collapsed": true
   },
   "outputs": [],
   "source": [
    "dataset_ids = ['mock-' + str(m) for m in (3, 12, 18, 22, 24, '26-ITS1', '26-ITS9')]"
   ]
  },
  {
   "cell_type": "markdown",
   "metadata": {},
   "source": [
    "Find mock community pre-computed tables, expected tables, and \"query\" tables\n",
    "----------------------------------------------------------------------------\n",
    "\n",
    "Next we'll use the paths defined above to find all of the tables that will be compared. These include the *pre-computed result* tables (i.e., the ones that the new methods will be compared to), the *expected result* tables (i.e., the tables containing the known composition of the mock microbial communities), and the *query result* tables (i.e., the tables generated with the new method(s) that we want to compare to the *pre-computed result* tables).\n",
    "\n",
    "**Note**: if you have added additional methods to add, set `append=True`. If you are attempting to recompute pre-computed results, set `force=True`.\n",
    "\n",
    "This cell will take a few minutes to run if new results are being added, so hold onto your hat. If you are attempting to re-compute everything, it may take an hour or so, so go take a nap."
   ]
  },
  {
   "cell_type": "code",
   "execution_count": 4,
   "metadata": {
    "collapsed": false,
    "scrolled": false
   },
   "outputs": [
    {
     "name": "stderr",
     "output_type": "stream",
     "text": [
      "/Users/benkaehler/miniconda3/envs/qiime2-dev/lib/python3.5/site-packages/sklearn/metrics/classification.py:1113: UndefinedMetricWarning: Precision and F-score are ill-defined and being set to 0.0 due to no predicted samples.\n",
      "  'precision', 'predicted', average, warn_for)\n"
     ]
    }
   ],
   "source": [
    "mock_results = evaluate_results(results_dirs, \n",
    "                                expected_results_dir, \n",
    "                                mock_results_fp, \n",
    "                                mock_dir,\n",
    "                                taxonomy_level_range=range(2,7), \n",
    "                                min_count=min_count,\n",
    "                                taxa_to_keep=None, \n",
    "                                md_key='taxonomy', \n",
    "                                subsample=False,\n",
    "                                per_seq_precision=True,\n",
    "                                exclude=['other'],\n",
    "                                method_ids=['nb-extra'],\n",
    "                                append=False,\n",
    "                                force=True)"
   ]
  },
  {
   "cell_type": "code",
   "execution_count": 5,
   "metadata": {
    "collapsed": false
   },
   "outputs": [
    {
     "data": {
      "text/plain": [
       "array(['gg_13_8_otus_amplicon', 'gg_13_8_otus_read',\n",
       "       'unite_20.11.2016_clean_amplicon', 'unite_20.11.2016_clean_read'], dtype=object)"
      ]
     },
     "execution_count": 5,
     "metadata": {},
     "output_type": "execute_result"
    }
   ],
   "source": [
    "mock_results['Reference'].unique()"
   ]
  },
  {
   "cell_type": "markdown",
   "metadata": {},
   "source": [
    "Restrict analyses to a set of datasets or references: e.g., exclude taxonomy assignments made for purpose of reference database comparisons. This can be performed as shown below — alternatively, specific reference databases, datasets, methods, or parameters can be chosen by setting dataset_ids, reference_ids, method_ids, and parameter_ids in the evaluate_results command above."
   ]
  },
  {
   "cell_type": "code",
   "execution_count": 6,
   "metadata": {
    "collapsed": true
   },
   "outputs": [],
   "source": [
    "mock_results = filter_df(mock_results, column_name='Reference',\n",
    "                         values=['gg_13_8_otus_amplicon', 'gg_13_8_otus_read'], exclude=False)"
   ]
  },
  {
   "cell_type": "markdown",
   "metadata": {},
   "source": [
    "Compute and summarize precision, recall, and F-measure for mock communities\n",
    "----------------------------------------------------------------------------------------\n",
    "\n",
    "In this evaluation, we compute and summarize precision, recall, and F-measure of each result (pre-computed and query) based on the known composition of the mock communities. We then summarize the results in two ways: first with boxplots, and second with a table of the top methods based on their F-measures. **Higher scores = better accuracy**\n",
    "\n",
    "As a first step, we will evaluate **average** method performance at each taxonomic level for each method within each reference dataset type.\n",
    "\n",
    "**Note that, as parameter configurations can cause results to vary widely, average results are not a good representation of the \"best\" results. See [here](#Optimized-method-performance) for results using optimized parameters for each method.**\n",
    "\n",
    "First we will define our [color palette](http://matplotlib.org/examples/color/named_colors.html) and the variables we want to plot. Via seaborn, we can apply the [xkcd crowdsourced color names](https://xkcd.com/color/rgb.txt). If that still doesn't match your hue, use hex codes."
   ]
  },
  {
   "cell_type": "code",
   "execution_count": 7,
   "metadata": {
    "collapsed": true
   },
   "outputs": [],
   "source": [
    "color_pallette={\n",
    "    'nb-extra': 'black'\n",
    "}\n",
    "\n",
    "y_vars = [\"Precision\", \"Recall\", \"F-measure\", \"Taxon Accuracy Rate\", \"Taxon Detection Rate\"]"
   ]
  },
  {
   "cell_type": "code",
   "execution_count": 9,
   "metadata": {
    "collapsed": false
   },
   "outputs": [
    {
     "data": {
      "image/png": "[encoded data removed]",
      "text/plain": [
       "<matplotlib.figure.Figure at 0x1100143c8>"
      ]
     },
     "metadata": {},
     "output_type": "display_data"
    },
    {
     "data": {
      "image/png": "[encoded data removed]",
      "text/plain": [
       "<matplotlib.figure.Figure at 0x110175048>"
      ]
     },
     "metadata": {},
     "output_type": "display_data"
    },
    {
     "data": {
      "image/png": "[encoded data removed]",
      "text/plain": [
       "<matplotlib.figure.Figure at 0x111e35a20>"
      ]
     },
     "metadata": {},
     "output_type": "display_data"
    },
    {
     "data": {
      "image/png": "[encoded data removed]",
      "text/plain": [
       "<matplotlib.figure.Figure at 0x111116b70>"
      ]
     },
     "metadata": {},
     "output_type": "display_data"
    },
    {
     "data": {
      "image/png": "[encoded data removed]",
      "text/plain": [
       "<matplotlib.figure.Figure at 0x10f8bd898>"
      ]
     },
     "metadata": {},
     "output_type": "display_data"
    }
   ],
   "source": [
    "pointplot_from_data_frame(mock_results, \"Level\", y_vars, \n",
    "                          group_by=\"Reference\", color_by=\"Method\",\n",
    "                          color_pallette=color_pallette)"
   ]
  },
  {
   "cell_type": "markdown",
   "metadata": {},
   "source": [
    "### Kruskal-Wallis between-method accuracy comparisons\n",
    "Kruskal-Wallis FDR-corrected p-values comparing classification methods at each level of taxonomic assignment"
   ]
  },
  {
   "cell_type": "code",
   "execution_count": 10,
   "metadata": {
    "collapsed": false
   },
   "outputs": [
    {
     "data": {
      "text/html": [
       "<div>\n",
       "<table border=\"1\" class=\"dataframe\">\n",
       "  <thead>\n",
       "    <tr style=\"text-align: right;\">\n",
       "      <th></th>\n",
       "      <th>Reference</th>\n",
       "      <th>Variable</th>\n",
       "      <th>2</th>\n",
       "      <th>3</th>\n",
       "      <th>4</th>\n",
       "      <th>5</th>\n",
       "      <th>6</th>\n",
       "    </tr>\n",
       "  </thead>\n",
       "  <tbody>\n",
       "    <tr>\n",
       "      <th>0</th>\n",
       "      <td>gg_13_8_otus_amplicon</td>\n",
       "      <td>Precision</td>\n",
       "      <td>1.0</td>\n",
       "      <td>1.0</td>\n",
       "      <td>1.0</td>\n",
       "      <td>1.0</td>\n",
       "      <td>1.0</td>\n",
       "    </tr>\n",
       "    <tr>\n",
       "      <th>1</th>\n",
       "      <td>gg_13_8_otus_amplicon</td>\n",
       "      <td>Recall</td>\n",
       "      <td>1.0</td>\n",
       "      <td>1.0</td>\n",
       "      <td>1.0</td>\n",
       "      <td>1.0</td>\n",
       "      <td>1.0</td>\n",
       "    </tr>\n",
       "    <tr>\n",
       "      <th>2</th>\n",
       "      <td>gg_13_8_otus_amplicon</td>\n",
       "      <td>F-measure</td>\n",
       "      <td>1.0</td>\n",
       "      <td>1.0</td>\n",
       "      <td>1.0</td>\n",
       "      <td>1.0</td>\n",
       "      <td>1.0</td>\n",
       "    </tr>\n",
       "    <tr>\n",
       "      <th>3</th>\n",
       "      <td>gg_13_8_otus_amplicon</td>\n",
       "      <td>Taxon Accuracy Rate</td>\n",
       "      <td>1.0</td>\n",
       "      <td>1.0</td>\n",
       "      <td>1.0</td>\n",
       "      <td>1.0</td>\n",
       "      <td>1.0</td>\n",
       "    </tr>\n",
       "    <tr>\n",
       "      <th>4</th>\n",
       "      <td>gg_13_8_otus_amplicon</td>\n",
       "      <td>Taxon Detection Rate</td>\n",
       "      <td>1.0</td>\n",
       "      <td>1.0</td>\n",
       "      <td>1.0</td>\n",
       "      <td>1.0</td>\n",
       "      <td>1.0</td>\n",
       "    </tr>\n",
       "    <tr>\n",
       "      <th>5</th>\n",
       "      <td>gg_13_8_otus_read</td>\n",
       "      <td>Precision</td>\n",
       "      <td>1.0</td>\n",
       "      <td>1.0</td>\n",
       "      <td>1.0</td>\n",
       "      <td>1.0</td>\n",
       "      <td>1.0</td>\n",
       "    </tr>\n",
       "    <tr>\n",
       "      <th>6</th>\n",
       "      <td>gg_13_8_otus_read</td>\n",
       "      <td>Recall</td>\n",
       "      <td>1.0</td>\n",
       "      <td>1.0</td>\n",
       "      <td>1.0</td>\n",
       "      <td>1.0</td>\n",
       "      <td>1.0</td>\n",
       "    </tr>\n",
       "    <tr>\n",
       "      <th>7</th>\n",
       "      <td>gg_13_8_otus_read</td>\n",
       "      <td>F-measure</td>\n",
       "      <td>1.0</td>\n",
       "      <td>1.0</td>\n",
       "      <td>1.0</td>\n",
       "      <td>1.0</td>\n",
       "      <td>1.0</td>\n",
       "    </tr>\n",
       "    <tr>\n",
       "      <th>8</th>\n",
       "      <td>gg_13_8_otus_read</td>\n",
       "      <td>Taxon Accuracy Rate</td>\n",
       "      <td>1.0</td>\n",
       "      <td>1.0</td>\n",
       "      <td>1.0</td>\n",
       "      <td>1.0</td>\n",
       "      <td>1.0</td>\n",
       "    </tr>\n",
       "    <tr>\n",
       "      <th>9</th>\n",
       "      <td>gg_13_8_otus_read</td>\n",
       "      <td>Taxon Detection Rate</td>\n",
       "      <td>1.0</td>\n",
       "      <td>1.0</td>\n",
       "      <td>1.0</td>\n",
       "      <td>1.0</td>\n",
       "      <td>1.0</td>\n",
       "    </tr>\n",
       "  </tbody>\n",
       "</table>\n",
       "</div>"
      ],
      "text/plain": [
       "               Reference              Variable    2    3    4    5    6\n",
       "0  gg_13_8_otus_amplicon             Precision  1.0  1.0  1.0  1.0  1.0\n",
       "1  gg_13_8_otus_amplicon                Recall  1.0  1.0  1.0  1.0  1.0\n",
       "2  gg_13_8_otus_amplicon             F-measure  1.0  1.0  1.0  1.0  1.0\n",
       "3  gg_13_8_otus_amplicon   Taxon Accuracy Rate  1.0  1.0  1.0  1.0  1.0\n",
       "4  gg_13_8_otus_amplicon  Taxon Detection Rate  1.0  1.0  1.0  1.0  1.0\n",
       "5      gg_13_8_otus_read             Precision  1.0  1.0  1.0  1.0  1.0\n",
       "6      gg_13_8_otus_read                Recall  1.0  1.0  1.0  1.0  1.0\n",
       "7      gg_13_8_otus_read             F-measure  1.0  1.0  1.0  1.0  1.0\n",
       "8      gg_13_8_otus_read   Taxon Accuracy Rate  1.0  1.0  1.0  1.0  1.0\n",
       "9      gg_13_8_otus_read  Taxon Detection Rate  1.0  1.0  1.0  1.0  1.0"
      ]
     },
     "execution_count": 10,
     "metadata": {},
     "output_type": "execute_result"
    }
   ],
   "source": [
    "result = per_level_kruskal_wallis(mock_results, y_vars, group_by='Method', \n",
    "                                  dataset_col='Reference', level_name='Level',\n",
    "                                  levelrange=range(2,7), alpha=0.05, \n",
    "                                  pval_correction='fdr_bh')\n",
    "result"
   ]
  },
  {
   "cell_type": "markdown",
   "metadata": {},
   "source": [
    "### Heatmaps of per-level accuracy\n",
    "Heatmaps show the performance of individual method/parameter combinations at each taxonomic level, in each reference database (i.e., for bacterial and fungal mock communities individually)."
   ]
  },
  {
   "cell_type": "code",
   "execution_count": 20,
   "metadata": {
    "collapsed": false,
    "scrolled": true
   },
   "outputs": [
    {
     "name": "stderr",
     "output_type": "stream",
     "text": [
      "IOPub data rate exceeded.\n",
      "The notebook server will temporarily stop sending output\n",
      "to the client in order to avoid crashing it.\n",
      "To change this limit, set the config variable\n",
      "`--NotebookApp.iopub_data_rate_limit`.\n"
     ]
    }
   ],
   "source": [
    "heatmap_from_data_frame(mock_results, metric=\"Precision\", rows=[\"Method\", \"Parameters\"], cols=[\"Reference\", \"Level\"])"
   ]
  },
  {
   "cell_type": "code",
   "execution_count": 11,
   "metadata": {
    "collapsed": false,
    "scrolled": true
   },
   "outputs": [
    {
     "data": {
      "image/png": "[encoded data removed]",
      "text/plain": [
       "<matplotlib.figure.Figure at 0x115b62eb8>"
      ]
     },
     "metadata": {},
     "output_type": "display_data"
    }
   ],
   "source": [
    "heatmap_from_data_frame(mock_results, metric=\"Recall\", rows=[\"Method\", \"Parameters\"], cols=[\"Reference\", \"Level\"])"
   ]
  },
  {
   "cell_type": "code",
   "execution_count": 12,
   "metadata": {
    "collapsed": false,
    "scrolled": true
   },
   "outputs": [
    {
     "data": {
      "image/png": "[encoded data removed]",
      "text/plain": [
       "<matplotlib.figure.Figure at 0x11e0c1da0>"
      ]
     },
     "metadata": {},
     "output_type": "display_data"
    }
   ],
   "source": [
    "heatmap_from_data_frame(mock_results, metric=\"F-measure\", rows=[\"Method\", \"Parameters\"], cols=[\"Reference\", \"Level\"])"
   ]
  },
  {
   "cell_type": "code",
   "execution_count": 13,
   "metadata": {
    "collapsed": false
   },
   "outputs": [
    {
     "data": {
      "image/png": "[encoded data removed]",
      "text/plain": [
       "<matplotlib.figure.Figure at 0x11dfdce10>"
      ]
     },
     "metadata": {},
     "output_type": "display_data"
    }
   ],
   "source": [
    "heatmap_from_data_frame(mock_results, metric=\"Taxon Accuracy Rate\", rows=[\"Method\", \"Parameters\"], cols=[\"Reference\", \"Level\"])"
   ]
  },
  {
   "cell_type": "code",
   "execution_count": 14,
   "metadata": {
    "collapsed": false
   },
   "outputs": [
    {
     "data": {
      "image/png": "[encoded data removed]",
      "text/plain": [
       "<matplotlib.figure.Figure at 0x118c4e898>"
      ]
     },
     "metadata": {},
     "output_type": "display_data"
    }
   ],
   "source": [
    "heatmap_from_data_frame(mock_results, metric=\"Taxon Detection Rate\", rows=[\"Method\", \"Parameters\"], cols=[\"Reference\", \"Level\"])"
   ]
  },
  {
   "cell_type": "markdown",
   "metadata": {},
   "source": [
    "Now we will focus on results at species level (for genus level, change to level 5)"
   ]
  },
  {
   "cell_type": "code",
   "execution_count": 11,
   "metadata": {
    "collapsed": true
   },
   "outputs": [],
   "source": [
    "mock_results_6 = mock_results[mock_results['Level'] == 6]"
   ]
  },
  {
   "cell_type": "code",
   "execution_count": 12,
   "metadata": {
    "collapsed": false
   },
   "outputs": [
    {
     "data": {
      "image/png": "[encoded data removed]",
      "text/plain": [
       "<matplotlib.figure.Figure at 0x10f8bf860>"
      ]
     },
     "metadata": {},
     "output_type": "display_data"
    }
   ],
   "source": [
    "boxplot_from_data_frame(mock_results_6, group_by=\"Method\", metric=\"Precision\", color_pallette=color_pallette)"
   ]
  },
  {
   "cell_type": "code",
   "execution_count": 13,
   "metadata": {
    "collapsed": false
   },
   "outputs": [
    {
     "data": {
      "image/png": "[encoded data removed]",
      "text/plain": [
       "<matplotlib.figure.Figure at 0x12044b860>"
      ]
     },
     "metadata": {},
     "output_type": "display_data"
    }
   ],
   "source": [
    "boxplot_from_data_frame(mock_results_6, group_by=\"Method\", metric=\"Recall\", color_pallette=color_pallette)"
   ]
  },
  {
   "cell_type": "code",
   "execution_count": 14,
   "metadata": {
    "collapsed": false
   },
   "outputs": [
    {
     "data": {
      "image/png": "[encoded data removed]",
      "text/plain": [
       "<matplotlib.figure.Figure at 0x11100f3c8>"
      ]
     },
     "metadata": {},
     "output_type": "display_data"
    }
   ],
   "source": [
    "boxplot_from_data_frame(mock_results_6, group_by=\"Method\", metric=\"F-measure\", color_pallette=color_pallette)"
   ]
  },
  {
   "cell_type": "code",
   "execution_count": 15,
   "metadata": {
    "collapsed": false
   },
   "outputs": [
    {
     "data": {
      "image/png": "[encoded data removed]",
      "text/plain": [
       "<matplotlib.figure.Figure at 0x1234a8198>"
      ]
     },
     "metadata": {},
     "output_type": "display_data"
    }
   ],
   "source": [
    "boxplot_from_data_frame(mock_results_6, group_by=\"Method\", metric=\"Taxon Accuracy Rate\", color_pallette=color_pallette)"
   ]
  },
  {
   "cell_type": "code",
   "execution_count": 16,
   "metadata": {
    "collapsed": false
   },
   "outputs": [
    {
     "data": {
      "image/png": "[encoded data removed]",
      "text/plain": [
       "<matplotlib.figure.Figure at 0x110557240>"
      ]
     },
     "metadata": {},
     "output_type": "display_data"
    }
   ],
   "source": [
    "boxplot_from_data_frame(mock_results_6, group_by=\"Method\", metric=\"Taxon Detection Rate\", color_pallette=color_pallette)"
   ]
  },
  {
   "cell_type": "markdown",
   "metadata": {},
   "source": [
    "In the following heatmaps, we assess accuracy rates in each dataset X method configuration combination. This allows us to assess how evenly configurations affect performance, whether specific mock communities outperform of underperform relative to others, and generally assess how increasing/decreasing specific parameters affects accuracy."
   ]
  },
  {
   "cell_type": "code",
   "execution_count": 21,
   "metadata": {
    "collapsed": false,
    "scrolled": true
   },
   "outputs": [
    {
     "data": {
      "image/png": "[encoded data removed]",
      "text/plain": [
       "<matplotlib.figure.Figure at 0x11a1b7630>"
      ]
     },
     "metadata": {},
     "output_type": "display_data"
    }
   ],
   "source": [
    "heatmap_from_data_frame(mock_results_6, \"Precision\")"
   ]
  },
  {
   "cell_type": "code",
   "execution_count": 22,
   "metadata": {
    "collapsed": false,
    "scrolled": true
   },
   "outputs": [
    {
     "data": {
      "image/png": "[encoded data removed]",
      "text/plain": [
       "<matplotlib.figure.Figure at 0x11e07d320>"
      ]
     },
     "metadata": {},
     "output_type": "display_data"
    }
   ],
   "source": [
    "heatmap_from_data_frame(mock_results_6, \"Recall\")"
   ]
  },
  {
   "cell_type": "code",
   "execution_count": 23,
   "metadata": {
    "collapsed": false,
    "scrolled": true
   },
   "outputs": [
    {
     "data": {
      "image/png": "[encoded data removed]",
      "text/plain": [
       "<matplotlib.figure.Figure at 0x11e2d2400>"
      ]
     },
     "metadata": {},
     "output_type": "display_data"
    }
   ],
   "source": [
    "heatmap_from_data_frame(mock_results_6, \"F-measure\")"
   ]
  },
  {
   "cell_type": "code",
   "execution_count": 24,
   "metadata": {
    "collapsed": false
   },
   "outputs": [
    {
     "data": {
      "image/png": "[encoded data removed]",
      "text/plain": [
       "<matplotlib.figure.Figure at 0x119fb8390>"
      ]
     },
     "metadata": {},
     "output_type": "display_data"
    }
   ],
   "source": [
    "heatmap_from_data_frame(mock_results_6, \"Taxon Accuracy Rate\")"
   ]
  },
  {
   "cell_type": "code",
   "execution_count": 25,
   "metadata": {
    "collapsed": false
   },
   "outputs": [
    {
     "data": {
      "image/png": "[encoded data removed]",
      "text/plain": [
       "<matplotlib.figure.Figure at 0x11a060128>"
      ]
     },
     "metadata": {},
     "output_type": "display_data"
    }
   ],
   "source": [
    "heatmap_from_data_frame(mock_results_6, \"Taxon Detection Rate\")"
   ]
  },
  {
   "cell_type": "markdown",
   "metadata": {},
   "source": [
    "### Method Optimization\n",
    "Which method/parameter configuration performed \"best\" for a given score? We can rank the top-performing configuration by dataset, method, and taxonomic level.\n",
    "\n",
    "First, the top-performing method/configuration combination by dataset."
   ]
  },
  {
   "cell_type": "code",
   "execution_count": 17,
   "metadata": {
    "collapsed": false,
    "scrolled": true
   },
   "outputs": [
    {
     "data": {
      "text/markdown": [
       "## mock-1"
      ],
      "text/plain": [
       "<IPython.core.display.Markdown object>"
      ]
     },
     "metadata": {},
     "output_type": "display_data"
    },
    {
     "data": {
      "text/html": [
       "<div>\n",
       "<table border=\"1\" class=\"dataframe\">\n",
       "  <thead>\n",
       "    <tr style=\"text-align: right;\">\n",
       "      <th></th>\n",
       "      <th>Method</th>\n",
       "      <th>Parameters</th>\n",
       "      <th>Precision</th>\n",
       "      <th>Recall</th>\n",
       "      <th>F-measure</th>\n",
       "      <th>Taxon Accuracy Rate</th>\n",
       "      <th>Taxon Detection Rate</th>\n",
       "    </tr>\n",
       "  </thead>\n",
       "  <tbody>\n",
       "  </tbody>\n",
       "</table>\n",
       "</div>"
      ],
      "text/plain": [
       "Empty DataFrame\n",
       "Columns: [Method, Parameters, Precision, Recall, F-measure, Taxon Accuracy Rate, Taxon Detection Rate]\n",
       "Index: []"
      ]
     },
     "metadata": {},
     "output_type": "display_data"
    },
    {
     "data": {
      "text/markdown": [
       "## mock-2"
      ],
      "text/plain": [
       "<IPython.core.display.Markdown object>"
      ]
     },
     "metadata": {},
     "output_type": "display_data"
    },
    {
     "data": {
      "text/html": [
       "<div>\n",
       "<table border=\"1\" class=\"dataframe\">\n",
       "  <thead>\n",
       "    <tr style=\"text-align: right;\">\n",
       "      <th></th>\n",
       "      <th>Method</th>\n",
       "      <th>Parameters</th>\n",
       "      <th>Precision</th>\n",
       "      <th>Recall</th>\n",
       "      <th>F-measure</th>\n",
       "      <th>Taxon Accuracy Rate</th>\n",
       "      <th>Taxon Detection Rate</th>\n",
       "    </tr>\n",
       "  </thead>\n",
       "  <tbody>\n",
       "  </tbody>\n",
       "</table>\n",
       "</div>"
      ],
      "text/plain": [
       "Empty DataFrame\n",
       "Columns: [Method, Parameters, Precision, Recall, F-measure, Taxon Accuracy Rate, Taxon Detection Rate]\n",
       "Index: []"
      ]
     },
     "metadata": {},
     "output_type": "display_data"
    },
    {
     "data": {
      "text/markdown": [
       "## mock-3"
      ],
      "text/plain": [
       "<IPython.core.display.Markdown object>"
      ]
     },
     "metadata": {},
     "output_type": "display_data"
    },
    {
     "data": {
      "text/html": [
       "<div>\n",
       "<table border=\"1\" class=\"dataframe\">\n",
       "  <thead>\n",
       "    <tr style=\"text-align: right;\">\n",
       "      <th></th>\n",
       "      <th>Method</th>\n",
       "      <th>Parameters</th>\n",
       "      <th>Precision</th>\n",
       "      <th>Recall</th>\n",
       "      <th>F-measure</th>\n",
       "      <th>Taxon Accuracy Rate</th>\n",
       "      <th>Taxon Detection Rate</th>\n",
       "    </tr>\n",
       "  </thead>\n",
       "  <tbody>\n",
       "    <tr>\n",
       "      <th>1216639</th>\n",
       "      <td>nb-extra</td>\n",
       "      <td>0.001:prior:8192:[8,8]:None:False:0.2</td>\n",
       "      <td>1.0</td>\n",
       "      <td>1.0</td>\n",
       "      <td>1.0</td>\n",
       "      <td>1.0</td>\n",
       "      <td>0.7</td>\n",
       "    </tr>\n",
       "  </tbody>\n",
       "</table>\n",
       "</div>"
      ],
      "text/plain": [
       "           Method                             Parameters  Precision  Recall  \\\n",
       "1216639  nb-extra  0.001:prior:8192:[8,8]:None:False:0.2        1.0     1.0   \n",
       "\n",
       "         F-measure  Taxon Accuracy Rate  Taxon Detection Rate  \n",
       "1216639        1.0                  1.0                   0.7  "
      ]
     },
     "metadata": {},
     "output_type": "display_data"
    },
    {
     "data": {
      "text/markdown": [
       "## mock-4"
      ],
      "text/plain": [
       "<IPython.core.display.Markdown object>"
      ]
     },
     "metadata": {},
     "output_type": "display_data"
    },
    {
     "data": {
      "text/html": [
       "<div>\n",
       "<table border=\"1\" class=\"dataframe\">\n",
       "  <thead>\n",
       "    <tr style=\"text-align: right;\">\n",
       "      <th></th>\n",
       "      <th>Method</th>\n",
       "      <th>Parameters</th>\n",
       "      <th>Precision</th>\n",
       "      <th>Recall</th>\n",
       "      <th>F-measure</th>\n",
       "      <th>Taxon Accuracy Rate</th>\n",
       "      <th>Taxon Detection Rate</th>\n",
       "    </tr>\n",
       "  </thead>\n",
       "  <tbody>\n",
       "  </tbody>\n",
       "</table>\n",
       "</div>"
      ],
      "text/plain": [
       "Empty DataFrame\n",
       "Columns: [Method, Parameters, Precision, Recall, F-measure, Taxon Accuracy Rate, Taxon Detection Rate]\n",
       "Index: []"
      ]
     },
     "metadata": {},
     "output_type": "display_data"
    },
    {
     "data": {
      "text/markdown": [
       "## mock-5"
      ],
      "text/plain": [
       "<IPython.core.display.Markdown object>"
      ]
     },
     "metadata": {},
     "output_type": "display_data"
    },
    {
     "data": {
      "text/html": [
       "<div>\n",
       "<table border=\"1\" class=\"dataframe\">\n",
       "  <thead>\n",
       "    <tr style=\"text-align: right;\">\n",
       "      <th></th>\n",
       "      <th>Method</th>\n",
       "      <th>Parameters</th>\n",
       "      <th>Precision</th>\n",
       "      <th>Recall</th>\n",
       "      <th>F-measure</th>\n",
       "      <th>Taxon Accuracy Rate</th>\n",
       "      <th>Taxon Detection Rate</th>\n",
       "    </tr>\n",
       "  </thead>\n",
       "  <tbody>\n",
       "  </tbody>\n",
       "</table>\n",
       "</div>"
      ],
      "text/plain": [
       "Empty DataFrame\n",
       "Columns: [Method, Parameters, Precision, Recall, F-measure, Taxon Accuracy Rate, Taxon Detection Rate]\n",
       "Index: []"
      ]
     },
     "metadata": {},
     "output_type": "display_data"
    },
    {
     "data": {
      "text/markdown": [
       "## mock-6"
      ],
      "text/plain": [
       "<IPython.core.display.Markdown object>"
      ]
     },
     "metadata": {},
     "output_type": "display_data"
    },
    {
     "data": {
      "text/html": [
       "<div>\n",
       "<table border=\"1\" class=\"dataframe\">\n",
       "  <thead>\n",
       "    <tr style=\"text-align: right;\">\n",
       "      <th></th>\n",
       "      <th>Method</th>\n",
       "      <th>Parameters</th>\n",
       "      <th>Precision</th>\n",
       "      <th>Recall</th>\n",
       "      <th>F-measure</th>\n",
       "      <th>Taxon Accuracy Rate</th>\n",
       "      <th>Taxon Detection Rate</th>\n",
       "    </tr>\n",
       "  </thead>\n",
       "  <tbody>\n",
       "  </tbody>\n",
       "</table>\n",
       "</div>"
      ],
      "text/plain": [
       "Empty DataFrame\n",
       "Columns: [Method, Parameters, Precision, Recall, F-measure, Taxon Accuracy Rate, Taxon Detection Rate]\n",
       "Index: []"
      ]
     },
     "metadata": {},
     "output_type": "display_data"
    },
    {
     "data": {
      "text/markdown": [
       "## mock-7"
      ],
      "text/plain": [
       "<IPython.core.display.Markdown object>"
      ]
     },
     "metadata": {},
     "output_type": "display_data"
    },
    {
     "data": {
      "text/html": [
       "<div>\n",
       "<table border=\"1\" class=\"dataframe\">\n",
       "  <thead>\n",
       "    <tr style=\"text-align: right;\">\n",
       "      <th></th>\n",
       "      <th>Method</th>\n",
       "      <th>Parameters</th>\n",
       "      <th>Precision</th>\n",
       "      <th>Recall</th>\n",
       "      <th>F-measure</th>\n",
       "      <th>Taxon Accuracy Rate</th>\n",
       "      <th>Taxon Detection Rate</th>\n",
       "    </tr>\n",
       "  </thead>\n",
       "  <tbody>\n",
       "  </tbody>\n",
       "</table>\n",
       "</div>"
      ],
      "text/plain": [
       "Empty DataFrame\n",
       "Columns: [Method, Parameters, Precision, Recall, F-measure, Taxon Accuracy Rate, Taxon Detection Rate]\n",
       "Index: []"
      ]
     },
     "metadata": {},
     "output_type": "display_data"
    },
    {
     "data": {
      "text/markdown": [
       "## mock-8"
      ],
      "text/plain": [
       "<IPython.core.display.Markdown object>"
      ]
     },
     "metadata": {},
     "output_type": "display_data"
    },
    {
     "data": {
      "text/html": [
       "<div>\n",
       "<table border=\"1\" class=\"dataframe\">\n",
       "  <thead>\n",
       "    <tr style=\"text-align: right;\">\n",
       "      <th></th>\n",
       "      <th>Method</th>\n",
       "      <th>Parameters</th>\n",
       "      <th>Precision</th>\n",
       "      <th>Recall</th>\n",
       "      <th>F-measure</th>\n",
       "      <th>Taxon Accuracy Rate</th>\n",
       "      <th>Taxon Detection Rate</th>\n",
       "    </tr>\n",
       "  </thead>\n",
       "  <tbody>\n",
       "  </tbody>\n",
       "</table>\n",
       "</div>"
      ],
      "text/plain": [
       "Empty DataFrame\n",
       "Columns: [Method, Parameters, Precision, Recall, F-measure, Taxon Accuracy Rate, Taxon Detection Rate]\n",
       "Index: []"
      ]
     },
     "metadata": {},
     "output_type": "display_data"
    },
    {
     "data": {
      "text/markdown": [
       "## mock-9"
      ],
      "text/plain": [
       "<IPython.core.display.Markdown object>"
      ]
     },
     "metadata": {},
     "output_type": "display_data"
    },
    {
     "data": {
      "text/html": [
       "<div>\n",
       "<table border=\"1\" class=\"dataframe\">\n",
       "  <thead>\n",
       "    <tr style=\"text-align: right;\">\n",
       "      <th></th>\n",
       "      <th>Method</th>\n",
       "      <th>Parameters</th>\n",
       "      <th>Precision</th>\n",
       "      <th>Recall</th>\n",
       "      <th>F-measure</th>\n",
       "      <th>Taxon Accuracy Rate</th>\n",
       "      <th>Taxon Detection Rate</th>\n",
       "    </tr>\n",
       "  </thead>\n",
       "  <tbody>\n",
       "  </tbody>\n",
       "</table>\n",
       "</div>"
      ],
      "text/plain": [
       "Empty DataFrame\n",
       "Columns: [Method, Parameters, Precision, Recall, F-measure, Taxon Accuracy Rate, Taxon Detection Rate]\n",
       "Index: []"
      ]
     },
     "metadata": {},
     "output_type": "display_data"
    },
    {
     "data": {
      "text/markdown": [
       "## mock-10"
      ],
      "text/plain": [
       "<IPython.core.display.Markdown object>"
      ]
     },
     "metadata": {},
     "output_type": "display_data"
    },
    {
     "data": {
      "text/html": [
       "<div>\n",
       "<table border=\"1\" class=\"dataframe\">\n",
       "  <thead>\n",
       "    <tr style=\"text-align: right;\">\n",
       "      <th></th>\n",
       "      <th>Method</th>\n",
       "      <th>Parameters</th>\n",
       "      <th>Precision</th>\n",
       "      <th>Recall</th>\n",
       "      <th>F-measure</th>\n",
       "      <th>Taxon Accuracy Rate</th>\n",
       "      <th>Taxon Detection Rate</th>\n",
       "    </tr>\n",
       "  </thead>\n",
       "  <tbody>\n",
       "  </tbody>\n",
       "</table>\n",
       "</div>"
      ],
      "text/plain": [
       "Empty DataFrame\n",
       "Columns: [Method, Parameters, Precision, Recall, F-measure, Taxon Accuracy Rate, Taxon Detection Rate]\n",
       "Index: []"
      ]
     },
     "metadata": {},
     "output_type": "display_data"
    },
    {
     "data": {
      "text/markdown": [
       "## mock-11"
      ],
      "text/plain": [
       "<IPython.core.display.Markdown object>"
      ]
     },
     "metadata": {},
     "output_type": "display_data"
    },
    {
     "data": {
      "text/html": [
       "<div>\n",
       "<table border=\"1\" class=\"dataframe\">\n",
       "  <thead>\n",
       "    <tr style=\"text-align: right;\">\n",
       "      <th></th>\n",
       "      <th>Method</th>\n",
       "      <th>Parameters</th>\n",
       "      <th>Precision</th>\n",
       "      <th>Recall</th>\n",
       "      <th>F-measure</th>\n",
       "      <th>Taxon Accuracy Rate</th>\n",
       "      <th>Taxon Detection Rate</th>\n",
       "    </tr>\n",
       "  </thead>\n",
       "  <tbody>\n",
       "  </tbody>\n",
       "</table>\n",
       "</div>"
      ],
      "text/plain": [
       "Empty DataFrame\n",
       "Columns: [Method, Parameters, Precision, Recall, F-measure, Taxon Accuracy Rate, Taxon Detection Rate]\n",
       "Index: []"
      ]
     },
     "metadata": {},
     "output_type": "display_data"
    },
    {
     "data": {
      "text/markdown": [
       "## mock-12"
      ],
      "text/plain": [
       "<IPython.core.display.Markdown object>"
      ]
     },
     "metadata": {},
     "output_type": "display_data"
    },
    {
     "data": {
      "text/html": [
       "<div>\n",
       "<table border=\"1\" class=\"dataframe\">\n",
       "  <thead>\n",
       "    <tr style=\"text-align: right;\">\n",
       "      <th></th>\n",
       "      <th>Method</th>\n",
       "      <th>Parameters</th>\n",
       "      <th>Precision</th>\n",
       "      <th>Recall</th>\n",
       "      <th>F-measure</th>\n",
       "      <th>Taxon Accuracy Rate</th>\n",
       "      <th>Taxon Detection Rate</th>\n",
       "    </tr>\n",
       "  </thead>\n",
       "  <tbody>\n",
       "    <tr>\n",
       "      <th>5489</th>\n",
       "      <td>nb-extra</td>\n",
       "      <td>0.01:uniform:1024:[16,16]:l2:True:0.4</td>\n",
       "      <td>0.995096</td>\n",
       "      <td>0.954609</td>\n",
       "      <td>0.974432</td>\n",
       "      <td>0.295455</td>\n",
       "      <td>0.619048</td>\n",
       "    </tr>\n",
       "  </tbody>\n",
       "</table>\n",
       "</div>"
      ],
      "text/plain": [
       "        Method                             Parameters  Precision    Recall  \\\n",
       "5489  nb-extra  0.01:uniform:1024:[16,16]:l2:True:0.4   0.995096  0.954609   \n",
       "\n",
       "      F-measure  Taxon Accuracy Rate  Taxon Detection Rate  \n",
       "5489   0.974432             0.295455              0.619048  "
      ]
     },
     "metadata": {},
     "output_type": "display_data"
    },
    {
     "data": {
      "text/markdown": [
       "## mock-13"
      ],
      "text/plain": [
       "<IPython.core.display.Markdown object>"
      ]
     },
     "metadata": {},
     "output_type": "display_data"
    },
    {
     "data": {
      "text/html": [
       "<div>\n",
       "<table border=\"1\" class=\"dataframe\">\n",
       "  <thead>\n",
       "    <tr style=\"text-align: right;\">\n",
       "      <th></th>\n",
       "      <th>Method</th>\n",
       "      <th>Parameters</th>\n",
       "      <th>Precision</th>\n",
       "      <th>Recall</th>\n",
       "      <th>F-measure</th>\n",
       "      <th>Taxon Accuracy Rate</th>\n",
       "      <th>Taxon Detection Rate</th>\n",
       "    </tr>\n",
       "  </thead>\n",
       "  <tbody>\n",
       "  </tbody>\n",
       "</table>\n",
       "</div>"
      ],
      "text/plain": [
       "Empty DataFrame\n",
       "Columns: [Method, Parameters, Precision, Recall, F-measure, Taxon Accuracy Rate, Taxon Detection Rate]\n",
       "Index: []"
      ]
     },
     "metadata": {},
     "output_type": "display_data"
    },
    {
     "data": {
      "text/markdown": [
       "## mock-14"
      ],
      "text/plain": [
       "<IPython.core.display.Markdown object>"
      ]
     },
     "metadata": {},
     "output_type": "display_data"
    },
    {
     "data": {
      "text/html": [
       "<div>\n",
       "<table border=\"1\" class=\"dataframe\">\n",
       "  <thead>\n",
       "    <tr style=\"text-align: right;\">\n",
       "      <th></th>\n",
       "      <th>Method</th>\n",
       "      <th>Parameters</th>\n",
       "      <th>Precision</th>\n",
       "      <th>Recall</th>\n",
       "      <th>F-measure</th>\n",
       "      <th>Taxon Accuracy Rate</th>\n",
       "      <th>Taxon Detection Rate</th>\n",
       "    </tr>\n",
       "  </thead>\n",
       "  <tbody>\n",
       "  </tbody>\n",
       "</table>\n",
       "</div>"
      ],
      "text/plain": [
       "Empty DataFrame\n",
       "Columns: [Method, Parameters, Precision, Recall, F-measure, Taxon Accuracy Rate, Taxon Detection Rate]\n",
       "Index: []"
      ]
     },
     "metadata": {},
     "output_type": "display_data"
    },
    {
     "data": {
      "text/markdown": [
       "## mock-15"
      ],
      "text/plain": [
       "<IPython.core.display.Markdown object>"
      ]
     },
     "metadata": {},
     "output_type": "display_data"
    },
    {
     "data": {
      "text/html": [
       "<div>\n",
       "<table border=\"1\" class=\"dataframe\">\n",
       "  <thead>\n",
       "    <tr style=\"text-align: right;\">\n",
       "      <th></th>\n",
       "      <th>Method</th>\n",
       "      <th>Parameters</th>\n",
       "      <th>Precision</th>\n",
       "      <th>Recall</th>\n",
       "      <th>F-measure</th>\n",
       "      <th>Taxon Accuracy Rate</th>\n",
       "      <th>Taxon Detection Rate</th>\n",
       "    </tr>\n",
       "  </thead>\n",
       "  <tbody>\n",
       "  </tbody>\n",
       "</table>\n",
       "</div>"
      ],
      "text/plain": [
       "Empty DataFrame\n",
       "Columns: [Method, Parameters, Precision, Recall, F-measure, Taxon Accuracy Rate, Taxon Detection Rate]\n",
       "Index: []"
      ]
     },
     "metadata": {},
     "output_type": "display_data"
    },
    {
     "data": {
      "text/markdown": [
       "## mock-16"
      ],
      "text/plain": [
       "<IPython.core.display.Markdown object>"
      ]
     },
     "metadata": {},
     "output_type": "display_data"
    },
    {
     "data": {
      "text/html": [
       "<div>\n",
       "<table border=\"1\" class=\"dataframe\">\n",
       "  <thead>\n",
       "    <tr style=\"text-align: right;\">\n",
       "      <th></th>\n",
       "      <th>Method</th>\n",
       "      <th>Parameters</th>\n",
       "      <th>Precision</th>\n",
       "      <th>Recall</th>\n",
       "      <th>F-measure</th>\n",
       "      <th>Taxon Accuracy Rate</th>\n",
       "      <th>Taxon Detection Rate</th>\n",
       "    </tr>\n",
       "  </thead>\n",
       "  <tbody>\n",
       "  </tbody>\n",
       "</table>\n",
       "</div>"
      ],
      "text/plain": [
       "Empty DataFrame\n",
       "Columns: [Method, Parameters, Precision, Recall, F-measure, Taxon Accuracy Rate, Taxon Detection Rate]\n",
       "Index: []"
      ]
     },
     "metadata": {},
     "output_type": "display_data"
    },
    {
     "data": {
      "text/markdown": [
       "## mock-17"
      ],
      "text/plain": [
       "<IPython.core.display.Markdown object>"
      ]
     },
     "metadata": {},
     "output_type": "display_data"
    },
    {
     "data": {
      "text/html": [
       "<div>\n",
       "<table border=\"1\" class=\"dataframe\">\n",
       "  <thead>\n",
       "    <tr style=\"text-align: right;\">\n",
       "      <th></th>\n",
       "      <th>Method</th>\n",
       "      <th>Parameters</th>\n",
       "      <th>Precision</th>\n",
       "      <th>Recall</th>\n",
       "      <th>F-measure</th>\n",
       "      <th>Taxon Accuracy Rate</th>\n",
       "      <th>Taxon Detection Rate</th>\n",
       "    </tr>\n",
       "  </thead>\n",
       "  <tbody>\n",
       "  </tbody>\n",
       "</table>\n",
       "</div>"
      ],
      "text/plain": [
       "Empty DataFrame\n",
       "Columns: [Method, Parameters, Precision, Recall, F-measure, Taxon Accuracy Rate, Taxon Detection Rate]\n",
       "Index: []"
      ]
     },
     "metadata": {},
     "output_type": "display_data"
    },
    {
     "data": {
      "text/markdown": [
       "## mock-18"
      ],
      "text/plain": [
       "<IPython.core.display.Markdown object>"
      ]
     },
     "metadata": {},
     "output_type": "display_data"
    },
    {
     "data": {
      "text/html": [
       "<div>\n",
       "<table border=\"1\" class=\"dataframe\">\n",
       "  <thead>\n",
       "    <tr style=\"text-align: right;\">\n",
       "      <th></th>\n",
       "      <th>Method</th>\n",
       "      <th>Parameters</th>\n",
       "      <th>Precision</th>\n",
       "      <th>Recall</th>\n",
       "      <th>F-measure</th>\n",
       "      <th>Taxon Accuracy Rate</th>\n",
       "      <th>Taxon Detection Rate</th>\n",
       "    </tr>\n",
       "  </thead>\n",
       "  <tbody>\n",
       "    <tr>\n",
       "      <th>29344</th>\n",
       "      <td>nb-extra</td>\n",
       "      <td>0.1:prior:1024:[8,8]:l2:True:0.6</td>\n",
       "      <td>0.99998</td>\n",
       "      <td>1.0</td>\n",
       "      <td>0.99999</td>\n",
       "      <td>0.8125</td>\n",
       "      <td>0.866667</td>\n",
       "    </tr>\n",
       "  </tbody>\n",
       "</table>\n",
       "</div>"
      ],
      "text/plain": [
       "         Method                        Parameters  Precision  Recall  \\\n",
       "29344  nb-extra  0.1:prior:1024:[8,8]:l2:True:0.6    0.99998     1.0   \n",
       "\n",
       "       F-measure  Taxon Accuracy Rate  Taxon Detection Rate  \n",
       "29344    0.99999               0.8125              0.866667  "
      ]
     },
     "metadata": {},
     "output_type": "display_data"
    },
    {
     "data": {
      "text/markdown": [
       "## mock-19"
      ],
      "text/plain": [
       "<IPython.core.display.Markdown object>"
      ]
     },
     "metadata": {},
     "output_type": "display_data"
    },
    {
     "data": {
      "text/html": [
       "<div>\n",
       "<table border=\"1\" class=\"dataframe\">\n",
       "  <thead>\n",
       "    <tr style=\"text-align: right;\">\n",
       "      <th></th>\n",
       "      <th>Method</th>\n",
       "      <th>Parameters</th>\n",
       "      <th>Precision</th>\n",
       "      <th>Recall</th>\n",
       "      <th>F-measure</th>\n",
       "      <th>Taxon Accuracy Rate</th>\n",
       "      <th>Taxon Detection Rate</th>\n",
       "    </tr>\n",
       "  </thead>\n",
       "  <tbody>\n",
       "  </tbody>\n",
       "</table>\n",
       "</div>"
      ],
      "text/plain": [
       "Empty DataFrame\n",
       "Columns: [Method, Parameters, Precision, Recall, F-measure, Taxon Accuracy Rate, Taxon Detection Rate]\n",
       "Index: []"
      ]
     },
     "metadata": {},
     "output_type": "display_data"
    },
    {
     "data": {
      "text/markdown": [
       "## mock-20"
      ],
      "text/plain": [
       "<IPython.core.display.Markdown object>"
      ]
     },
     "metadata": {},
     "output_type": "display_data"
    },
    {
     "data": {
      "text/html": [
       "<div>\n",
       "<table border=\"1\" class=\"dataframe\">\n",
       "  <thead>\n",
       "    <tr style=\"text-align: right;\">\n",
       "      <th></th>\n",
       "      <th>Method</th>\n",
       "      <th>Parameters</th>\n",
       "      <th>Precision</th>\n",
       "      <th>Recall</th>\n",
       "      <th>F-measure</th>\n",
       "      <th>Taxon Accuracy Rate</th>\n",
       "      <th>Taxon Detection Rate</th>\n",
       "    </tr>\n",
       "  </thead>\n",
       "  <tbody>\n",
       "  </tbody>\n",
       "</table>\n",
       "</div>"
      ],
      "text/plain": [
       "Empty DataFrame\n",
       "Columns: [Method, Parameters, Precision, Recall, F-measure, Taxon Accuracy Rate, Taxon Detection Rate]\n",
       "Index: []"
      ]
     },
     "metadata": {},
     "output_type": "display_data"
    },
    {
     "data": {
      "text/markdown": [
       "## mock-21"
      ],
      "text/plain": [
       "<IPython.core.display.Markdown object>"
      ]
     },
     "metadata": {},
     "output_type": "display_data"
    },
    {
     "data": {
      "text/html": [
       "<div>\n",
       "<table border=\"1\" class=\"dataframe\">\n",
       "  <thead>\n",
       "    <tr style=\"text-align: right;\">\n",
       "      <th></th>\n",
       "      <th>Method</th>\n",
       "      <th>Parameters</th>\n",
       "      <th>Precision</th>\n",
       "      <th>Recall</th>\n",
       "      <th>F-measure</th>\n",
       "      <th>Taxon Accuracy Rate</th>\n",
       "      <th>Taxon Detection Rate</th>\n",
       "    </tr>\n",
       "  </thead>\n",
       "  <tbody>\n",
       "  </tbody>\n",
       "</table>\n",
       "</div>"
      ],
      "text/plain": [
       "Empty DataFrame\n",
       "Columns: [Method, Parameters, Precision, Recall, F-measure, Taxon Accuracy Rate, Taxon Detection Rate]\n",
       "Index: []"
      ]
     },
     "metadata": {},
     "output_type": "display_data"
    },
    {
     "data": {
      "text/markdown": [
       "## mock-22"
      ],
      "text/plain": [
       "<IPython.core.display.Markdown object>"
      ]
     },
     "metadata": {},
     "output_type": "display_data"
    },
    {
     "data": {
      "text/html": [
       "<div>\n",
       "<table border=\"1\" class=\"dataframe\">\n",
       "  <thead>\n",
       "    <tr style=\"text-align: right;\">\n",
       "      <th></th>\n",
       "      <th>Method</th>\n",
       "      <th>Parameters</th>\n",
       "      <th>Precision</th>\n",
       "      <th>Recall</th>\n",
       "      <th>F-measure</th>\n",
       "      <th>Taxon Accuracy Rate</th>\n",
       "      <th>Taxon Detection Rate</th>\n",
       "    </tr>\n",
       "  </thead>\n",
       "  <tbody>\n",
       "    <tr>\n",
       "      <th>43639</th>\n",
       "      <td>nb-extra</td>\n",
       "      <td>0.001:prior:1024:[4,4]:None:True:0.4</td>\n",
       "      <td>0.940892</td>\n",
       "      <td>0.942035</td>\n",
       "      <td>0.941463</td>\n",
       "      <td>0.8</td>\n",
       "      <td>0.842105</td>\n",
       "    </tr>\n",
       "  </tbody>\n",
       "</table>\n",
       "</div>"
      ],
      "text/plain": [
       "         Method                            Parameters  Precision    Recall  \\\n",
       "43639  nb-extra  0.001:prior:1024:[4,4]:None:True:0.4   0.940892  0.942035   \n",
       "\n",
       "       F-measure  Taxon Accuracy Rate  Taxon Detection Rate  \n",
       "43639   0.941463                  0.8              0.842105  "
      ]
     },
     "metadata": {},
     "output_type": "display_data"
    },
    {
     "data": {
      "text/markdown": [
       "## mock-23"
      ],
      "text/plain": [
       "<IPython.core.display.Markdown object>"
      ]
     },
     "metadata": {},
     "output_type": "display_data"
    },
    {
     "data": {
      "text/html": [
       "<div>\n",
       "<table border=\"1\" class=\"dataframe\">\n",
       "  <thead>\n",
       "    <tr style=\"text-align: right;\">\n",
       "      <th></th>\n",
       "      <th>Method</th>\n",
       "      <th>Parameters</th>\n",
       "      <th>Precision</th>\n",
       "      <th>Recall</th>\n",
       "      <th>F-measure</th>\n",
       "      <th>Taxon Accuracy Rate</th>\n",
       "      <th>Taxon Detection Rate</th>\n",
       "    </tr>\n",
       "  </thead>\n",
       "  <tbody>\n",
       "  </tbody>\n",
       "</table>\n",
       "</div>"
      ],
      "text/plain": [
       "Empty DataFrame\n",
       "Columns: [Method, Parameters, Precision, Recall, F-measure, Taxon Accuracy Rate, Taxon Detection Rate]\n",
       "Index: []"
      ]
     },
     "metadata": {},
     "output_type": "display_data"
    },
    {
     "data": {
      "text/markdown": [
       "## mock-24"
      ],
      "text/plain": [
       "<IPython.core.display.Markdown object>"
      ]
     },
     "metadata": {},
     "output_type": "display_data"
    },
    {
     "data": {
      "text/html": [
       "<div>\n",
       "<table border=\"1\" class=\"dataframe\">\n",
       "  <thead>\n",
       "    <tr style=\"text-align: right;\">\n",
       "      <th></th>\n",
       "      <th>Method</th>\n",
       "      <th>Parameters</th>\n",
       "      <th>Precision</th>\n",
       "      <th>Recall</th>\n",
       "      <th>F-measure</th>\n",
       "      <th>Taxon Accuracy Rate</th>\n",
       "      <th>Taxon Detection Rate</th>\n",
       "    </tr>\n",
       "  </thead>\n",
       "  <tbody>\n",
       "  </tbody>\n",
       "</table>\n",
       "</div>"
      ],
      "text/plain": [
       "Empty DataFrame\n",
       "Columns: [Method, Parameters, Precision, Recall, F-measure, Taxon Accuracy Rate, Taxon Detection Rate]\n",
       "Index: []"
      ]
     },
     "metadata": {},
     "output_type": "display_data"
    },
    {
     "data": {
      "text/markdown": [
       "## mock-25"
      ],
      "text/plain": [
       "<IPython.core.display.Markdown object>"
      ]
     },
     "metadata": {},
     "output_type": "display_data"
    },
    {
     "data": {
      "text/html": [
       "<div>\n",
       "<table border=\"1\" class=\"dataframe\">\n",
       "  <thead>\n",
       "    <tr style=\"text-align: right;\">\n",
       "      <th></th>\n",
       "      <th>Method</th>\n",
       "      <th>Parameters</th>\n",
       "      <th>Precision</th>\n",
       "      <th>Recall</th>\n",
       "      <th>F-measure</th>\n",
       "      <th>Taxon Accuracy Rate</th>\n",
       "      <th>Taxon Detection Rate</th>\n",
       "    </tr>\n",
       "  </thead>\n",
       "  <tbody>\n",
       "  </tbody>\n",
       "</table>\n",
       "</div>"
      ],
      "text/plain": [
       "Empty DataFrame\n",
       "Columns: [Method, Parameters, Precision, Recall, F-measure, Taxon Accuracy Rate, Taxon Detection Rate]\n",
       "Index: []"
      ]
     },
     "metadata": {},
     "output_type": "display_data"
    },
    {
     "data": {
      "text/markdown": [
       "## mock-26"
      ],
      "text/plain": [
       "<IPython.core.display.Markdown object>"
      ]
     },
     "metadata": {},
     "output_type": "display_data"
    },
    {
     "data": {
      "text/html": [
       "<div>\n",
       "<table border=\"1\" class=\"dataframe\">\n",
       "  <thead>\n",
       "    <tr style=\"text-align: right;\">\n",
       "      <th></th>\n",
       "      <th>Method</th>\n",
       "      <th>Parameters</th>\n",
       "      <th>Precision</th>\n",
       "      <th>Recall</th>\n",
       "      <th>F-measure</th>\n",
       "      <th>Taxon Accuracy Rate</th>\n",
       "      <th>Taxon Detection Rate</th>\n",
       "    </tr>\n",
       "  </thead>\n",
       "  <tbody>\n",
       "  </tbody>\n",
       "</table>\n",
       "</div>"
      ],
      "text/plain": [
       "Empty DataFrame\n",
       "Columns: [Method, Parameters, Precision, Recall, F-measure, Taxon Accuracy Rate, Taxon Detection Rate]\n",
       "Index: []"
      ]
     },
     "metadata": {},
     "output_type": "display_data"
    }
   ],
   "source": [
    "for i in [n for n in range(1,27)]:\n",
    "    display(Markdown('## mock-{0}'.format(i)))\n",
    "    best = method_by_dataset_a1(mock_results_6, 'mock-{0}'.format(i))\n",
    "    display(best)"
   ]
  },
  {
   "cell_type": "markdown",
   "metadata": {},
   "source": [
    "Now we can determine which parameter configuration performed best for each method. *Count best* values in each column indicate how many samples a given method achieved within one mean absolute deviation of the best result (which is why they may sum to more than the total number of samples)."
   ]
  },
  {
   "cell_type": "code",
   "execution_count": 18,
   "metadata": {
    "collapsed": false,
    "scrolled": true
   },
   "outputs": [
    {
     "data": {
      "text/markdown": [
       "## nb-extra"
      ],
      "text/plain": [
       "<IPython.core.display.Markdown object>"
      ]
     },
     "metadata": {},
     "output_type": "display_data"
    },
    {
     "data": {
      "text/html": [
       "<div>\n",
       "<table border=\"1\" class=\"dataframe\">\n",
       "  <thead>\n",
       "    <tr style=\"text-align: right;\">\n",
       "      <th></th>\n",
       "      <th>F-measure</th>\n",
       "      <th>Precision</th>\n",
       "      <th>Recall</th>\n",
       "      <th>Taxon Accuracy Rate</th>\n",
       "      <th>Taxon Detection Rate</th>\n",
       "    </tr>\n",
       "  </thead>\n",
       "  <tbody>\n",
       "    <tr>\n",
       "      <th>0.001:prior:1024:[16,16]:None:False:0.0</th>\n",
       "      <td>10.0</td>\n",
       "      <td>10.0</td>\n",
       "      <td>10.0</td>\n",
       "      <td>12.0</td>\n",
       "      <td>14.0</td>\n",
       "    </tr>\n",
       "    <tr>\n",
       "      <th>0.01:prior:1024:[4,4]:l2:True:0.0</th>\n",
       "      <td>14.0</td>\n",
       "      <td>14.0</td>\n",
       "      <td>14.0</td>\n",
       "      <td>12.0</td>\n",
       "      <td>14.0</td>\n",
       "    </tr>\n",
       "    <tr>\n",
       "      <th>0.01:prior:1024:[8,8]:l2:False:0.0</th>\n",
       "      <td>14.0</td>\n",
       "      <td>14.0</td>\n",
       "      <td>14.0</td>\n",
       "      <td>12.0</td>\n",
       "      <td>14.0</td>\n",
       "    </tr>\n",
       "    <tr>\n",
       "      <th>0.01:prior:1024:[8,8]:None:True:0.8</th>\n",
       "      <td>6.0</td>\n",
       "      <td>14.0</td>\n",
       "      <td>6.0</td>\n",
       "      <td>10.0</td>\n",
       "      <td>14.0</td>\n",
       "    </tr>\n",
       "    <tr>\n",
       "      <th>0.01:prior:1024:[8,8]:None:True:0.6</th>\n",
       "      <td>6.0</td>\n",
       "      <td>10.0</td>\n",
       "      <td>6.0</td>\n",
       "      <td>10.0</td>\n",
       "      <td>14.0</td>\n",
       "    </tr>\n",
       "    <tr>\n",
       "      <th>0.01:prior:1024:[8,8]:None:True:0.4</th>\n",
       "      <td>6.0</td>\n",
       "      <td>6.0</td>\n",
       "      <td>6.0</td>\n",
       "      <td>10.0</td>\n",
       "      <td>14.0</td>\n",
       "    </tr>\n",
       "    <tr>\n",
       "      <th>0.01:prior:1024:[8,8]:None:True:0.2</th>\n",
       "      <td>6.0</td>\n",
       "      <td>6.0</td>\n",
       "      <td>6.0</td>\n",
       "      <td>10.0</td>\n",
       "      <td>14.0</td>\n",
       "    </tr>\n",
       "    <tr>\n",
       "      <th>0.01:prior:1024:[8,8]:None:True:0.0</th>\n",
       "      <td>6.0</td>\n",
       "      <td>6.0</td>\n",
       "      <td>6.0</td>\n",
       "      <td>10.0</td>\n",
       "      <td>14.0</td>\n",
       "    </tr>\n",
       "    <tr>\n",
       "      <th>0.01:prior:1024:[8,8]:None:False:0.8</th>\n",
       "      <td>6.0</td>\n",
       "      <td>12.0</td>\n",
       "      <td>6.0</td>\n",
       "      <td>10.0</td>\n",
       "      <td>14.0</td>\n",
       "    </tr>\n",
       "    <tr>\n",
       "      <th>0.01:prior:1024:[8,8]:None:False:0.6</th>\n",
       "      <td>10.0</td>\n",
       "      <td>13.0</td>\n",
       "      <td>10.0</td>\n",
       "      <td>10.0</td>\n",
       "      <td>14.0</td>\n",
       "    </tr>\n",
       "  </tbody>\n",
       "</table>\n",
       "</div>"
      ],
      "text/plain": [
       "                                         F-measure  Precision  Recall  \\\n",
       "0.001:prior:1024:[16,16]:None:False:0.0       10.0       10.0    10.0   \n",
       "0.01:prior:1024:[4,4]:l2:True:0.0             14.0       14.0    14.0   \n",
       "0.01:prior:1024:[8,8]:l2:False:0.0            14.0       14.0    14.0   \n",
       "0.01:prior:1024:[8,8]:None:True:0.8            6.0       14.0     6.0   \n",
       "0.01:prior:1024:[8,8]:None:True:0.6            6.0       10.0     6.0   \n",
       "0.01:prior:1024:[8,8]:None:True:0.4            6.0        6.0     6.0   \n",
       "0.01:prior:1024:[8,8]:None:True:0.2            6.0        6.0     6.0   \n",
       "0.01:prior:1024:[8,8]:None:True:0.0            6.0        6.0     6.0   \n",
       "0.01:prior:1024:[8,8]:None:False:0.8           6.0       12.0     6.0   \n",
       "0.01:prior:1024:[8,8]:None:False:0.6          10.0       13.0    10.0   \n",
       "\n",
       "                                         Taxon Accuracy Rate  \\\n",
       "0.001:prior:1024:[16,16]:None:False:0.0                 12.0   \n",
       "0.01:prior:1024:[4,4]:l2:True:0.0                       12.0   \n",
       "0.01:prior:1024:[8,8]:l2:False:0.0                      12.0   \n",
       "0.01:prior:1024:[8,8]:None:True:0.8                     10.0   \n",
       "0.01:prior:1024:[8,8]:None:True:0.6                     10.0   \n",
       "0.01:prior:1024:[8,8]:None:True:0.4                     10.0   \n",
       "0.01:prior:1024:[8,8]:None:True:0.2                     10.0   \n",
       "0.01:prior:1024:[8,8]:None:True:0.0                     10.0   \n",
       "0.01:prior:1024:[8,8]:None:False:0.8                    10.0   \n",
       "0.01:prior:1024:[8,8]:None:False:0.6                    10.0   \n",
       "\n",
       "                                         Taxon Detection Rate  \n",
       "0.001:prior:1024:[16,16]:None:False:0.0                  14.0  \n",
       "0.01:prior:1024:[4,4]:l2:True:0.0                        14.0  \n",
       "0.01:prior:1024:[8,8]:l2:False:0.0                       14.0  \n",
       "0.01:prior:1024:[8,8]:None:True:0.8                      14.0  \n",
       "0.01:prior:1024:[8,8]:None:True:0.6                      14.0  \n",
       "0.01:prior:1024:[8,8]:None:True:0.4                      14.0  \n",
       "0.01:prior:1024:[8,8]:None:True:0.2                      14.0  \n",
       "0.01:prior:1024:[8,8]:None:True:0.0                      14.0  \n",
       "0.01:prior:1024:[8,8]:None:False:0.8                     14.0  \n",
       "0.01:prior:1024:[8,8]:None:False:0.6                     14.0  "
      ]
     },
     "metadata": {},
     "output_type": "display_data"
    }
   ],
   "source": [
    "for method in mock_results_6['Method'].unique():\n",
    "    top_params = parameter_comparisons(\n",
    "        mock_results_6, method, \n",
    "        metrics=['Precision', 'Recall', 'F-measure',\n",
    "                 'Taxon Accuracy Rate', 'Taxon Detection Rate'])\n",
    "    display(Markdown('## {0}'.format(method)))\n",
    "    display(top_params[:10])"
   ]
  },
  {
   "cell_type": "markdown",
   "metadata": {},
   "source": [
    "## Optimized method performance\n",
    "And, finally, which method performed best at each individual taxonomic level for each reference dataset (i.e., for across all fungal and bacterial mock communities combined)?\n",
    "\n",
    "For this analysis, we rank the top-performing method/parameter combination for each method at family through species levels. Methods are ranked by top F-measure, and the average value for each metric is shown (rather than count best as above). F-measure distributions are plotted for each method, and compared using paired t-tests with FDR-corrected P-values. This cell does not need to be altered, unless if you wish to change the *metric* used for sorting best methods and for plotting."
   ]
  },
  {
   "cell_type": "code",
   "execution_count": 19,
   "metadata": {
    "collapsed": false,
    "scrolled": false
   },
   "outputs": [
    {
     "data": {
      "text/markdown": [
       "## gg_13_8_otus_amplicon level 4"
      ],
      "text/plain": [
       "<IPython.core.display.Markdown object>"
      ]
     },
     "metadata": {},
     "output_type": "display_data"
    },
    {
     "data": {
      "text/html": [
       "<div>\n",
       "<table border=\"1\" class=\"dataframe\">\n",
       "  <thead>\n",
       "    <tr style=\"text-align: right;\">\n",
       "      <th></th>\n",
       "      <th>Method</th>\n",
       "      <th>Parameters</th>\n",
       "      <th>Taxon Accuracy Rate</th>\n",
       "      <th>Taxon Detection Rate</th>\n",
       "      <th>Precision</th>\n",
       "      <th>Recall</th>\n",
       "      <th>F-measure</th>\n",
       "    </tr>\n",
       "  </thead>\n",
       "  <tbody>\n",
       "    <tr>\n",
       "      <th>0</th>\n",
       "      <td>nb-extra</td>\n",
       "      <td>0.1:prior:1024:[8,8]:None:True:0.8</td>\n",
       "      <td>0.812589</td>\n",
       "      <td>0.829692</td>\n",
       "      <td>0.999724</td>\n",
       "      <td>0.999973</td>\n",
       "      <td>0.999849</td>\n",
       "    </tr>\n",
       "  </tbody>\n",
       "</table>\n",
       "</div>"
      ],
      "text/plain": [
       "     Method                          Parameters  Taxon Accuracy Rate  \\\n",
       "0  nb-extra  0.1:prior:1024:[8,8]:None:True:0.8             0.812589   \n",
       "\n",
       "   Taxon Detection Rate  Precision    Recall  F-measure  \n",
       "0              0.829692   0.999724  0.999973   0.999849  "
      ]
     },
     "metadata": {},
     "output_type": "display_data"
    },
    {
     "data": {
      "text/html": [
       "<div>\n",
       "<table border=\"1\" class=\"dataframe\">\n",
       "  <thead>\n",
       "    <tr style=\"text-align: right;\">\n",
       "      <th></th>\n",
       "      <th>Method A</th>\n",
       "      <th>Method B</th>\n",
       "      <th>P</th>\n",
       "    </tr>\n",
       "  </thead>\n",
       "  <tbody>\n",
       "  </tbody>\n",
       "</table>\n",
       "</div>"
      ],
      "text/plain": [
       "Empty DataFrame\n",
       "Columns: [Method A, Method B, P]\n",
       "Index: []"
      ]
     },
     "metadata": {},
     "output_type": "display_data"
    },
    {
     "data": {
      "image/png": "[encoded data removed]",
      "text/plain": [
       "<matplotlib.figure.Figure at 0x10f79e198>"
      ]
     },
     "metadata": {},
     "output_type": "display_data"
    },
    {
     "data": {
      "text/markdown": [
       "## gg_13_8_otus_amplicon level 5"
      ],
      "text/plain": [
       "<IPython.core.display.Markdown object>"
      ]
     },
     "metadata": {},
     "output_type": "display_data"
    },
    {
     "data": {
      "text/html": [
       "<div>\n",
       "<table border=\"1\" class=\"dataframe\">\n",
       "  <thead>\n",
       "    <tr style=\"text-align: right;\">\n",
       "      <th></th>\n",
       "      <th>Method</th>\n",
       "      <th>Parameters</th>\n",
       "      <th>Taxon Accuracy Rate</th>\n",
       "      <th>Taxon Detection Rate</th>\n",
       "      <th>Precision</th>\n",
       "      <th>Recall</th>\n",
       "      <th>F-measure</th>\n",
       "    </tr>\n",
       "  </thead>\n",
       "  <tbody>\n",
       "    <tr>\n",
       "      <th>0</th>\n",
       "      <td>nb-extra</td>\n",
       "      <td>0.01:prior:1024:[8,8]:l2:True:0.6</td>\n",
       "      <td>0.816088</td>\n",
       "      <td>0.800213</td>\n",
       "      <td>0.993622</td>\n",
       "      <td>0.993945</td>\n",
       "      <td>0.993784</td>\n",
       "    </tr>\n",
       "  </tbody>\n",
       "</table>\n",
       "</div>"
      ],
      "text/plain": [
       "     Method                         Parameters  Taxon Accuracy Rate  \\\n",
       "0  nb-extra  0.01:prior:1024:[8,8]:l2:True:0.6             0.816088   \n",
       "\n",
       "   Taxon Detection Rate  Precision    Recall  F-measure  \n",
       "0              0.800213   0.993622  0.993945   0.993784  "
      ]
     },
     "metadata": {},
     "output_type": "display_data"
    },
    {
     "data": {
      "text/html": [
       "<div>\n",
       "<table border=\"1\" class=\"dataframe\">\n",
       "  <thead>\n",
       "    <tr style=\"text-align: right;\">\n",
       "      <th></th>\n",
       "      <th>Method A</th>\n",
       "      <th>Method B</th>\n",
       "      <th>P</th>\n",
       "    </tr>\n",
       "  </thead>\n",
       "  <tbody>\n",
       "  </tbody>\n",
       "</table>\n",
       "</div>"
      ],
      "text/plain": [
       "Empty DataFrame\n",
       "Columns: [Method A, Method B, P]\n",
       "Index: []"
      ]
     },
     "metadata": {},
     "output_type": "display_data"
    },
    {
     "data": {
      "image/png": "[encoded data removed]",
      "text/plain": [
       "<matplotlib.figure.Figure at 0x110597278>"
      ]
     },
     "metadata": {},
     "output_type": "display_data"
    },
    {
     "data": {
      "text/markdown": [
       "## gg_13_8_otus_amplicon level 6"
      ],
      "text/plain": [
       "<IPython.core.display.Markdown object>"
      ]
     },
     "metadata": {},
     "output_type": "display_data"
    },
    {
     "data": {
      "text/html": [
       "<div>\n",
       "<table border=\"1\" class=\"dataframe\">\n",
       "  <thead>\n",
       "    <tr style=\"text-align: right;\">\n",
       "      <th></th>\n",
       "      <th>Method</th>\n",
       "      <th>Parameters</th>\n",
       "      <th>Taxon Accuracy Rate</th>\n",
       "      <th>Taxon Detection Rate</th>\n",
       "      <th>Precision</th>\n",
       "      <th>Recall</th>\n",
       "      <th>F-measure</th>\n",
       "    </tr>\n",
       "  </thead>\n",
       "  <tbody>\n",
       "    <tr>\n",
       "      <th>0</th>\n",
       "      <td>nb-extra</td>\n",
       "      <td>0.001:prior:1024:[16,16]:l2:False:0.4</td>\n",
       "      <td>0.879643</td>\n",
       "      <td>0.787719</td>\n",
       "      <td>0.968601</td>\n",
       "      <td>0.969304</td>\n",
       "      <td>0.968952</td>\n",
       "    </tr>\n",
       "  </tbody>\n",
       "</table>\n",
       "</div>"
      ],
      "text/plain": [
       "     Method                             Parameters  Taxon Accuracy Rate  \\\n",
       "0  nb-extra  0.001:prior:1024:[16,16]:l2:False:0.4             0.879643   \n",
       "\n",
       "   Taxon Detection Rate  Precision    Recall  F-measure  \n",
       "0              0.787719   0.968601  0.969304   0.968952  "
      ]
     },
     "metadata": {},
     "output_type": "display_data"
    },
    {
     "data": {
      "text/html": [
       "<div>\n",
       "<table border=\"1\" class=\"dataframe\">\n",
       "  <thead>\n",
       "    <tr style=\"text-align: right;\">\n",
       "      <th></th>\n",
       "      <th>Method A</th>\n",
       "      <th>Method B</th>\n",
       "      <th>P</th>\n",
       "    </tr>\n",
       "  </thead>\n",
       "  <tbody>\n",
       "  </tbody>\n",
       "</table>\n",
       "</div>"
      ],
      "text/plain": [
       "Empty DataFrame\n",
       "Columns: [Method A, Method B, P]\n",
       "Index: []"
      ]
     },
     "metadata": {},
     "output_type": "display_data"
    },
    {
     "data": {
      "image/png": "[encoded data removed]",
      "text/plain": [
       "<matplotlib.figure.Figure at 0x122a9add8>"
      ]
     },
     "metadata": {},
     "output_type": "display_data"
    },
    {
     "data": {
      "text/markdown": [
       "## gg_13_8_otus_read level 4"
      ],
      "text/plain": [
       "<IPython.core.display.Markdown object>"
      ]
     },
     "metadata": {},
     "output_type": "display_data"
    },
    {
     "data": {
      "text/html": [
       "<div>\n",
       "<table border=\"1\" class=\"dataframe\">\n",
       "  <thead>\n",
       "    <tr style=\"text-align: right;\">\n",
       "      <th></th>\n",
       "      <th>Method</th>\n",
       "      <th>Parameters</th>\n",
       "      <th>Taxon Accuracy Rate</th>\n",
       "      <th>Taxon Detection Rate</th>\n",
       "      <th>Precision</th>\n",
       "      <th>Recall</th>\n",
       "      <th>F-measure</th>\n",
       "    </tr>\n",
       "  </thead>\n",
       "  <tbody>\n",
       "    <tr>\n",
       "      <th>0</th>\n",
       "      <td>nb-extra</td>\n",
       "      <td>0.01:uniform:8192:[16,16]:l2:True:0.6</td>\n",
       "      <td>0.782342</td>\n",
       "      <td>0.829692</td>\n",
       "      <td>0.999724</td>\n",
       "      <td>0.999972</td>\n",
       "      <td>0.999848</td>\n",
       "    </tr>\n",
       "  </tbody>\n",
       "</table>\n",
       "</div>"
      ],
      "text/plain": [
       "     Method                             Parameters  Taxon Accuracy Rate  \\\n",
       "0  nb-extra  0.01:uniform:8192:[16,16]:l2:True:0.6             0.782342   \n",
       "\n",
       "   Taxon Detection Rate  Precision    Recall  F-measure  \n",
       "0              0.829692   0.999724  0.999972   0.999848  "
      ]
     },
     "metadata": {},
     "output_type": "display_data"
    },
    {
     "data": {
      "text/html": [
       "<div>\n",
       "<table border=\"1\" class=\"dataframe\">\n",
       "  <thead>\n",
       "    <tr style=\"text-align: right;\">\n",
       "      <th></th>\n",
       "      <th>Method A</th>\n",
       "      <th>Method B</th>\n",
       "      <th>P</th>\n",
       "    </tr>\n",
       "  </thead>\n",
       "  <tbody>\n",
       "  </tbody>\n",
       "</table>\n",
       "</div>"
      ],
      "text/plain": [
       "Empty DataFrame\n",
       "Columns: [Method A, Method B, P]\n",
       "Index: []"
      ]
     },
     "metadata": {},
     "output_type": "display_data"
    },
    {
     "data": {
      "image/png": "[encoded data removed]",
      "text/plain": [
       "<matplotlib.figure.Figure at 0x110429b38>"
      ]
     },
     "metadata": {},
     "output_type": "display_data"
    },
    {
     "data": {
      "text/markdown": [
       "## gg_13_8_otus_read level 5"
      ],
      "text/plain": [
       "<IPython.core.display.Markdown object>"
      ]
     },
     "metadata": {},
     "output_type": "display_data"
    },
    {
     "data": {
      "text/html": [
       "<div>\n",
       "<table border=\"1\" class=\"dataframe\">\n",
       "  <thead>\n",
       "    <tr style=\"text-align: right;\">\n",
       "      <th></th>\n",
       "      <th>Method</th>\n",
       "      <th>Parameters</th>\n",
       "      <th>Taxon Accuracy Rate</th>\n",
       "      <th>Taxon Detection Rate</th>\n",
       "      <th>Precision</th>\n",
       "      <th>Recall</th>\n",
       "      <th>F-measure</th>\n",
       "    </tr>\n",
       "  </thead>\n",
       "  <tbody>\n",
       "    <tr>\n",
       "      <th>0</th>\n",
       "      <td>nb-extra</td>\n",
       "      <td>0.01:prior:1024:[8,8]:l2:True:0.6</td>\n",
       "      <td>0.810208</td>\n",
       "      <td>0.800213</td>\n",
       "      <td>0.993665</td>\n",
       "      <td>0.993945</td>\n",
       "      <td>0.993805</td>\n",
       "    </tr>\n",
       "  </tbody>\n",
       "</table>\n",
       "</div>"
      ],
      "text/plain": [
       "     Method                         Parameters  Taxon Accuracy Rate  \\\n",
       "0  nb-extra  0.01:prior:1024:[8,8]:l2:True:0.6             0.810208   \n",
       "\n",
       "   Taxon Detection Rate  Precision    Recall  F-measure  \n",
       "0              0.800213   0.993665  0.993945   0.993805  "
      ]
     },
     "metadata": {},
     "output_type": "display_data"
    },
    {
     "data": {
      "text/html": [
       "<div>\n",
       "<table border=\"1\" class=\"dataframe\">\n",
       "  <thead>\n",
       "    <tr style=\"text-align: right;\">\n",
       "      <th></th>\n",
       "      <th>Method A</th>\n",
       "      <th>Method B</th>\n",
       "      <th>P</th>\n",
       "    </tr>\n",
       "  </thead>\n",
       "  <tbody>\n",
       "  </tbody>\n",
       "</table>\n",
       "</div>"
      ],
      "text/plain": [
       "Empty DataFrame\n",
       "Columns: [Method A, Method B, P]\n",
       "Index: []"
      ]
     },
     "metadata": {},
     "output_type": "display_data"
    },
    {
     "data": {
      "image/png": "[encoded data removed]",
      "text/plain": [
       "<matplotlib.figure.Figure at 0x11074ac18>"
      ]
     },
     "metadata": {},
     "output_type": "display_data"
    },
    {
     "data": {
      "text/markdown": [
       "## gg_13_8_otus_read level 6"
      ],
      "text/plain": [
       "<IPython.core.display.Markdown object>"
      ]
     },
     "metadata": {},
     "output_type": "display_data"
    },
    {
     "data": {
      "text/html": [
       "<div>\n",
       "<table border=\"1\" class=\"dataframe\">\n",
       "  <thead>\n",
       "    <tr style=\"text-align: right;\">\n",
       "      <th></th>\n",
       "      <th>Method</th>\n",
       "      <th>Parameters</th>\n",
       "      <th>Taxon Accuracy Rate</th>\n",
       "      <th>Taxon Detection Rate</th>\n",
       "      <th>Precision</th>\n",
       "      <th>Recall</th>\n",
       "      <th>F-measure</th>\n",
       "    </tr>\n",
       "  </thead>\n",
       "  <tbody>\n",
       "    <tr>\n",
       "      <th>0</th>\n",
       "      <td>nb-extra</td>\n",
       "      <td>0.001:prior:1024:[8,8]:l2:False:0.4</td>\n",
       "      <td>0.871071</td>\n",
       "      <td>0.787719</td>\n",
       "      <td>0.968602</td>\n",
       "      <td>0.969303</td>\n",
       "      <td>0.968952</td>\n",
       "    </tr>\n",
       "  </tbody>\n",
       "</table>\n",
       "</div>"
      ],
      "text/plain": [
       "     Method                           Parameters  Taxon Accuracy Rate  \\\n",
       "0  nb-extra  0.001:prior:1024:[8,8]:l2:False:0.4             0.871071   \n",
       "\n",
       "   Taxon Detection Rate  Precision    Recall  F-measure  \n",
       "0              0.787719   0.968602  0.969303   0.968952  "
      ]
     },
     "metadata": {},
     "output_type": "display_data"
    },
    {
     "data": {
      "text/html": [
       "<div>\n",
       "<table border=\"1\" class=\"dataframe\">\n",
       "  <thead>\n",
       "    <tr style=\"text-align: right;\">\n",
       "      <th></th>\n",
       "      <th>Method A</th>\n",
       "      <th>Method B</th>\n",
       "      <th>P</th>\n",
       "    </tr>\n",
       "  </thead>\n",
       "  <tbody>\n",
       "  </tbody>\n",
       "</table>\n",
       "</div>"
      ],
      "text/plain": [
       "Empty DataFrame\n",
       "Columns: [Method A, Method B, P]\n",
       "Index: []"
      ]
     },
     "metadata": {},
     "output_type": "display_data"
    },
    {
     "data": {
      "image/png": "[encoded data removed]",
      "text/plain": [
       "<matplotlib.figure.Figure at 0x10ff87400>"
      ]
     },
     "metadata": {},
     "output_type": "display_data"
    }
   ],
   "source": [
    "rank_optimized_method_performance_by_dataset(mock_results,\n",
    "                                             dataset=\"Reference\",\n",
    "                                             metric=\"F-measure\",\n",
    "                                             level_range=range(4,7),\n",
    "                                             display_fields=[\"Method\",\n",
    "                                                             \"Parameters\",\n",
    "                                                             \"Taxon Accuracy Rate\",\n",
    "                                                             \"Taxon Detection Rate\",\n",
    "                                                             \"Precision\",\n",
    "                                                             \"Recall\",\n",
    "                                                             \"F-measure\"],\n",
    "                                             paired=True,\n",
    "                                             parametric=True,\n",
    "                                             color=None,\n",
    "                                             color_pallette=color_pallette)"
   ]
  },
  {
   "cell_type": "code",
   "execution_count": 29,
   "metadata": {
    "collapsed": false,
    "scrolled": false
   },
   "outputs": [
    {
     "data": {
      "text/markdown": [
       "## gg_13_8_otus_amplicon level 6"
      ],
      "text/plain": [
       "<IPython.core.display.Markdown object>"
      ]
     },
     "metadata": {},
     "output_type": "display_data"
    },
    {
     "data": {
      "text/html": [
       "<div>\n",
       "<table border=\"1\" class=\"dataframe\">\n",
       "  <thead>\n",
       "    <tr style=\"text-align: right;\">\n",
       "      <th></th>\n",
       "      <th>Method</th>\n",
       "      <th>Parameters</th>\n",
       "      <th>Taxon Accuracy Rate</th>\n",
       "      <th>Taxon Detection Rate</th>\n",
       "      <th>Precision</th>\n",
       "      <th>Recall</th>\n",
       "      <th>F-measure</th>\n",
       "    </tr>\n",
       "  </thead>\n",
       "  <tbody>\n",
       "    <tr>\n",
       "      <th>0</th>\n",
       "      <td>naive-bayes</td>\n",
       "      <td>False:0.5</td>\n",
       "      <td>0.417742</td>\n",
       "      <td>0.462299</td>\n",
       "      <td>0.446536</td>\n",
       "      <td>0.499113</td>\n",
       "      <td>0.466559</td>\n",
       "    </tr>\n",
       "  </tbody>\n",
       "</table>\n",
       "</div>"
      ],
      "text/plain": [
       "        Method Parameters  Taxon Accuracy Rate  Taxon Detection Rate  \\\n",
       "0  naive-bayes  False:0.5             0.417742              0.462299   \n",
       "\n",
       "   Precision    Recall  F-measure  \n",
       "0   0.446536  0.499113   0.466559  "
      ]
     },
     "metadata": {},
     "output_type": "display_data"
    },
    {
     "data": {
      "text/html": [
       "<div>\n",
       "<table border=\"1\" class=\"dataframe\">\n",
       "  <thead>\n",
       "    <tr style=\"text-align: right;\">\n",
       "      <th></th>\n",
       "      <th>Method A</th>\n",
       "      <th>Method B</th>\n",
       "      <th>P</th>\n",
       "    </tr>\n",
       "  </thead>\n",
       "  <tbody>\n",
       "  </tbody>\n",
       "</table>\n",
       "</div>"
      ],
      "text/plain": [
       "Empty DataFrame\n",
       "Columns: [Method A, Method B, P]\n",
       "Index: []"
      ]
     },
     "metadata": {},
     "output_type": "display_data"
    },
    {
     "data": {
      "image/png": "[encoded data removed]",
      "text/plain": [
       "<matplotlib.figure.Figure at 0x11e634208>"
      ]
     },
     "metadata": {},
     "output_type": "display_data"
    },
    {
     "data": {
      "text/markdown": [
       "## gg_13_8_otus_read level 6"
      ],
      "text/plain": [
       "<IPython.core.display.Markdown object>"
      ]
     },
     "metadata": {},
     "output_type": "display_data"
    },
    {
     "data": {
      "text/html": [
       "<div>\n",
       "<table border=\"1\" class=\"dataframe\">\n",
       "  <thead>\n",
       "    <tr style=\"text-align: right;\">\n",
       "      <th></th>\n",
       "      <th>Method</th>\n",
       "      <th>Parameters</th>\n",
       "      <th>Taxon Accuracy Rate</th>\n",
       "      <th>Taxon Detection Rate</th>\n",
       "      <th>Precision</th>\n",
       "      <th>Recall</th>\n",
       "      <th>F-measure</th>\n",
       "    </tr>\n",
       "  </thead>\n",
       "  <tbody>\n",
       "    <tr>\n",
       "      <th>0</th>\n",
       "      <td>naive-bayes</td>\n",
       "      <td>False:0.5</td>\n",
       "      <td>0.439995</td>\n",
       "      <td>0.476584</td>\n",
       "      <td>0.666926</td>\n",
       "      <td>0.632364</td>\n",
       "      <td>0.648347</td>\n",
       "    </tr>\n",
       "  </tbody>\n",
       "</table>\n",
       "</div>"
      ],
      "text/plain": [
       "        Method Parameters  Taxon Accuracy Rate  Taxon Detection Rate  \\\n",
       "0  naive-bayes  False:0.5             0.439995              0.476584   \n",
       "\n",
       "   Precision    Recall  F-measure  \n",
       "0   0.666926  0.632364   0.648347  "
      ]
     },
     "metadata": {},
     "output_type": "display_data"
    },
    {
     "data": {
      "text/html": [
       "<div>\n",
       "<table border=\"1\" class=\"dataframe\">\n",
       "  <thead>\n",
       "    <tr style=\"text-align: right;\">\n",
       "      <th></th>\n",
       "      <th>Method A</th>\n",
       "      <th>Method B</th>\n",
       "      <th>P</th>\n",
       "    </tr>\n",
       "  </thead>\n",
       "  <tbody>\n",
       "  </tbody>\n",
       "</table>\n",
       "</div>"
      ],
      "text/plain": [
       "Empty DataFrame\n",
       "Columns: [Method A, Method B, P]\n",
       "Index: []"
      ]
     },
     "metadata": {},
     "output_type": "display_data"
    },
    {
     "data": {
      "image/png": "[encoded data removed]",
      "text/plain": [
       "<matplotlib.figure.Figure at 0x11e0c7d68>"
      ]
     },
     "metadata": {},
     "output_type": "display_data"
    }
   ],
   "source": [
    "rank_optimized_method_performance_by_dataset(mock_results,\n",
    "                                             dataset=\"Reference\",\n",
    "                                             metric=\"Taxon Accuracy Rate\",\n",
    "                                             level_range=range(6,7),\n",
    "                                             display_fields=[\"Method\",\n",
    "                                                             \"Parameters\",\n",
    "                                                             \"Taxon Accuracy Rate\",\n",
    "                                                             \"Taxon Detection Rate\",\n",
    "                                                             \"Precision\",\n",
    "                                                             \"Recall\",\n",
    "                                                             \"F-measure\"],\n",
    "                                             paired=True,\n",
    "                                             parametric=True,\n",
    "                                             color=None,\n",
    "                                             color_pallette=color_pallette)"
   ]
  },
  {
   "cell_type": "markdown",
   "metadata": {},
   "source": [
    "## Beta diversity method/parameter comparisons\n",
    "Principal coordinate analysis offers a neat way to assess the relative performance of multiple methods to reconstruct expected compositions. Methods that cluster with the \"expected\" composition probably outperform those that appear more distant on a PCoA plot. First, we need to merge biom tables from each method/parameter configuration for each dataset/reference/level combination, so that we can compare each method/parameter as a separate \"sample\".\n",
    "\n",
    "__*Note: if you have added additional methods and are attempting to recompute results, set force=True.*__\n"
   ]
  },
  {
   "cell_type": "code",
   "execution_count": null,
   "metadata": {
    "collapsed": true
   },
   "outputs": [],
   "source": [
    "merge_expected_and_observed_tables(expected_results_dir, results_dirs, taxonomy_level=6, force=False)"
   ]
  },
  {
   "cell_type": "markdown",
   "metadata": {},
   "source": [
    "Now we can manually select which table we want to view. This will output a Bray-Curtis PCoA plot, in addition to ANOSIM test results, which indicate whether at least two methods are significantly different from each other.\n",
    "\n",
    "These plots are useful for visualizing the relative performance of different methods and their configurations relative to each other and to expected compositions, but are primarily a qualitative technique and do not really give us an idea of whether method X actually performs better than method Y.\n",
    "\n",
    "__*Note that 2D plots will only appear if you are running notebooks locally. If viewing static notebooks online, make sure you are viewing this notebook in [nbviewer](http://nbviewer.jupyter.org/). (if viewing on GitHub, just copy the URL and paste into the search bar in nbviewer.)*__"
   ]
  },
  {
   "cell_type": "code",
   "execution_count": 195,
   "metadata": {
    "collapsed": false
   },
   "outputs": [
    {
     "name": "stdout",
     "output_type": "stream",
     "text": [
      "R =  0.107665960452 ; P =  0.02\n"
     ]
    },
    {
     "name": "stderr",
     "output_type": "stream",
     "text": [
      "/Users/nbokulich/miniconda3/envs/q2-test/lib/python3.5/site-packages/skbio/stats/ordination/_principal_coordinate_analysis.py:111: RuntimeWarning: The result contains negative eigenvalues. Please compare their magnitude with the magnitude of some of the largest positive eigenvalues. If the negative ones are smaller, it's probably safe to ignore them, but if they are large in magnitude, the results won't be useful. See the Notes section for more details. The smallest eigenvalue is -0.425058725719815 and the largest is 4.417440878355716.\n",
      "  RuntimeWarning\n"
     ]
    },
    {
     "data": {
      "text/html": [
       "\n",
       "    <div class=\"bk-root\">\n",
       "        <a href=\"http://bokeh.pydata.org\" target=\"_blank\" class=\"bk-logo bk-logo-small bk-logo-notebook\"></a>\n",
       "        <span id=\"724c5249-54e0-4ce3-829b-0c6ff95236e9\">Loading BokehJS ...</span>\n",
       "    </div>"
      ]
     },
     "metadata": {},
     "output_type": "display_data"
    },
    {
     "data": {
      "application/javascript": [
       "\n",
       "(function(global) {\n",
       "  function now() {\n",
       "    return new Date();\n",
       "  }\n",
       "\n",
       "  var force = true;\n",
       "\n",
       "  if (typeof (window._bokeh_onload_callbacks) === \"undefined\" || force === true) {\n",
       "    window._bokeh_onload_callbacks = [];\n",
       "    window._bokeh_is_loading = undefined;\n",
       "  }\n",
       "\n",
       "\n",
       "  \n",
       "  if (typeof (window._bokeh_timeout) === \"undefined\" || force === true) {\n",
       "    window._bokeh_timeout = Date.now() + 5000;\n",
       "    window._bokeh_failed_load = false;\n",
       "  }\n",
       "\n",
       "  var NB_LOAD_WARNING = {'data': {'text/html':\n",
       "     \"<div style='background-color: #fdd'>\\n\"+\n",
       "     \"<p>\\n\"+\n",
       "     \"BokehJS does not appear to have successfully loaded. If loading BokehJS from CDN, this \\n\"+\n",
       "     \"may be due to a slow or bad network connection. Possible fixes:\\n\"+\n",
       "     \"</p>\\n\"+\n",
       "     \"<ul>\\n\"+\n",
       "     \"<li>re-rerun `output_notebook()` to attempt to load from CDN again, or</li>\\n\"+\n",
       "     \"<li>use INLINE resources instead, as so:</li>\\n\"+\n",
       "     \"</ul>\\n\"+\n",
       "     \"<code>\\n\"+\n",
       "     \"from bokeh.resources import INLINE\\n\"+\n",
       "     \"output_notebook(resources=INLINE)\\n\"+\n",
       "     \"</code>\\n\"+\n",
       "     \"</div>\"}};\n",
       "\n",
       "  function display_loaded() {\n",
       "    if (window.Bokeh !== undefined) {\n",
       "      document.getElementById(\"724c5249-54e0-4ce3-829b-0c6ff95236e9\").textContent = \"BokehJS successfully loaded.\";\n",
       "    } else if (Date.now() < window._bokeh_timeout) {\n",
       "      setTimeout(display_loaded, 100)\n",
       "    }\n",
       "  }\n",
       "\n",
       "  function run_callbacks() {\n",
       "    window._bokeh_onload_callbacks.forEach(function(callback) { callback() });\n",
       "    delete window._bokeh_onload_callbacks\n",
       "    console.info(\"Bokeh: all callbacks have finished\");\n",
       "  }\n",
       "\n",
       "  function load_libs(js_urls, callback) {\n",
       "    window._bokeh_onload_callbacks.push(callback);\n",
       "    if (window._bokeh_is_loading > 0) {\n",
       "      console.log(\"Bokeh: BokehJS is being loaded, scheduling callback at\", now());\n",
       "      return null;\n",
       "    }\n",
       "    if (js_urls == null || js_urls.length === 0) {\n",
       "      run_callbacks();\n",
       "      return null;\n",
       "    }\n",
       "    console.log(\"Bokeh: BokehJS not loaded, scheduling load and callback at\", now());\n",
       "    window._bokeh_is_loading = js_urls.length;\n",
       "    for (var i = 0; i < js_urls.length; i++) {\n",
       "      var url = js_urls[i];\n",
       "      var s = document.createElement('script');\n",
       "      s.src = url;\n",
       "      s.async = false;\n",
       "      s.onreadystatechange = s.onload = function() {\n",
       "        window._bokeh_is_loading--;\n",
       "        if (window._bokeh_is_loading === 0) {\n",
       "          console.log(\"Bokeh: all BokehJS libraries loaded\");\n",
       "          run_callbacks()\n",
       "        }\n",
       "      };\n",
       "      s.onerror = function() {\n",
       "        console.warn(\"failed to load library \" + url);\n",
       "      };\n",
       "      console.log(\"Bokeh: injecting script tag for BokehJS library: \", url);\n",
       "      document.getElementsByTagName(\"head\")[0].appendChild(s);\n",
       "    }\n",
       "  };var element = document.getElementById(\"724c5249-54e0-4ce3-829b-0c6ff95236e9\");\n",
       "  if (element == null) {\n",
       "    console.log(\"Bokeh: ERROR: autoload.js configured with elementid '724c5249-54e0-4ce3-829b-0c6ff95236e9' but no matching script tag was found. \")\n",
       "    return false;\n",
       "  }\n",
       "\n",
       "  var js_urls = [\"https://cdn.pydata.org/bokeh/release/bokeh-0.12.4.min.js\", \"https://cdn.pydata.org/bokeh/release/bokeh-widgets-0.12.4.min.js\"];\n",
       "\n",
       "  var inline_js = [\n",
       "    function(Bokeh) {\n",
       "      Bokeh.set_log_level(\"info\");\n",
       "    },\n",
       "    \n",
       "    function(Bokeh) {\n",
       "      \n",
       "      document.getElementById(\"724c5249-54e0-4ce3-829b-0c6ff95236e9\").textContent = \"BokehJS is loading...\";\n",
       "    },\n",
       "    function(Bokeh) {\n",
       "      console.log(\"Bokeh: injecting CSS: https://cdn.pydata.org/bokeh/release/bokeh-0.12.4.min.css\");\n",
       "      Bokeh.embed.inject_css(\"https://cdn.pydata.org/bokeh/release/bokeh-0.12.4.min.css\");\n",
       "      console.log(\"Bokeh: injecting CSS: https://cdn.pydata.org/bokeh/release/bokeh-widgets-0.12.4.min.css\");\n",
       "      Bokeh.embed.inject_css(\"https://cdn.pydata.org/bokeh/release/bokeh-widgets-0.12.4.min.css\");\n",
       "    }\n",
       "  ];\n",
       "\n",
       "  function run_inline_js() {\n",
       "    \n",
       "    if ((window.Bokeh !== undefined) || (force === true)) {\n",
       "      for (var i = 0; i < inline_js.length; i++) {\n",
       "        inline_js[i](window.Bokeh);\n",
       "      }if (force === true) {\n",
       "        display_loaded();\n",
       "      }} else if (Date.now() < window._bokeh_timeout) {\n",
       "      setTimeout(run_inline_js, 100);\n",
       "    } else if (!window._bokeh_failed_load) {\n",
       "      console.log(\"Bokeh: BokehJS failed to load within specified timeout.\");\n",
       "      window._bokeh_failed_load = true;\n",
       "    } else if (force !== true) {\n",
       "      var cell = $(document.getElementById(\"724c5249-54e0-4ce3-829b-0c6ff95236e9\")).parents('.cell').data().cell;\n",
       "      cell.output_area.append_execute_result(NB_LOAD_WARNING)\n",
       "    }\n",
       "\n",
       "  }\n",
       "\n",
       "  if (window._bokeh_is_loading === 0) {\n",
       "    console.log(\"Bokeh: BokehJS loaded, going straight to plotting\");\n",
       "    run_inline_js();\n",
       "  } else {\n",
       "    load_libs(js_urls, function() {\n",
       "      console.log(\"Bokeh: BokehJS plotting callback run at\", now());\n",
       "      run_inline_js();\n",
       "    });\n",
       "  }\n",
       "}(this));"
      ]
     },
     "metadata": {},
     "output_type": "display_data"
    },
    {
     "data": {
      "text/html": [
       "\n",
       "\n",
       "    <div class=\"bk-root\">\n",
       "        <div class=\"bk-plotdiv\" id=\"ff49596c-2a11-4fb4-8523-92e927ed0c72\"></div>\n",
       "    </div>\n",
       "<script type=\"text/javascript\">\n",
       "  \n",
       "  (function(global) {\n",
       "    function now() {\n",
       "      return new Date();\n",
       "    }\n",
       "  \n",
       "    var force = false;\n",
       "  \n",
       "    if (typeof (window._bokeh_onload_callbacks) === \"undefined\" || force === true) {\n",
       "      window._bokeh_onload_callbacks = [];\n",
       "      window._bokeh_is_loading = undefined;\n",
       "    }\n",
       "  \n",
       "  \n",
       "    \n",
       "    if (typeof (window._bokeh_timeout) === \"undefined\" || force === true) {\n",
       "      window._bokeh_timeout = Date.now() + 0;\n",
       "      window._bokeh_failed_load = false;\n",
       "    }\n",
       "  \n",
       "    var NB_LOAD_WARNING = {'data': {'text/html':\n",
       "       \"<div style='background-color: #fdd'>\\n\"+\n",
       "       \"<p>\\n\"+\n",
       "       \"BokehJS does not appear to have successfully loaded. If loading BokehJS from CDN, this \\n\"+\n",
       "       \"may be due to a slow or bad network connection. Possible fixes:\\n\"+\n",
       "       \"</p>\\n\"+\n",
       "       \"<ul>\\n\"+\n",
       "       \"<li>re-rerun `output_notebook()` to attempt to load from CDN again, or</li>\\n\"+\n",
       "       \"<li>use INLINE resources instead, as so:</li>\\n\"+\n",
       "       \"</ul>\\n\"+\n",
       "       \"<code>\\n\"+\n",
       "       \"from bokeh.resources import INLINE\\n\"+\n",
       "       \"output_notebook(resources=INLINE)\\n\"+\n",
       "       \"</code>\\n\"+\n",
       "       \"</div>\"}};\n",
       "  \n",
       "    function display_loaded() {\n",
       "      if (window.Bokeh !== undefined) {\n",
       "        document.getElementById(\"ff49596c-2a11-4fb4-8523-92e927ed0c72\").textContent = \"BokehJS successfully loaded.\";\n",
       "      } else if (Date.now() < window._bokeh_timeout) {\n",
       "        setTimeout(display_loaded, 100)\n",
       "      }\n",
       "    }\n",
       "  \n",
       "    function run_callbacks() {\n",
       "      window._bokeh_onload_callbacks.forEach(function(callback) { callback() });\n",
       "      delete window._bokeh_onload_callbacks\n",
       "      console.info(\"Bokeh: all callbacks have finished\");\n",
       "    }\n",
       "  \n",
       "    function load_libs(js_urls, callback) {\n",
       "      window._bokeh_onload_callbacks.push(callback);\n",
       "      if (window._bokeh_is_loading > 0) {\n",
       "        console.log(\"Bokeh: BokehJS is being loaded, scheduling callback at\", now());\n",
       "        return null;\n",
       "      }\n",
       "      if (js_urls == null || js_urls.length === 0) {\n",
       "        run_callbacks();\n",
       "        return null;\n",
       "      }\n",
       "      console.log(\"Bokeh: BokehJS not loaded, scheduling load and callback at\", now());\n",
       "      window._bokeh_is_loading = js_urls.length;\n",
       "      for (var i = 0; i < js_urls.length; i++) {\n",
       "        var url = js_urls[i];\n",
       "        var s = document.createElement('script');\n",
       "        s.src = url;\n",
       "        s.async = false;\n",
       "        s.onreadystatechange = s.onload = function() {\n",
       "          window._bokeh_is_loading--;\n",
       "          if (window._bokeh_is_loading === 0) {\n",
       "            console.log(\"Bokeh: all BokehJS libraries loaded\");\n",
       "            run_callbacks()\n",
       "          }\n",
       "        };\n",
       "        s.onerror = function() {\n",
       "          console.warn(\"failed to load library \" + url);\n",
       "        };\n",
       "        console.log(\"Bokeh: injecting script tag for BokehJS library: \", url);\n",
       "        document.getElementsByTagName(\"head\")[0].appendChild(s);\n",
       "      }\n",
       "    };var element = document.getElementById(\"ff49596c-2a11-4fb4-8523-92e927ed0c72\");\n",
       "    if (element == null) {\n",
       "      console.log(\"Bokeh: ERROR: autoload.js configured with elementid 'ff49596c-2a11-4fb4-8523-92e927ed0c72' but no matching script tag was found. \")\n",
       "      return false;\n",
       "    }\n",
       "  \n",
       "    var js_urls = [];\n",
       "  \n",
       "    var inline_js = [\n",
       "      function(Bokeh) {\n",
       "        (function() {\n",
       "          var fn = function() {\n",
       "            var docs_json = {\"11ca990e-8e17-47eb-9f4a-3e879dc0945b\":{\"roots\":{\"references\":[{\"attributes\":{\"active_drag\":\"auto\",\"active_scroll\":\"auto\",\"active_tap\":\"auto\",\"tools\":[{\"id\":\"90091b4b-118f-436c-a9d6-d145043d2c07\",\"type\":\"HoverTool\"},{\"id\":\"51bae6ce-e1da-4515-b426-0da38739f6bc\",\"type\":\"WheelZoomTool\"},{\"id\":\"1895cce2-5d2e-4afe-aaa5-4b8241798517\",\"type\":\"PanTool\"},{\"id\":\"15a05237-511a-4288-846b-aecdda3588ce\",\"type\":\"ResetTool\"},{\"id\":\"60616ef8-4335-4dd3-8593-74d184959ee8\",\"type\":\"SaveTool\"}]},\"id\":\"b8cf3ddc-b9d6-4784-9a43-8e1806045212\",\"type\":\"Toolbar\"},{\"attributes\":{},\"id\":\"03b361b5-c30b-41bb-8000-126aedaefc2f\",\"type\":\"ToolEvents\"},{\"attributes\":{\"plot\":null,\"text\":\"gg_13_8_otus\"},\"id\":\"134396c6-173a-4f04-ba63-8b7c0b624a05\",\"type\":\"Title\"},{\"attributes\":{\"callback\":null},\"id\":\"178a2c54-254d-426c-b2c6-c174f9c8bdb3\",\"type\":\"DataRange1d\"},{\"attributes\":{},\"id\":\"2c4e7486-d538-476f-8035-c2f672b6f55b\",\"type\":\"BasicTickFormatter\"},{\"attributes\":{},\"id\":\"9b61be8e-4b07-4b8b-bcc5-325f8bc8977b\",\"type\":\"BasicTickFormatter\"},{\"attributes\":{\"axis_label\":\"PC 2 (0.18)\",\"formatter\":{\"id\":\"9b61be8e-4b07-4b8b-bcc5-325f8bc8977b\",\"type\":\"BasicTickFormatter\"},\"plot\":{\"id\":\"1d64152b-91f6-4400-b912-048bbaf610e2\",\"subtype\":\"Figure\",\"type\":\"Plot\"},\"ticker\":{\"id\":\"4a004e67-1a40-4cd6-9a4e-aeaad8390b3f\",\"type\":\"BasicTicker\"}},\"id\":\"f3a771ff-e6c0-470e-bca1-890f470b97da\",\"type\":\"LinearAxis\"},{\"attributes\":{\"fill_alpha\":{\"value\":0.2},\"fill_color\":{\"field\":\"Color\"},\"line_color\":{\"field\":\"Color\"},\"size\":{\"units\":\"screen\",\"value\":10},\"x\":{\"field\":\"PC1\"},\"y\":{\"field\":\"PC2\"}},\"id\":\"80d1b1d2-2380-4ed8-8de5-2a285f77a06b\",\"type\":\"Circle\"},{\"attributes\":{\"axis_label\":\"PC 1 (0.34)\",\"formatter\":{\"id\":\"2c4e7486-d538-476f-8035-c2f672b6f55b\",\"type\":\"BasicTickFormatter\"},\"plot\":{\"id\":\"1d64152b-91f6-4400-b912-048bbaf610e2\",\"subtype\":\"Figure\",\"type\":\"Plot\"},\"ticker\":{\"id\":\"c858e605-d32d-451a-829c-cce1545403b4\",\"type\":\"BasicTicker\"}},\"id\":\"2b0a9a27-4f0b-45b4-ab81-70ac7742f89d\",\"type\":\"LinearAxis\"},{\"attributes\":{\"below\":[{\"id\":\"2b0a9a27-4f0b-45b4-ab81-70ac7742f89d\",\"type\":\"LinearAxis\"}],\"left\":[{\"id\":\"f3a771ff-e6c0-470e-bca1-890f470b97da\",\"type\":\"LinearAxis\"}],\"plot_height\":400,\"plot_width\":400,\"renderers\":[{\"id\":\"2b0a9a27-4f0b-45b4-ab81-70ac7742f89d\",\"type\":\"LinearAxis\"},{\"id\":\"932368d3-8d31-4b94-97d6-dafc4c2c9ccf\",\"type\":\"Grid\"},{\"id\":\"f3a771ff-e6c0-470e-bca1-890f470b97da\",\"type\":\"LinearAxis\"},{\"id\":\"25fe4263-4906-4876-988a-1fbd9d810f76\",\"type\":\"Grid\"},{\"id\":\"4ef52b54-4c83-466f-8b36-3cfda3adb774\",\"type\":\"GlyphRenderer\"}],\"title\":{\"id\":\"134396c6-173a-4f04-ba63-8b7c0b624a05\",\"type\":\"Title\"},\"tool_events\":{\"id\":\"03b361b5-c30b-41bb-8000-126aedaefc2f\",\"type\":\"ToolEvents\"},\"toolbar\":{\"id\":\"b8cf3ddc-b9d6-4784-9a43-8e1806045212\",\"type\":\"Toolbar\"},\"x_range\":{\"id\":\"178a2c54-254d-426c-b2c6-c174f9c8bdb3\",\"type\":\"DataRange1d\"},\"y_range\":{\"id\":\"c0c6ca76-90fd-4a63-ac4d-2e18f59c325a\",\"type\":\"DataRange1d\"}},\"id\":\"1d64152b-91f6-4400-b912-048bbaf610e2\",\"subtype\":\"Figure\",\"type\":\"Plot\"},{\"attributes\":{\"callback\":null},\"id\":\"c0c6ca76-90fd-4a63-ac4d-2e18f59c325a\",\"type\":\"DataRange1d\"},{\"attributes\":{\"callback\":null,\"column_names\":[\"PC1\",\"Color\",\"params\",\"dataset\",\"method\",\"reference\",\"PC2\",\"sample_id\",\"index\",\"PC3\"],\"data\":{\"Color\":[\"black\",\"indigo\",\"indigo\",\"#aa23ff\",\"#aa23ff\",\"#aa23ff\",\"#aa23ff\",\"#aa23ff\",\"#aa23ff\",\"#aa23ff\",\"#aa23ff\",\"#aa23ff\",\"#aa23ff\",\"#aa23ff\",\"#aa23ff\",\"#aa23ff\",\"#aa23ff\",\"#aa23ff\",\"#aa23ff\",\"#aa23ff\",\"#aa23ff\",\"#aa23ff\",\"#aa23ff\",\"#aa23ff\",\"#aa23ff\",\"#aa23ff\",\"#aa23ff\",\"#aa23ff\",\"#aa23ff\",\"#aa23ff\",\"#889717\",\"#889717\",\"#889717\",\"#889717\",\"#889717\",\"#889717\",\"#889717\",\"#889717\",\"#889717\",\"#889717\",\"#889717\",\"#efb435\",\"#efb435\",\"#efb435\",\"#efb435\",\"#efb435\",\"#efb435\",\"#efb435\",\"#efb435\",\"coral\",\"coral\",\"coral\",\"coral\",\"coral\",\"coral\",\"coral\",\"coral\",\"coral\",\"coral\",\"coral\",\"coral\",\"coral\",\"coral\",\"coral\",\"coral\",\"coral\",\"coral\",\"coral\",\"coral\",\"coral\",\"coral\",\"coral\",\"coral\",\"coral\",\"coral\",\"coral\",\"firebrick\",\"firebrick\",\"firebrick\",\"firebrick\",\"firebrick\",\"firebrick\",\"firebrick\",\"firebrick\",\"firebrick\",\"firebrick\",\"firebrick\",\"firebrick\",\"firebrick\",\"firebrick\",\"firebrick\",\"firebrick\",\"firebrick\",\"firebrick\",\"firebrick\",\"firebrick\",\"firebrick\",\"firebrick\",\"firebrick\",\"firebrick\",\"firebrick\",\"firebrick\",\"firebrick\",\"firebrick\",\"firebrick\",\"firebrick\",\"firebrick\",\"firebrick\",\"firebrick\",\"firebrick\",\"firebrick\",\"firebrick\"],\"PC1\":[0.1771568351698061,0.1469669954521014,0.1469669954521014,0.14754974808191407,0.14329236562838676,0.14449005578160115,0.14754974808191407,0.14329236562838685,0.14449005578160115,0.14754974808191412,0.14329236562838685,0.14449005578160115,-0.0006220234034637081,0.009777539055998414,0.08013534192745185,-0.11987367436139117,-0.09133741165728966,0.006374986580124403,-0.43117838437845035,-0.3692055585553938,-0.23425426147129477,0.06006360997430035,0.10305892848021952,0.14766109580450368,-0.29263475098505237,-0.04791310820731032,0.05063472727196554,-0.5578283645087758,-0.4454000723247622,-0.2929118638744092,0.1733371994088761,0.17295134739412032,0.1724823511167261,0.17228812636587795,0.17281745299258477,0.1895560745571975,-0.0029953992383683495,-0.09551531714463783,-0.09861279985663378,-0.13222539694212354,-0.2258204962978154,0.16823856182546604,0.08199927439320544,0.16359755120978783,0.16328195346676957,0.16823856182546604,-0.2920033729398978,0.16359755120978786,-0.16153979901471632,0.18067617919486195,0.1551514062777533,0.15427316094328947,0.13187846075982035,0.04671144353449288,-0.01539251306909818,0.17574632141935884,0.18904150656614102,0.18904150656614102,0.18067617919486195,-0.15234337321564084,0.05185961980877487,0.13187846075982035,-0.08785013707401616,-0.01109493197173496,0.17574632141935884,0.10529533038499637,0.20695079566793798,0.18067617919486195,-0.15234337321564087,-0.2471178211286548,0.13187846075982035,-0.08785013707401616,-0.0911719176238174,0.17574632141935884,0.10529533038499637,-0.1929851085889925,0.1616149444448254,0.156509759754605,0.156509759754605,0.156509759754605,0.16161494444482538,0.156509759754605,0.156509759754605,0.156509759754605,0.16161494444482538,0.156509759754605,0.15650975975460502,0.15650975975460502,0.0505594540066372,0.05066509412030166,-0.056449484556104115,0.07522705578676618,-0.16327116738334352,-0.1798114083002538,-0.12714696869284986,-0.02550409616497395,-0.4486505977626858,-0.44859510848027717,-0.3851046362361009,-0.24418998179498644,0.045934431041102765,0.07718356376782808,0.023127586131559637,0.14209724849148078,-0.2972935829003366,-0.28089523855473664,-0.05644948455610412,0.04084515808078999,-0.530894759012761,-0.45768979281639643,-0.3678712462577544,-0.26493589462611694],\"PC2\":[-0.2573601267117999,-0.11769774564822026,-0.11769774564821975,-0.11468919087385056,-0.11839486108263166,-0.1121391544691316,-0.11468919087385036,-0.11839486108263185,-0.11213915446913161,-0.11468919087385036,-0.11839486108263185,-0.11213915446913161,0.22820151136504627,0.1614360150807955,0.011736646859746354,0.24034084900767747,0.15429455939046563,0.025853500855592598,-0.012833171261224505,-0.05892595422841693,-0.1982414506467855,0.3491827714085211,0.1877663442739586,0.016593118034084402,0.2097353357074763,0.18821031140040348,0.05395505959283824,-0.04528549177920771,-0.12537391959512365,-0.2641710373203094,-0.04314841430536265,-0.04300375705420977,-0.04295107826155945,-0.0429221859756034,-0.04298881937435611,-0.03407985972596993,-0.29753900595093147,-0.2360724266080429,-0.2461914659968248,-0.2651241429182746,-0.364397182340927,-0.015702907791180006,0.11847947299719515,-0.016538444715071095,-0.009805421715743756,-0.015702907791179978,-0.1197134689245526,-0.016538444715071085,-0.25265458562497156,-0.05703012494777245,0.16018890059286803,0.17023534703948887,-0.1096142647066802,0.14844203223668356,0.13468062858513785,-0.017240860707754532,-0.009166171348255972,-0.009166171348255972,-0.057030124947772466,-0.011428617415507348,0.09860946479068054,-0.1096142647066802,-0.009959432626010125,0.13891494067141025,-0.01724086070775454,-0.1533434362092588,0.008590767384967902,-0.05703012494777245,-0.011428617415507351,0.0218457545648699,-0.1096142647066802,-0.009959432626010113,-0.007513480723275758,-0.017240860707754508,-0.15334343620925878,-0.29061560797776337,0.012715381212142312,0.008791326950043062,0.008791326950043062,0.008791326950043062,0.012715381212142307,0.008791326950043081,0.008791326950043081,0.008791326950043081,0.012715381212142307,0.008791326950043072,0.008791326950043081,0.008791326950043081,0.18650359187216423,0.18642600455291194,0.19104612417121067,0.024388021689463718,0.2248070803863342,0.2223370927111737,0.15477210489907994,0.031998278174097096,-0.012145316862859426,-0.01218457744417717,-0.06248661102201882,-0.18758638407537745,0.3679403295156648,0.34073567292475104,0.23119170415169826,0.03919317676573069,0.19968818426659207,0.17175285223113645,0.19104612417121056,0.06993009629017305,0.18702696769377794,0.09632821777056823,-0.014372526405600996,-0.2169866895627224],\"PC3\":[-0.14644075269515683,0.008280184541176175,0.008280184541176504,0.009215923032503466,0.019180435189444345,0.020727013417218696,0.00921592303250365,0.019180435189444286,0.020727013417218457,0.009215923032503546,0.01918043518944435,0.020727013417218342,0.027135875364808475,0.049883019471662814,0.013033580650467926,0.06905539893326726,0.08596675725524633,-0.004132653328576232,0.1347325970878668,0.16196111927290313,0.05969549742333475,-0.18171972702632433,0.02103206046683749,0.011696336264611947,0.09240841504695484,0.10855609626434609,0.02484707037873625,-0.553134704118412,0.053899547121424946,-0.018046671052829106,-0.06456244401269093,-0.06439882710851695,-0.06415221938802777,-0.0641279243571157,-0.06396929064119991,-0.08422918559523876,0.025015386811023197,0.0435454719146055,0.024261764866526103,0.028011845587869753,-0.021291986036894174,-0.005623446373281083,0.08069342999661842,0.004758040142663755,0.007200853110994938,-0.005623446373281076,0.1318818563020092,0.004758040142663769,0.04218326625965238,-0.07372499193751579,-0.009671867636268707,-0.009532421533662686,-0.0074319340556572265,0.08619670239823682,0.0726157959093774,-0.03442952945052019,-0.050923885021969505,-0.050923885021969505,-0.0737249919375158,0.06687539743077447,-0.1099239977775031,-0.007431934055657232,0.1806357744310774,0.08301425838291875,-0.03442952945052019,-0.13857530102848886,-0.0641030665582542,-0.07372499193751579,0.06687539743077453,0.08507675640536906,-0.007431934055657215,0.18063577443107745,0.17944685192023796,-0.03442952945052017,-0.1385753010284888,-0.05707054060620861,0.0006207740721768543,0.0073216350556854284,0.0073216350556854284,0.0073216350556854284,0.0006207740721768368,0.007321635055685432,0.007321635055685432,0.007321635055685432,0.0006207740721768361,0.007321635055685435,0.007321635055685433,0.007321635055685433,0.003967530836516898,0.004205556394787017,0.10333477785075067,0.009280721064811946,0.029471409384475997,0.017188243390801338,0.06126987701071248,-0.0221658898563155,0.05666847359194395,0.056904280299178024,0.08932248313917357,0.0426135286834269,-0.16189048268948364,-0.0943304213194632,0.09056304725588002,0.012618422729093805,0.01993624427057225,0.06305800879687366,0.1033347778507507,0.024448671313831542,-0.3299926785300914,-0.4764315148381869,0.09185888779812407,-0.016994600371223748],\"dataset\":[\"mock-18\",\"mock-18\",\"mock-18\",\"mock-18\",\"mock-18\",\"mock-18\",\"mock-18\",\"mock-18\",\"mock-18\",\"mock-18\",\"mock-18\",\"mock-18\",\"mock-18\",\"mock-18\",\"mock-18\",\"mock-18\",\"mock-18\",\"mock-18\",\"mock-18\",\"mock-18\",\"mock-18\",\"mock-18\",\"mock-18\",\"mock-18\",\"mock-18\",\"mock-18\",\"mock-18\",\"mock-18\",\"mock-18\",\"mock-18\",\"mock-18\",\"mock-18\",\"mock-18\",\"mock-18\",\"mock-18\",\"mock-18\",\"mock-18\",\"mock-18\",\"mock-18\",\"mock-18\",\"mock-18\",\"mock-18\",\"mock-18\",\"mock-18\",\"mock-18\",\"mock-18\",\"mock-18\",\"mock-18\",\"mock-18\",\"mock-18\",\"mock-18\",\"mock-18\",\"mock-18\",\"mock-18\",\"mock-18\",\"mock-18\",\"mock-18\",\"mock-18\",\"mock-18\",\"mock-18\",\"mock-18\",\"mock-18\",\"mock-18\",\"mock-18\",\"mock-18\",\"mock-18\",\"mock-18\",\"mock-18\",\"mock-18\",\"mock-18\",\"mock-18\",\"mock-18\",\"mock-18\",\"mock-18\",\"mock-18\",\"mock-18\",\"mock-18\",\"mock-18\",\"mock-18\",\"mock-18\",\"mock-18\",\"mock-18\",\"mock-18\",\"mock-18\",\"mock-18\",\"mock-18\",\"mock-18\",\"mock-18\",\"mock-18\",\"mock-18\",\"mock-18\",\"mock-18\",\"mock-18\",\"mock-18\",\"mock-18\",\"mock-18\",\"mock-18\",\"mock-18\",\"mock-18\",\"mock-18\",\"mock-18\",\"mock-18\",\"mock-18\",\"mock-18\",\"mock-18\",\"mock-18\",\"mock-18\",\"mock-18\",\"mock-18\",\"mock-18\",\"mock-18\",\"mock-18\"],\"index\":[\"expected_expected_mock.1\",\"blast_1000_mock.1\",\"blast_1e-10_mock.1\",\"blast+_0.001:1:0.51:0.8_mock.1\",\"blast+_0.001:1:0.51:0.97_mock.1\",\"blast+_0.001:1:0.51:0.99_mock.1\",\"blast+_0.001:1:0.75:0.8_mock.1\",\"blast+_0.001:1:0.75:0.97_mock.1\",\"blast+_0.001:1:0.75:0.99_mock.1\",\"blast+_0.001:1:0.99:0.8_mock.1\",\"blast+_0.001:1:0.99:0.97_mock.1\",\"blast+_0.001:1:0.99:0.99_mock.1\",\"blast+_0.001:10:0.51:0.8_mock.1\",\"blast+_0.001:10:0.51:0.97_mock.1\",\"blast+_0.001:10:0.51:0.99_mock.1\",\"blast+_0.001:10:0.75:0.8_mock.1\",\"blast+_0.001:10:0.75:0.97_mock.1\",\"blast+_0.001:10:0.75:0.99_mock.1\",\"blast+_0.001:10:0.99:0.8_mock.1\",\"blast+_0.001:10:0.99:0.97_mock.1\",\"blast+_0.001:10:0.99:0.99_mock.1\",\"blast+_0.001:100:0.51:0.8_mock.1\",\"blast+_0.001:100:0.51:0.97_mock.1\",\"blast+_0.001:100:0.51:0.99_mock.1\",\"blast+_0.001:100:0.75:0.8_mock.1\",\"blast+_0.001:100:0.75:0.97_mock.1\",\"blast+_0.001:100:0.75:0.99_mock.1\",\"blast+_0.001:100:0.99:0.8_mock.1\",\"blast+_0.001:100:0.99:0.97_mock.1\",\"blast+_0.001:100:0.99:0.99_mock.1\",\"rdp_0.0_mock.1\",\"rdp_0.1_mock.1\",\"rdp_0.2_mock.1\",\"rdp_0.3_mock.1\",\"rdp_0.4_mock.1\",\"rdp_0.5_mock.1\",\"rdp_0.6_mock.1\",\"rdp_0.7_mock.1\",\"rdp_0.8_mock.1\",\"rdp_0.9_mock.1\",\"rdp_1.0_mock.1\",\"sortmerna_0.51:0.9:1:0.9:1.0_mock.1\",\"sortmerna_0.51:0.9:5:0.9:1.0_mock.1\",\"sortmerna_0.51:0.99:1:0.9:1.0_mock.1\",\"sortmerna_0.51:0.99:5:0.9:1.0_mock.1\",\"sortmerna_1.0:0.9:1:0.9:1.0_mock.1\",\"sortmerna_1.0:0.9:5:0.9:1.0_mock.1\",\"sortmerna_1.0:0.99:1:0.9:1.0_mock.1\",\"sortmerna_1.0:0.99:5:0.9:1.0_mock.1\",\"uclust_0.51:0.9:1_mock.1\",\"uclust_0.51:0.9:3_mock.1\",\"uclust_0.51:0.9:5_mock.1\",\"uclust_0.51:0.97:1_mock.1\",\"uclust_0.51:0.97:3_mock.1\",\"uclust_0.51:0.97:5_mock.1\",\"uclust_0.51:0.99:1_mock.1\",\"uclust_0.51:0.99:3_mock.1\",\"uclust_0.51:0.99:5_mock.1\",\"uclust_0.76:0.9:1_mock.1\",\"uclust_0.76:0.9:3_mock.1\",\"uclust_0.76:0.9:5_mock.1\",\"uclust_0.76:0.97:1_mock.1\",\"uclust_0.76:0.97:3_mock.1\",\"uclust_0.76:0.97:5_mock.1\",\"uclust_0.76:0.99:1_mock.1\",\"uclust_0.76:0.99:3_mock.1\",\"uclust_0.76:0.99:5_mock.1\",\"uclust_1.0:0.9:1_mock.1\",\"uclust_1.0:0.9:3_mock.1\",\"uclust_1.0:0.9:5_mock.1\",\"uclust_1.0:0.97:1_mock.1\",\"uclust_1.0:0.97:3_mock.1\",\"uclust_1.0:0.97:5_mock.1\",\"uclust_1.0:0.99:1_mock.1\",\"uclust_1.0:0.99:3_mock.1\",\"uclust_1.0:0.99:5_mock.1\",\"vsearch_1:0.51:0.8_mock.1\",\"vsearch_1:0.51:0.9_mock.1\",\"vsearch_1:0.51:0.97_mock.1\",\"vsearch_1:0.51:0.99_mock.1\",\"vsearch_1:0.75:0.8_mock.1\",\"vsearch_1:0.75:0.9_mock.1\",\"vsearch_1:0.75:0.97_mock.1\",\"vsearch_1:0.75:0.99_mock.1\",\"vsearch_1:0.99:0.8_mock.1\",\"vsearch_1:0.99:0.9_mock.1\",\"vsearch_1:0.99:0.97_mock.1\",\"vsearch_1:0.99:0.99_mock.1\",\"vsearch_10:0.51:0.8_mock.1\",\"vsearch_10:0.51:0.9_mock.1\",\"vsearch_10:0.51:0.97_mock.1\",\"vsearch_10:0.51:0.99_mock.1\",\"vsearch_10:0.75:0.8_mock.1\",\"vsearch_10:0.75:0.9_mock.1\",\"vsearch_10:0.75:0.97_mock.1\",\"vsearch_10:0.75:0.99_mock.1\",\"vsearch_10:0.99:0.8_mock.1\",\"vsearch_10:0.99:0.9_mock.1\",\"vsearch_10:0.99:0.97_mock.1\",\"vsearch_10:0.99:0.99_mock.1\",\"vsearch_100:0.51:0.8_mock.1\",\"vsearch_100:0.51:0.9_mock.1\",\"vsearch_100:0.51:0.97_mock.1\",\"vsearch_100:0.51:0.99_mock.1\",\"vsearch_100:0.75:0.8_mock.1\",\"vsearch_100:0.75:0.9_mock.1\",\"vsearch_100:0.75:0.97_mock.1\",\"vsearch_100:0.75:0.99_mock.1\",\"vsearch_100:0.99:0.8_mock.1\",\"vsearch_100:0.99:0.9_mock.1\",\"vsearch_100:0.99:0.97_mock.1\",\"vsearch_100:0.99:0.99_mock.1\"],\"method\":[\"expected\",\"blast\",\"blast\",\"blast+\",\"blast+\",\"blast+\",\"blast+\",\"blast+\",\"blast+\",\"blast+\",\"blast+\",\"blast+\",\"blast+\",\"blast+\",\"blast+\",\"blast+\",\"blast+\",\"blast+\",\"blast+\",\"blast+\",\"blast+\",\"blast+\",\"blast+\",\"blast+\",\"blast+\",\"blast+\",\"blast+\",\"blast+\",\"blast+\",\"blast+\",\"rdp\",\"rdp\",\"rdp\",\"rdp\",\"rdp\",\"rdp\",\"rdp\",\"rdp\",\"rdp\",\"rdp\",\"rdp\",\"sortmerna\",\"sortmerna\",\"sortmerna\",\"sortmerna\",\"sortmerna\",\"sortmerna\",\"sortmerna\",\"sortmerna\",\"uclust\",\"uclust\",\"uclust\",\"uclust\",\"uclust\",\"uclust\",\"uclust\",\"uclust\",\"uclust\",\"uclust\",\"uclust\",\"uclust\",\"uclust\",\"uclust\",\"uclust\",\"uclust\",\"uclust\",\"uclust\",\"uclust\",\"uclust\",\"uclust\",\"uclust\",\"uclust\",\"uclust\",\"uclust\",\"uclust\",\"uclust\",\"vsearch\",\"vsearch\",\"vsearch\",\"vsearch\",\"vsearch\",\"vsearch\",\"vsearch\",\"vsearch\",\"vsearch\",\"vsearch\",\"vsearch\",\"vsearch\",\"vsearch\",\"vsearch\",\"vsearch\",\"vsearch\",\"vsearch\",\"vsearch\",\"vsearch\",\"vsearch\",\"vsearch\",\"vsearch\",\"vsearch\",\"vsearch\",\"vsearch\",\"vsearch\",\"vsearch\",\"vsearch\",\"vsearch\",\"vsearch\",\"vsearch\",\"vsearch\",\"vsearch\",\"vsearch\",\"vsearch\",\"vsearch\"],\"params\":[\"expected\",\"1000\",\"1e-10\",\"0.001:1:0.51:0.8\",\"0.001:1:0.51:0.97\",\"0.001:1:0.51:0.99\",\"0.001:1:0.75:0.8\",\"0.001:1:0.75:0.97\",\"0.001:1:0.75:0.99\",\"0.001:1:0.99:0.8\",\"0.001:1:0.99:0.97\",\"0.001:1:0.99:0.99\",\"0.001:10:0.51:0.8\",\"0.001:10:0.51:0.97\",\"0.001:10:0.51:0.99\",\"0.001:10:0.75:0.8\",\"0.001:10:0.75:0.97\",\"0.001:10:0.75:0.99\",\"0.001:10:0.99:0.8\",\"0.001:10:0.99:0.97\",\"0.001:10:0.99:0.99\",\"0.001:100:0.51:0.8\",\"0.001:100:0.51:0.97\",\"0.001:100:0.51:0.99\",\"0.001:100:0.75:0.8\",\"0.001:100:0.75:0.97\",\"0.001:100:0.75:0.99\",\"0.001:100:0.99:0.8\",\"0.001:100:0.99:0.97\",\"0.001:100:0.99:0.99\",\"0.0\",\"0.1\",\"0.2\",\"0.3\",\"0.4\",\"0.5\",\"0.6\",\"0.7\",\"0.8\",\"0.9\",\"1.0\",\"0.51:0.9:1:0.9:1.0\",\"0.51:0.9:5:0.9:1.0\",\"0.51:0.99:1:0.9:1.0\",\"0.51:0.99:5:0.9:1.0\",\"1.0:0.9:1:0.9:1.0\",\"1.0:0.9:5:0.9:1.0\",\"1.0:0.99:1:0.9:1.0\",\"1.0:0.99:5:0.9:1.0\",\"0.51:0.9:1\",\"0.51:0.9:3\",\"0.51:0.9:5\",\"0.51:0.97:1\",\"0.51:0.97:3\",\"0.51:0.97:5\",\"0.51:0.99:1\",\"0.51:0.99:3\",\"0.51:0.99:5\",\"0.76:0.9:1\",\"0.76:0.9:3\",\"0.76:0.9:5\",\"0.76:0.97:1\",\"0.76:0.97:3\",\"0.76:0.97:5\",\"0.76:0.99:1\",\"0.76:0.99:3\",\"0.76:0.99:5\",\"1.0:0.9:1\",\"1.0:0.9:3\",\"1.0:0.9:5\",\"1.0:0.97:1\",\"1.0:0.97:3\",\"1.0:0.97:5\",\"1.0:0.99:1\",\"1.0:0.99:3\",\"1.0:0.99:5\",\"1:0.51:0.8\",\"1:0.51:0.9\",\"1:0.51:0.97\",\"1:0.51:0.99\",\"1:0.75:0.8\",\"1:0.75:0.9\",\"1:0.75:0.97\",\"1:0.75:0.99\",\"1:0.99:0.8\",\"1:0.99:0.9\",\"1:0.99:0.97\",\"1:0.99:0.99\",\"10:0.51:0.8\",\"10:0.51:0.9\",\"10:0.51:0.97\",\"10:0.51:0.99\",\"10:0.75:0.8\",\"10:0.75:0.9\",\"10:0.75:0.97\",\"10:0.75:0.99\",\"10:0.99:0.8\",\"10:0.99:0.9\",\"10:0.99:0.97\",\"10:0.99:0.99\",\"100:0.51:0.8\",\"100:0.51:0.9\",\"100:0.51:0.97\",\"100:0.51:0.99\",\"100:0.75:0.8\",\"100:0.75:0.9\",\"100:0.75:0.97\",\"100:0.75:0.99\",\"100:0.99:0.8\",\"100:0.99:0.9\",\"100:0.99:0.97\",\"100:0.99:0.99\"],\"reference\":[\"gg_13_8_otus\",\"gg_13_8_otus\",\"gg_13_8_otus\",\"gg_13_8_otus\",\"gg_13_8_otus\",\"gg_13_8_otus\",\"gg_13_8_otus\",\"gg_13_8_otus\",\"gg_13_8_otus\",\"gg_13_8_otus\",\"gg_13_8_otus\",\"gg_13_8_otus\",\"gg_13_8_otus\",\"gg_13_8_otus\",\"gg_13_8_otus\",\"gg_13_8_otus\",\"gg_13_8_otus\",\"gg_13_8_otus\",\"gg_13_8_otus\",\"gg_13_8_otus\",\"gg_13_8_otus\",\"gg_13_8_otus\",\"gg_13_8_otus\",\"gg_13_8_otus\",\"gg_13_8_otus\",\"gg_13_8_otus\",\"gg_13_8_otus\",\"gg_13_8_otus\",\"gg_13_8_otus\",\"gg_13_8_otus\",\"gg_13_8_otus\",\"gg_13_8_otus\",\"gg_13_8_otus\",\"gg_13_8_otus\",\"gg_13_8_otus\",\"gg_13_8_otus\",\"gg_13_8_otus\",\"gg_13_8_otus\",\"gg_13_8_otus\",\"gg_13_8_otus\",\"gg_13_8_otus\",\"gg_13_8_otus\",\"gg_13_8_otus\",\"gg_13_8_otus\",\"gg_13_8_otus\",\"gg_13_8_otus\",\"gg_13_8_otus\",\"gg_13_8_otus\",\"gg_13_8_otus\",\"gg_13_8_otus\",\"gg_13_8_otus\",\"gg_13_8_otus\",\"gg_13_8_otus\",\"gg_13_8_otus\",\"gg_13_8_otus\",\"gg_13_8_otus\",\"gg_13_8_otus\",\"gg_13_8_otus\",\"gg_13_8_otus\",\"gg_13_8_otus\",\"gg_13_8_otus\",\"gg_13_8_otus\",\"gg_13_8_otus\",\"gg_13_8_otus\",\"gg_13_8_otus\",\"gg_13_8_otus\",\"gg_13_8_otus\",\"gg_13_8_otus\",\"gg_13_8_otus\",\"gg_13_8_otus\",\"gg_13_8_otus\",\"gg_13_8_otus\",\"gg_13_8_otus\",\"gg_13_8_otus\",\"gg_13_8_otus\",\"gg_13_8_otus\",\"gg_13_8_otus\",\"gg_13_8_otus\",\"gg_13_8_otus\",\"gg_13_8_otus\",\"gg_13_8_otus\",\"gg_13_8_otus\",\"gg_13_8_otus\",\"gg_13_8_otus\",\"gg_13_8_otus\",\"gg_13_8_otus\",\"gg_13_8_otus\",\"gg_13_8_otus\",\"gg_13_8_otus\",\"gg_13_8_otus\",\"gg_13_8_otus\",\"gg_13_8_otus\",\"gg_13_8_otus\",\"gg_13_8_otus\",\"gg_13_8_otus\",\"gg_13_8_otus\",\"gg_13_8_otus\",\"gg_13_8_otus\",\"gg_13_8_otus\",\"gg_13_8_otus\",\"gg_13_8_otus\",\"gg_13_8_otus\",\"gg_13_8_otus\",\"gg_13_8_otus\",\"gg_13_8_otus\",\"gg_13_8_otus\",\"gg_13_8_otus\",\"gg_13_8_otus\",\"gg_13_8_otus\",\"gg_13_8_otus\",\"gg_13_8_otus\",\"gg_13_8_otus\"],\"sample_id\":[\"mock.1\",\"mock.1\",\"mock.1\",\"mock.1\",\"mock.1\",\"mock.1\",\"mock.1\",\"mock.1\",\"mock.1\",\"mock.1\",\"mock.1\",\"mock.1\",\"mock.1\",\"mock.1\",\"mock.1\",\"mock.1\",\"mock.1\",\"mock.1\",\"mock.1\",\"mock.1\",\"mock.1\",\"mock.1\",\"mock.1\",\"mock.1\",\"mock.1\",\"mock.1\",\"mock.1\",\"mock.1\",\"mock.1\",\"mock.1\",\"mock.1\",\"mock.1\",\"mock.1\",\"mock.1\",\"mock.1\",\"mock.1\",\"mock.1\",\"mock.1\",\"mock.1\",\"mock.1\",\"mock.1\",\"mock.1\",\"mock.1\",\"mock.1\",\"mock.1\",\"mock.1\",\"mock.1\",\"mock.1\",\"mock.1\",\"mock.1\",\"mock.1\",\"mock.1\",\"mock.1\",\"mock.1\",\"mock.1\",\"mock.1\",\"mock.1\",\"mock.1\",\"mock.1\",\"mock.1\",\"mock.1\",\"mock.1\",\"mock.1\",\"mock.1\",\"mock.1\",\"mock.1\",\"mock.1\",\"mock.1\",\"mock.1\",\"mock.1\",\"mock.1\",\"mock.1\",\"mock.1\",\"mock.1\",\"mock.1\",\"mock.1\",\"mock.1\",\"mock.1\",\"mock.1\",\"mock.1\",\"mock.1\",\"mock.1\",\"mock.1\",\"mock.1\",\"mock.1\",\"mock.1\",\"mock.1\",\"mock.1\",\"mock.1\",\"mock.1\",\"mock.1\",\"mock.1\",\"mock.1\",\"mock.1\",\"mock.1\",\"mock.1\",\"mock.1\",\"mock.1\",\"mock.1\",\"mock.1\",\"mock.1\",\"mock.1\",\"mock.1\",\"mock.1\",\"mock.1\",\"mock.1\",\"mock.1\",\"mock.1\",\"mock.1\",\"mock.1\",\"mock.1\",\"mock.1\"]}},\"id\":\"cfba01f9-dc7b-4a11-9a71-ada0c40d6a3b\",\"type\":\"ColumnDataSource\"},{\"attributes\":{\"callback\":null,\"plot\":{\"id\":\"1d64152b-91f6-4400-b912-048bbaf610e2\",\"subtype\":\"Figure\",\"type\":\"Plot\"},\"tooltips\":[[\"method\",\"@method\"],[\"sample_id\",\"@sample_id\"],[\"params\",\"@params\"]]},\"id\":\"90091b4b-118f-436c-a9d6-d145043d2c07\",\"type\":\"HoverTool\"},{\"attributes\":{},\"id\":\"c858e605-d32d-451a-829c-cce1545403b4\",\"type\":\"BasicTicker\"},{\"attributes\":{},\"id\":\"4a004e67-1a40-4cd6-9a4e-aeaad8390b3f\",\"type\":\"BasicTicker\"},{\"attributes\":{\"plot\":{\"id\":\"1d64152b-91f6-4400-b912-048bbaf610e2\",\"subtype\":\"Figure\",\"type\":\"Plot\"}},\"id\":\"51bae6ce-e1da-4515-b426-0da38739f6bc\",\"type\":\"WheelZoomTool\"},{\"attributes\":{\"plot\":{\"id\":\"1d64152b-91f6-4400-b912-048bbaf610e2\",\"subtype\":\"Figure\",\"type\":\"Plot\"}},\"id\":\"60616ef8-4335-4dd3-8593-74d184959ee8\",\"type\":\"SaveTool\"},{\"attributes\":{\"plot\":{\"id\":\"1d64152b-91f6-4400-b912-048bbaf610e2\",\"subtype\":\"Figure\",\"type\":\"Plot\"},\"ticker\":{\"id\":\"c858e605-d32d-451a-829c-cce1545403b4\",\"type\":\"BasicTicker\"}},\"id\":\"932368d3-8d31-4b94-97d6-dafc4c2c9ccf\",\"type\":\"Grid\"},{\"attributes\":{\"data_source\":{\"id\":\"cfba01f9-dc7b-4a11-9a71-ada0c40d6a3b\",\"type\":\"ColumnDataSource\"},\"glyph\":{\"id\":\"80d1b1d2-2380-4ed8-8de5-2a285f77a06b\",\"type\":\"Circle\"},\"hover_glyph\":null,\"nonselection_glyph\":{\"id\":\"719c36ba-6c45-4f4c-8f1f-a7e7307cf097\",\"type\":\"Circle\"},\"selection_glyph\":null},\"id\":\"4ef52b54-4c83-466f-8b36-3cfda3adb774\",\"type\":\"GlyphRenderer\"},{\"attributes\":{\"plot\":{\"id\":\"1d64152b-91f6-4400-b912-048bbaf610e2\",\"subtype\":\"Figure\",\"type\":\"Plot\"}},\"id\":\"1895cce2-5d2e-4afe-aaa5-4b8241798517\",\"type\":\"PanTool\"},{\"attributes\":{\"fill_alpha\":{\"value\":0.1},\"fill_color\":{\"value\":\"#1f77b4\"},\"line_alpha\":{\"value\":0.1},\"line_color\":{\"value\":\"#1f77b4\"},\"size\":{\"units\":\"screen\",\"value\":10},\"x\":{\"field\":\"PC1\"},\"y\":{\"field\":\"PC2\"}},\"id\":\"719c36ba-6c45-4f4c-8f1f-a7e7307cf097\",\"type\":\"Circle\"},{\"attributes\":{\"dimension\":1,\"plot\":{\"id\":\"1d64152b-91f6-4400-b912-048bbaf610e2\",\"subtype\":\"Figure\",\"type\":\"Plot\"},\"ticker\":{\"id\":\"4a004e67-1a40-4cd6-9a4e-aeaad8390b3f\",\"type\":\"BasicTicker\"}},\"id\":\"25fe4263-4906-4876-988a-1fbd9d810f76\",\"type\":\"Grid\"},{\"attributes\":{\"plot\":{\"id\":\"1d64152b-91f6-4400-b912-048bbaf610e2\",\"subtype\":\"Figure\",\"type\":\"Plot\"}},\"id\":\"15a05237-511a-4288-846b-aecdda3588ce\",\"type\":\"ResetTool\"}],\"root_ids\":[\"1d64152b-91f6-4400-b912-048bbaf610e2\"]},\"title\":\"Bokeh Application\",\"version\":\"0.12.4\"}};\n",
       "            var render_items = [{\"docid\":\"11ca990e-8e17-47eb-9f4a-3e879dc0945b\",\"elementid\":\"ff49596c-2a11-4fb4-8523-92e927ed0c72\",\"modelid\":\"1d64152b-91f6-4400-b912-048bbaf610e2\"}];\n",
       "            \n",
       "            Bokeh.embed.embed_items(docs_json, render_items);\n",
       "          };\n",
       "          if (document.readyState != \"loading\") fn();\n",
       "          else document.addEventListener(\"DOMContentLoaded\", fn);\n",
       "        })();\n",
       "      },\n",
       "      function(Bokeh) {\n",
       "      }\n",
       "    ];\n",
       "  \n",
       "    function run_inline_js() {\n",
       "      \n",
       "      if ((window.Bokeh !== undefined) || (force === true)) {\n",
       "        for (var i = 0; i < inline_js.length; i++) {\n",
       "          inline_js[i](window.Bokeh);\n",
       "        }if (force === true) {\n",
       "          display_loaded();\n",
       "        }} else if (Date.now() < window._bokeh_timeout) {\n",
       "        setTimeout(run_inline_js, 100);\n",
       "      } else if (!window._bokeh_failed_load) {\n",
       "        console.log(\"Bokeh: BokehJS failed to load within specified timeout.\");\n",
       "        window._bokeh_failed_load = true;\n",
       "      } else if (force !== true) {\n",
       "        var cell = $(document.getElementById(\"ff49596c-2a11-4fb4-8523-92e927ed0c72\")).parents('.cell').data().cell;\n",
       "        cell.output_area.append_execute_result(NB_LOAD_WARNING)\n",
       "      }\n",
       "  \n",
       "    }\n",
       "  \n",
       "    if (window._bokeh_is_loading === 0) {\n",
       "      console.log(\"Bokeh: BokehJS loaded, going straight to plotting\");\n",
       "      run_inline_js();\n",
       "    } else {\n",
       "      load_libs(js_urls, function() {\n",
       "        console.log(\"Bokeh: BokehJS plotting callback run at\", now());\n",
       "        run_inline_js();\n",
       "      });\n",
       "    }\n",
       "  }(this));\n",
       "</script>"
      ]
     },
     "metadata": {},
     "output_type": "display_data"
    }
   ],
   "source": [
    "table = join(expected_results_dir, 'mock-18', 'gg_13_8_otus', 'merged_table.biom')\n",
    "sample_md, results, pc, dm = beta_diversity_pcoa(table, method=\"braycurtis\", dim=2,\n",
    "                                                 permutations=99, col='method', \n",
    "                                                 colormap=color_pallette)"
   ]
  },
  {
   "cell_type": "markdown",
   "metadata": {},
   "source": [
    "You can also view all beta diversity plots with a single command, ``batch_beta_diversity()``, but we will only show single dataset examples in these example notebooks."
   ]
  },
  {
   "cell_type": "markdown",
   "metadata": {},
   "source": [
    "### Average dissimilarity between expected results and observed results for each method \n"
   ]
  },
  {
   "cell_type": "markdown",
   "metadata": {},
   "source": [
    "As we already discussed, PCoA plots are good for a qualitative overview, but don't offer much in the way of quantitative comparison. Instead, we can directly compare the Bray-Curtis dissimilarity between methods, and utilize pairwise Mann-Whitney U tests to determine precisely which methods perform better (**lower dissimilarity = more accurate classification**). In the cell below, we will use distance comparisons to determine:\n",
    "\n",
    "    1) Whether the dissimilarity between taxonomic assignment with different parameters of the same method is greater or less than the dissimilarity between taxonomic assignments with different methods, including the expected composition.\n",
    "    2) which method (averaged across all configurations) most closely reproduces the expected composition.\n",
    "    \n",
    "You can generate boxplots for individual datasets one-by-one with ``per_method_boxplots()``, or for all datasets individually with ``fastlane_boxplots()``. However, here we are most interested in the average performance of methods across each dataset.\n",
    "\n",
    "The command below violin plots of distribution of distances between expected composition and predicted compositions for each method (all parameter configurations) across all samples/datasets, and pairwise Mann Whitney U tests between these distributions."
   ]
  },
  {
   "cell_type": "code",
   "execution_count": 196,
   "metadata": {
    "collapsed": false,
    "scrolled": false
   },
   "outputs": [
    {
     "data": {
      "text/markdown": [
       "## gg_13_8_otus"
      ],
      "text/plain": [
       "<IPython.core.display.Markdown object>"
      ]
     },
     "metadata": {},
     "output_type": "display_data"
    },
    {
     "data": {
      "image/png": "[encoded data removed]",
      "text/plain": [
       "<matplotlib.figure.Figure at 0x112274080>"
      ]
     },
     "metadata": {},
     "output_type": "display_data"
    },
    {
     "data": {
      "text/html": [
       "<div>\n",
       "<table border=\"1\" class=\"dataframe\">\n",
       "  <thead>\n",
       "    <tr style=\"text-align: right;\">\n",
       "      <th></th>\n",
       "      <th>method A</th>\n",
       "      <th>method B</th>\n",
       "      <th>P</th>\n",
       "    </tr>\n",
       "  </thead>\n",
       "  <tbody>\n",
       "    <tr>\n",
       "      <th>0</th>\n",
       "      <td>blast+</td>\n",
       "      <td>blast</td>\n",
       "      <td>4.613902e-06</td>\n",
       "    </tr>\n",
       "    <tr>\n",
       "      <th>1</th>\n",
       "      <td>blast+</td>\n",
       "      <td>q2-nb</td>\n",
       "      <td>7.597099e-01</td>\n",
       "    </tr>\n",
       "    <tr>\n",
       "      <th>2</th>\n",
       "      <td>blast+</td>\n",
       "      <td>rdp</td>\n",
       "      <td>1.509068e-08</td>\n",
       "    </tr>\n",
       "    <tr>\n",
       "      <th>3</th>\n",
       "      <td>blast+</td>\n",
       "      <td>sortmerna</td>\n",
       "      <td>1.270810e-05</td>\n",
       "    </tr>\n",
       "    <tr>\n",
       "      <th>4</th>\n",
       "      <td>blast+</td>\n",
       "      <td>uclust</td>\n",
       "      <td>8.736689e-01</td>\n",
       "    </tr>\n",
       "    <tr>\n",
       "      <th>5</th>\n",
       "      <td>blast+</td>\n",
       "      <td>vsearch</td>\n",
       "      <td>7.519476e-01</td>\n",
       "    </tr>\n",
       "    <tr>\n",
       "      <th>6</th>\n",
       "      <td>blast</td>\n",
       "      <td>q2-nb</td>\n",
       "      <td>1.313426e-04</td>\n",
       "    </tr>\n",
       "    <tr>\n",
       "      <th>7</th>\n",
       "      <td>blast</td>\n",
       "      <td>rdp</td>\n",
       "      <td>2.478060e-01</td>\n",
       "    </tr>\n",
       "    <tr>\n",
       "      <th>8</th>\n",
       "      <td>blast</td>\n",
       "      <td>sortmerna</td>\n",
       "      <td>7.161906e-02</td>\n",
       "    </tr>\n",
       "    <tr>\n",
       "      <th>9</th>\n",
       "      <td>blast</td>\n",
       "      <td>uclust</td>\n",
       "      <td>1.421662e-07</td>\n",
       "    </tr>\n",
       "    <tr>\n",
       "      <th>10</th>\n",
       "      <td>blast</td>\n",
       "      <td>vsearch</td>\n",
       "      <td>6.293324e-07</td>\n",
       "    </tr>\n",
       "    <tr>\n",
       "      <th>11</th>\n",
       "      <td>q2-nb</td>\n",
       "      <td>rdp</td>\n",
       "      <td>2.729586e-03</td>\n",
       "    </tr>\n",
       "    <tr>\n",
       "      <th>12</th>\n",
       "      <td>q2-nb</td>\n",
       "      <td>sortmerna</td>\n",
       "      <td>2.729586e-03</td>\n",
       "    </tr>\n",
       "    <tr>\n",
       "      <th>13</th>\n",
       "      <td>q2-nb</td>\n",
       "      <td>uclust</td>\n",
       "      <td>6.607385e-01</td>\n",
       "    </tr>\n",
       "    <tr>\n",
       "      <th>14</th>\n",
       "      <td>q2-nb</td>\n",
       "      <td>vsearch</td>\n",
       "      <td>8.736689e-01</td>\n",
       "    </tr>\n",
       "    <tr>\n",
       "      <th>15</th>\n",
       "      <td>rdp</td>\n",
       "      <td>sortmerna</td>\n",
       "      <td>8.736689e-01</td>\n",
       "    </tr>\n",
       "    <tr>\n",
       "      <th>16</th>\n",
       "      <td>rdp</td>\n",
       "      <td>uclust</td>\n",
       "      <td>1.287590e-09</td>\n",
       "    </tr>\n",
       "    <tr>\n",
       "      <th>17</th>\n",
       "      <td>rdp</td>\n",
       "      <td>vsearch</td>\n",
       "      <td>1.779610e-11</td>\n",
       "    </tr>\n",
       "    <tr>\n",
       "      <th>18</th>\n",
       "      <td>sortmerna</td>\n",
       "      <td>uclust</td>\n",
       "      <td>2.166953e-06</td>\n",
       "    </tr>\n",
       "    <tr>\n",
       "      <th>19</th>\n",
       "      <td>sortmerna</td>\n",
       "      <td>vsearch</td>\n",
       "      <td>1.845250e-07</td>\n",
       "    </tr>\n",
       "    <tr>\n",
       "      <th>20</th>\n",
       "      <td>uclust</td>\n",
       "      <td>vsearch</td>\n",
       "      <td>4.496220e-01</td>\n",
       "    </tr>\n",
       "  </tbody>\n",
       "</table>\n",
       "</div>"
      ],
      "text/plain": [
       "     method A   method B             P\n",
       "0      blast+      blast  4.613902e-06\n",
       "1      blast+      q2-nb  7.597099e-01\n",
       "2      blast+        rdp  1.509068e-08\n",
       "3      blast+  sortmerna  1.270810e-05\n",
       "4      blast+     uclust  8.736689e-01\n",
       "5      blast+    vsearch  7.519476e-01\n",
       "6       blast      q2-nb  1.313426e-04\n",
       "7       blast        rdp  2.478060e-01\n",
       "8       blast  sortmerna  7.161906e-02\n",
       "9       blast     uclust  1.421662e-07\n",
       "10      blast    vsearch  6.293324e-07\n",
       "11      q2-nb        rdp  2.729586e-03\n",
       "12      q2-nb  sortmerna  2.729586e-03\n",
       "13      q2-nb     uclust  6.607385e-01\n",
       "14      q2-nb    vsearch  8.736689e-01\n",
       "15        rdp  sortmerna  8.736689e-01\n",
       "16        rdp     uclust  1.287590e-09\n",
       "17        rdp    vsearch  1.779610e-11\n",
       "18  sortmerna     uclust  2.166953e-06\n",
       "19  sortmerna    vsearch  1.845250e-07\n",
       "20     uclust    vsearch  4.496220e-01"
      ]
     },
     "metadata": {},
     "output_type": "display_data"
    },
    {
     "data": {
      "text/markdown": [
       "## unite_20.11.2016_clean_fullITS"
      ],
      "text/plain": [
       "<IPython.core.display.Markdown object>"
      ]
     },
     "metadata": {},
     "output_type": "display_data"
    },
    {
     "data": {
      "image/png": "[encoded data removed]",
      "text/plain": [
       "<matplotlib.figure.Figure at 0x11224ec50>"
      ]
     },
     "metadata": {},
     "output_type": "display_data"
    },
    {
     "data": {
      "text/html": [
       "<div>\n",
       "<table border=\"1\" class=\"dataframe\">\n",
       "  <thead>\n",
       "    <tr style=\"text-align: right;\">\n",
       "      <th></th>\n",
       "      <th>method A</th>\n",
       "      <th>method B</th>\n",
       "      <th>P</th>\n",
       "    </tr>\n",
       "  </thead>\n",
       "  <tbody>\n",
       "    <tr>\n",
       "      <th>0</th>\n",
       "      <td>blast+</td>\n",
       "      <td>blast</td>\n",
       "      <td>0.000000</td>\n",
       "    </tr>\n",
       "    <tr>\n",
       "      <th>1</th>\n",
       "      <td>blast+</td>\n",
       "      <td>q2-nb</td>\n",
       "      <td>0.013377</td>\n",
       "    </tr>\n",
       "    <tr>\n",
       "      <th>2</th>\n",
       "      <td>blast+</td>\n",
       "      <td>rdp</td>\n",
       "      <td>0.000000</td>\n",
       "    </tr>\n",
       "    <tr>\n",
       "      <th>3</th>\n",
       "      <td>blast+</td>\n",
       "      <td>sortmerna</td>\n",
       "      <td>0.000000</td>\n",
       "    </tr>\n",
       "    <tr>\n",
       "      <th>4</th>\n",
       "      <td>blast+</td>\n",
       "      <td>uclust</td>\n",
       "      <td>0.000000</td>\n",
       "    </tr>\n",
       "    <tr>\n",
       "      <th>5</th>\n",
       "      <td>blast+</td>\n",
       "      <td>vsearch</td>\n",
       "      <td>0.642323</td>\n",
       "    </tr>\n",
       "    <tr>\n",
       "      <th>6</th>\n",
       "      <td>blast</td>\n",
       "      <td>q2-nb</td>\n",
       "      <td>0.000000</td>\n",
       "    </tr>\n",
       "    <tr>\n",
       "      <th>7</th>\n",
       "      <td>blast</td>\n",
       "      <td>rdp</td>\n",
       "      <td>0.658687</td>\n",
       "    </tr>\n",
       "    <tr>\n",
       "      <th>8</th>\n",
       "      <td>blast</td>\n",
       "      <td>sortmerna</td>\n",
       "      <td>0.737130</td>\n",
       "    </tr>\n",
       "    <tr>\n",
       "      <th>9</th>\n",
       "      <td>blast</td>\n",
       "      <td>uclust</td>\n",
       "      <td>0.000000</td>\n",
       "    </tr>\n",
       "    <tr>\n",
       "      <th>10</th>\n",
       "      <td>blast</td>\n",
       "      <td>vsearch</td>\n",
       "      <td>0.000000</td>\n",
       "    </tr>\n",
       "    <tr>\n",
       "      <th>11</th>\n",
       "      <td>q2-nb</td>\n",
       "      <td>rdp</td>\n",
       "      <td>0.000000</td>\n",
       "    </tr>\n",
       "    <tr>\n",
       "      <th>12</th>\n",
       "      <td>q2-nb</td>\n",
       "      <td>sortmerna</td>\n",
       "      <td>0.000000</td>\n",
       "    </tr>\n",
       "    <tr>\n",
       "      <th>13</th>\n",
       "      <td>q2-nb</td>\n",
       "      <td>uclust</td>\n",
       "      <td>0.794764</td>\n",
       "    </tr>\n",
       "    <tr>\n",
       "      <th>14</th>\n",
       "      <td>q2-nb</td>\n",
       "      <td>vsearch</td>\n",
       "      <td>0.005153</td>\n",
       "    </tr>\n",
       "    <tr>\n",
       "      <th>15</th>\n",
       "      <td>rdp</td>\n",
       "      <td>sortmerna</td>\n",
       "      <td>0.021680</td>\n",
       "    </tr>\n",
       "    <tr>\n",
       "      <th>16</th>\n",
       "      <td>rdp</td>\n",
       "      <td>uclust</td>\n",
       "      <td>0.000000</td>\n",
       "    </tr>\n",
       "    <tr>\n",
       "      <th>17</th>\n",
       "      <td>rdp</td>\n",
       "      <td>vsearch</td>\n",
       "      <td>0.000000</td>\n",
       "    </tr>\n",
       "    <tr>\n",
       "      <th>18</th>\n",
       "      <td>sortmerna</td>\n",
       "      <td>uclust</td>\n",
       "      <td>0.000000</td>\n",
       "    </tr>\n",
       "    <tr>\n",
       "      <th>19</th>\n",
       "      <td>sortmerna</td>\n",
       "      <td>vsearch</td>\n",
       "      <td>0.000000</td>\n",
       "    </tr>\n",
       "    <tr>\n",
       "      <th>20</th>\n",
       "      <td>uclust</td>\n",
       "      <td>vsearch</td>\n",
       "      <td>0.000000</td>\n",
       "    </tr>\n",
       "  </tbody>\n",
       "</table>\n",
       "</div>"
      ],
      "text/plain": [
       "     method A   method B         P\n",
       "0      blast+      blast  0.000000\n",
       "1      blast+      q2-nb  0.013377\n",
       "2      blast+        rdp  0.000000\n",
       "3      blast+  sortmerna  0.000000\n",
       "4      blast+     uclust  0.000000\n",
       "5      blast+    vsearch  0.642323\n",
       "6       blast      q2-nb  0.000000\n",
       "7       blast        rdp  0.658687\n",
       "8       blast  sortmerna  0.737130\n",
       "9       blast     uclust  0.000000\n",
       "10      blast    vsearch  0.000000\n",
       "11      q2-nb        rdp  0.000000\n",
       "12      q2-nb  sortmerna  0.000000\n",
       "13      q2-nb     uclust  0.794764\n",
       "14      q2-nb    vsearch  0.005153\n",
       "15        rdp  sortmerna  0.021680\n",
       "16        rdp     uclust  0.000000\n",
       "17        rdp    vsearch  0.000000\n",
       "18  sortmerna     uclust  0.000000\n",
       "19  sortmerna    vsearch  0.000000\n",
       "20     uclust    vsearch  0.000000"
      ]
     },
     "metadata": {},
     "output_type": "display_data"
    },
    {
     "data": {
      "text/plain": [
       "None"
      ]
     },
     "metadata": {},
     "output_type": "display_data"
    },
    {
     "data": {
      "text/plain": [
       "<matplotlib.figure.Figure at 0x112258a20>"
      ]
     },
     "metadata": {},
     "output_type": "display_data"
    }
   ],
   "source": [
    "results = average_distance_boxplots(expected_results_dir, paired=False,\n",
    "                                    use_best=False, color_pallette=color_pallette)\n",
    "display(results)"
   ]
  },
  {
   "cell_type": "markdown",
   "metadata": {},
   "source": [
    "### Average distance between expected results and observed results for each method with optimized parameters \n",
    "Reports the top-performing parameter configuration for each method, violin plots of distribution of distances between expected composition and predicted compositions for the top parameter for each method across all samples/datasets, and pairwise paired Wilcoxon signed rank tests between these distributions."
   ]
  },
  {
   "cell_type": "code",
   "execution_count": 198,
   "metadata": {
    "collapsed": false,
    "scrolled": false
   },
   "outputs": [
    {
     "data": {
      "text/markdown": [
       "## gg_13_8_otus"
      ],
      "text/plain": [
       "<IPython.core.display.Markdown object>"
      ]
     },
     "metadata": {},
     "output_type": "display_data"
    },
    {
     "data": {
      "text/html": [
       "<div>\n",
       "<table border=\"1\" class=\"dataframe\">\n",
       "  <thead>\n",
       "    <tr style=\"text-align: right;\">\n",
       "      <th></th>\n",
       "      <th>method</th>\n",
       "      <th>params</th>\n",
       "    </tr>\n",
       "  </thead>\n",
       "  <tbody>\n",
       "    <tr>\n",
       "      <th>0</th>\n",
       "      <td>blast+</td>\n",
       "      <td>0.001:1:0.99:0.8</td>\n",
       "    </tr>\n",
       "    <tr>\n",
       "      <th>1</th>\n",
       "      <td>blast</td>\n",
       "      <td>1000</td>\n",
       "    </tr>\n",
       "    <tr>\n",
       "      <th>2</th>\n",
       "      <td>q2-nb</td>\n",
       "      <td>0.0</td>\n",
       "    </tr>\n",
       "    <tr>\n",
       "      <th>3</th>\n",
       "      <td>rdp</td>\n",
       "      <td>0.3</td>\n",
       "    </tr>\n",
       "    <tr>\n",
       "      <th>4</th>\n",
       "      <td>sortmerna</td>\n",
       "      <td>0.51:0.99:1:0.9:1.0</td>\n",
       "    </tr>\n",
       "    <tr>\n",
       "      <th>5</th>\n",
       "      <td>uclust</td>\n",
       "      <td>0.76:0.9:1</td>\n",
       "    </tr>\n",
       "    <tr>\n",
       "      <th>6</th>\n",
       "      <td>vsearch</td>\n",
       "      <td>1:0.99:0.99</td>\n",
       "    </tr>\n",
       "  </tbody>\n",
       "</table>\n",
       "</div>"
      ],
      "text/plain": [
       "      method               params\n",
       "0     blast+     0.001:1:0.99:0.8\n",
       "1      blast                 1000\n",
       "2      q2-nb                  0.0\n",
       "3        rdp                  0.3\n",
       "4  sortmerna  0.51:0.99:1:0.9:1.0\n",
       "5     uclust           0.76:0.9:1\n",
       "6    vsearch          1:0.99:0.99"
      ]
     },
     "metadata": {},
     "output_type": "display_data"
    },
    {
     "data": {
      "image/png": "[encoded data removed]",
      "text/plain": [
       "<matplotlib.figure.Figure at 0x11c17b630>"
      ]
     },
     "metadata": {},
     "output_type": "display_data"
    },
    {
     "data": {
      "text/html": [
       "<div>\n",
       "<table border=\"1\" class=\"dataframe\">\n",
       "  <thead>\n",
       "    <tr style=\"text-align: right;\">\n",
       "      <th></th>\n",
       "      <th>method A</th>\n",
       "      <th>method B</th>\n",
       "      <th>P</th>\n",
       "    </tr>\n",
       "  </thead>\n",
       "  <tbody>\n",
       "    <tr>\n",
       "      <th>0</th>\n",
       "      <td>blast+</td>\n",
       "      <td>blast</td>\n",
       "      <td>0.288080</td>\n",
       "    </tr>\n",
       "    <tr>\n",
       "      <th>1</th>\n",
       "      <td>blast+</td>\n",
       "      <td>q2-nb</td>\n",
       "      <td>1.000000</td>\n",
       "    </tr>\n",
       "    <tr>\n",
       "      <th>2</th>\n",
       "      <td>blast+</td>\n",
       "      <td>rdp</td>\n",
       "      <td>1.000000</td>\n",
       "    </tr>\n",
       "    <tr>\n",
       "      <th>3</th>\n",
       "      <td>blast+</td>\n",
       "      <td>sortmerna</td>\n",
       "      <td>1.000000</td>\n",
       "    </tr>\n",
       "    <tr>\n",
       "      <th>4</th>\n",
       "      <td>blast+</td>\n",
       "      <td>uclust</td>\n",
       "      <td>0.431959</td>\n",
       "    </tr>\n",
       "    <tr>\n",
       "      <th>5</th>\n",
       "      <td>blast+</td>\n",
       "      <td>vsearch</td>\n",
       "      <td>0.836601</td>\n",
       "    </tr>\n",
       "    <tr>\n",
       "      <th>6</th>\n",
       "      <td>blast</td>\n",
       "      <td>q2-nb</td>\n",
       "      <td>1.000000</td>\n",
       "    </tr>\n",
       "    <tr>\n",
       "      <th>7</th>\n",
       "      <td>blast</td>\n",
       "      <td>rdp</td>\n",
       "      <td>0.999999</td>\n",
       "    </tr>\n",
       "    <tr>\n",
       "      <th>8</th>\n",
       "      <td>blast</td>\n",
       "      <td>sortmerna</td>\n",
       "      <td>0.999999</td>\n",
       "    </tr>\n",
       "    <tr>\n",
       "      <th>9</th>\n",
       "      <td>blast</td>\n",
       "      <td>uclust</td>\n",
       "      <td>0.754548</td>\n",
       "    </tr>\n",
       "    <tr>\n",
       "      <th>10</th>\n",
       "      <td>blast</td>\n",
       "      <td>vsearch</td>\n",
       "      <td>0.999999</td>\n",
       "    </tr>\n",
       "    <tr>\n",
       "      <th>11</th>\n",
       "      <td>q2-nb</td>\n",
       "      <td>rdp</td>\n",
       "      <td>1.000000</td>\n",
       "    </tr>\n",
       "    <tr>\n",
       "      <th>12</th>\n",
       "      <td>q2-nb</td>\n",
       "      <td>sortmerna</td>\n",
       "      <td>1.000000</td>\n",
       "    </tr>\n",
       "    <tr>\n",
       "      <th>13</th>\n",
       "      <td>q2-nb</td>\n",
       "      <td>uclust</td>\n",
       "      <td>1.000000</td>\n",
       "    </tr>\n",
       "    <tr>\n",
       "      <th>14</th>\n",
       "      <td>q2-nb</td>\n",
       "      <td>vsearch</td>\n",
       "      <td>1.000000</td>\n",
       "    </tr>\n",
       "    <tr>\n",
       "      <th>15</th>\n",
       "      <td>rdp</td>\n",
       "      <td>sortmerna</td>\n",
       "      <td>1.000000</td>\n",
       "    </tr>\n",
       "    <tr>\n",
       "      <th>16</th>\n",
       "      <td>rdp</td>\n",
       "      <td>uclust</td>\n",
       "      <td>0.596355</td>\n",
       "    </tr>\n",
       "    <tr>\n",
       "      <th>17</th>\n",
       "      <td>rdp</td>\n",
       "      <td>vsearch</td>\n",
       "      <td>0.999998</td>\n",
       "    </tr>\n",
       "    <tr>\n",
       "      <th>18</th>\n",
       "      <td>sortmerna</td>\n",
       "      <td>uclust</td>\n",
       "      <td>0.480903</td>\n",
       "    </tr>\n",
       "    <tr>\n",
       "      <th>19</th>\n",
       "      <td>sortmerna</td>\n",
       "      <td>vsearch</td>\n",
       "      <td>0.999998</td>\n",
       "    </tr>\n",
       "    <tr>\n",
       "      <th>20</th>\n",
       "      <td>uclust</td>\n",
       "      <td>vsearch</td>\n",
       "      <td>0.762150</td>\n",
       "    </tr>\n",
       "  </tbody>\n",
       "</table>\n",
       "</div>"
      ],
      "text/plain": [
       "     method A   method B         P\n",
       "0      blast+      blast  0.288080\n",
       "1      blast+      q2-nb  1.000000\n",
       "2      blast+        rdp  1.000000\n",
       "3      blast+  sortmerna  1.000000\n",
       "4      blast+     uclust  0.431959\n",
       "5      blast+    vsearch  0.836601\n",
       "6       blast      q2-nb  1.000000\n",
       "7       blast        rdp  0.999999\n",
       "8       blast  sortmerna  0.999999\n",
       "9       blast     uclust  0.754548\n",
       "10      blast    vsearch  0.999999\n",
       "11      q2-nb        rdp  1.000000\n",
       "12      q2-nb  sortmerna  1.000000\n",
       "13      q2-nb     uclust  1.000000\n",
       "14      q2-nb    vsearch  1.000000\n",
       "15        rdp  sortmerna  1.000000\n",
       "16        rdp     uclust  0.596355\n",
       "17        rdp    vsearch  0.999998\n",
       "18  sortmerna     uclust  0.480903\n",
       "19  sortmerna    vsearch  0.999998\n",
       "20     uclust    vsearch  0.762150"
      ]
     },
     "metadata": {},
     "output_type": "display_data"
    },
    {
     "data": {
      "text/markdown": [
       "## unite_20.11.2016_clean_fullITS"
      ],
      "text/plain": [
       "<IPython.core.display.Markdown object>"
      ]
     },
     "metadata": {},
     "output_type": "display_data"
    },
    {
     "data": {
      "text/html": [
       "<div>\n",
       "<table border=\"1\" class=\"dataframe\">\n",
       "  <thead>\n",
       "    <tr style=\"text-align: right;\">\n",
       "      <th></th>\n",
       "      <th>method</th>\n",
       "      <th>params</th>\n",
       "    </tr>\n",
       "  </thead>\n",
       "  <tbody>\n",
       "    <tr>\n",
       "      <th>0</th>\n",
       "      <td>blast+</td>\n",
       "      <td>0.001:1:0.99:0.99</td>\n",
       "    </tr>\n",
       "    <tr>\n",
       "      <th>1</th>\n",
       "      <td>blast</td>\n",
       "      <td>1000</td>\n",
       "    </tr>\n",
       "    <tr>\n",
       "      <th>2</th>\n",
       "      <td>q2-nb</td>\n",
       "      <td>0.0</td>\n",
       "    </tr>\n",
       "    <tr>\n",
       "      <th>3</th>\n",
       "      <td>rdp</td>\n",
       "      <td>0.3</td>\n",
       "    </tr>\n",
       "    <tr>\n",
       "      <th>4</th>\n",
       "      <td>sortmerna</td>\n",
       "      <td>1.0:0.99:5:0.9:1.0</td>\n",
       "    </tr>\n",
       "    <tr>\n",
       "      <th>5</th>\n",
       "      <td>uclust</td>\n",
       "      <td>1.0:0.9:1</td>\n",
       "    </tr>\n",
       "    <tr>\n",
       "      <th>6</th>\n",
       "      <td>vsearch</td>\n",
       "      <td>1:0.99:0.99</td>\n",
       "    </tr>\n",
       "  </tbody>\n",
       "</table>\n",
       "</div>"
      ],
      "text/plain": [
       "      method              params\n",
       "0     blast+   0.001:1:0.99:0.99\n",
       "1      blast                1000\n",
       "2      q2-nb                 0.0\n",
       "3        rdp                 0.3\n",
       "4  sortmerna  1.0:0.99:5:0.9:1.0\n",
       "5     uclust           1.0:0.9:1\n",
       "6    vsearch         1:0.99:0.99"
      ]
     },
     "metadata": {},
     "output_type": "display_data"
    },
    {
     "data": {
      "image/png": "[encoded data removed]",
      "text/plain": [
       "<matplotlib.figure.Figure at 0x111cb5748>"
      ]
     },
     "metadata": {},
     "output_type": "display_data"
    },
    {
     "data": {
      "text/html": [
       "<div>\n",
       "<table border=\"1\" class=\"dataframe\">\n",
       "  <thead>\n",
       "    <tr style=\"text-align: right;\">\n",
       "      <th></th>\n",
       "      <th>method A</th>\n",
       "      <th>method B</th>\n",
       "      <th>P</th>\n",
       "    </tr>\n",
       "  </thead>\n",
       "  <tbody>\n",
       "    <tr>\n",
       "      <th>0</th>\n",
       "      <td>blast+</td>\n",
       "      <td>blast</td>\n",
       "      <td>0.000000e+00</td>\n",
       "    </tr>\n",
       "    <tr>\n",
       "      <th>1</th>\n",
       "      <td>blast+</td>\n",
       "      <td>q2-nb</td>\n",
       "      <td>1.000000e+00</td>\n",
       "    </tr>\n",
       "    <tr>\n",
       "      <th>2</th>\n",
       "      <td>blast+</td>\n",
       "      <td>rdp</td>\n",
       "      <td>0.000000e+00</td>\n",
       "    </tr>\n",
       "    <tr>\n",
       "      <th>3</th>\n",
       "      <td>blast+</td>\n",
       "      <td>sortmerna</td>\n",
       "      <td>3.057254e-02</td>\n",
       "    </tr>\n",
       "    <tr>\n",
       "      <th>4</th>\n",
       "      <td>blast+</td>\n",
       "      <td>uclust</td>\n",
       "      <td>0.000000e+00</td>\n",
       "    </tr>\n",
       "    <tr>\n",
       "      <th>5</th>\n",
       "      <td>blast+</td>\n",
       "      <td>vsearch</td>\n",
       "      <td>4.109293e-07</td>\n",
       "    </tr>\n",
       "    <tr>\n",
       "      <th>6</th>\n",
       "      <td>blast</td>\n",
       "      <td>q2-nb</td>\n",
       "      <td>1.000000e+00</td>\n",
       "    </tr>\n",
       "    <tr>\n",
       "      <th>7</th>\n",
       "      <td>blast</td>\n",
       "      <td>rdp</td>\n",
       "      <td>3.491831e-07</td>\n",
       "    </tr>\n",
       "    <tr>\n",
       "      <th>8</th>\n",
       "      <td>blast</td>\n",
       "      <td>sortmerna</td>\n",
       "      <td>4.263256e-14</td>\n",
       "    </tr>\n",
       "    <tr>\n",
       "      <th>9</th>\n",
       "      <td>blast</td>\n",
       "      <td>uclust</td>\n",
       "      <td>2.275840e-10</td>\n",
       "    </tr>\n",
       "    <tr>\n",
       "      <th>10</th>\n",
       "      <td>blast</td>\n",
       "      <td>vsearch</td>\n",
       "      <td>3.768143e-08</td>\n",
       "    </tr>\n",
       "    <tr>\n",
       "      <th>11</th>\n",
       "      <td>q2-nb</td>\n",
       "      <td>rdp</td>\n",
       "      <td>1.000000e+00</td>\n",
       "    </tr>\n",
       "    <tr>\n",
       "      <th>12</th>\n",
       "      <td>q2-nb</td>\n",
       "      <td>sortmerna</td>\n",
       "      <td>1.000000e+00</td>\n",
       "    </tr>\n",
       "    <tr>\n",
       "      <th>13</th>\n",
       "      <td>q2-nb</td>\n",
       "      <td>uclust</td>\n",
       "      <td>1.000000e+00</td>\n",
       "    </tr>\n",
       "    <tr>\n",
       "      <th>14</th>\n",
       "      <td>q2-nb</td>\n",
       "      <td>vsearch</td>\n",
       "      <td>1.000000e+00</td>\n",
       "    </tr>\n",
       "    <tr>\n",
       "      <th>15</th>\n",
       "      <td>rdp</td>\n",
       "      <td>sortmerna</td>\n",
       "      <td>1.676176e-05</td>\n",
       "    </tr>\n",
       "    <tr>\n",
       "      <th>16</th>\n",
       "      <td>rdp</td>\n",
       "      <td>uclust</td>\n",
       "      <td>1.998401e-15</td>\n",
       "    </tr>\n",
       "    <tr>\n",
       "      <th>17</th>\n",
       "      <td>rdp</td>\n",
       "      <td>vsearch</td>\n",
       "      <td>8.844002e-02</td>\n",
       "    </tr>\n",
       "    <tr>\n",
       "      <th>18</th>\n",
       "      <td>sortmerna</td>\n",
       "      <td>uclust</td>\n",
       "      <td>3.019807e-14</td>\n",
       "    </tr>\n",
       "    <tr>\n",
       "      <th>19</th>\n",
       "      <td>sortmerna</td>\n",
       "      <td>vsearch</td>\n",
       "      <td>5.078448e-03</td>\n",
       "    </tr>\n",
       "    <tr>\n",
       "      <th>20</th>\n",
       "      <td>uclust</td>\n",
       "      <td>vsearch</td>\n",
       "      <td>4.996004e-14</td>\n",
       "    </tr>\n",
       "  </tbody>\n",
       "</table>\n",
       "</div>"
      ],
      "text/plain": [
       "     method A   method B             P\n",
       "0      blast+      blast  0.000000e+00\n",
       "1      blast+      q2-nb  1.000000e+00\n",
       "2      blast+        rdp  0.000000e+00\n",
       "3      blast+  sortmerna  3.057254e-02\n",
       "4      blast+     uclust  0.000000e+00\n",
       "5      blast+    vsearch  4.109293e-07\n",
       "6       blast      q2-nb  1.000000e+00\n",
       "7       blast        rdp  3.491831e-07\n",
       "8       blast  sortmerna  4.263256e-14\n",
       "9       blast     uclust  2.275840e-10\n",
       "10      blast    vsearch  3.768143e-08\n",
       "11      q2-nb        rdp  1.000000e+00\n",
       "12      q2-nb  sortmerna  1.000000e+00\n",
       "13      q2-nb     uclust  1.000000e+00\n",
       "14      q2-nb    vsearch  1.000000e+00\n",
       "15        rdp  sortmerna  1.676176e-05\n",
       "16        rdp     uclust  1.998401e-15\n",
       "17        rdp    vsearch  8.844002e-02\n",
       "18  sortmerna     uclust  3.019807e-14\n",
       "19  sortmerna    vsearch  5.078448e-03\n",
       "20     uclust    vsearch  4.996004e-14"
      ]
     },
     "metadata": {},
     "output_type": "display_data"
    },
    {
     "data": {
      "text/plain": [
       "<matplotlib.figure.Figure at 0x114165320>"
      ]
     },
     "metadata": {},
     "output_type": "display_data"
    }
   ],
   "source": [
    "results = average_distance_boxplots(expected_results_dir,\n",
    "                                    color_pallette=color_pallette)\n",
    "results"
   ]
  },
  {
   "cell_type": "code",
   "execution_count": null,
   "metadata": {
    "collapsed": true
   },
   "outputs": [],
   "source": []
  }
 ],
 "metadata": {
  "anaconda-cloud": {},
  "kernelspec": {
   "display_name": "Python [default]",
   "language": "python",
   "name": "python3"
  },
  "language_info": {
   "codemirror_mode": {
    "name": "ipython",
    "version": 3
   },
   "file_extension": ".py",
   "mimetype": "text/x-python",
   "name": "python",
   "nbconvert_exporter": "python",
   "pygments_lexer": "ipython3",
   "version": "3.5.2"
  }
 },
 "nbformat": 4,
 "nbformat_minor": 1
}
