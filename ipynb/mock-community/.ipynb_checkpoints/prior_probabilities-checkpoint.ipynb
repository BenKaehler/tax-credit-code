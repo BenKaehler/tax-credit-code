{
 "cells": [
  {
   "cell_type": "markdown",
   "metadata": {},
   "source": [
    "# Prior Probabilities\n",
    "\n",
    "This notebook describes how to generate and use prior probability compositions to train ``q2-feature-classifier`` for taxonomic classification of marker-gene sequence data.\n",
    "\n",
    "Prior probabilities are used by some classification methods to predict the likelihood that a given class label will be observed in a population. Training prior probabilities may improve classification accuracy, particularly in situations when specific taxa are unique to an environment. This is opposed to the use of a uniform prior, which assumes that any class is equally likely to be observed in a given environment. While this is a prudent approach when handling unknown samples, it is a naive approach when handling samples from previously characterized sample types.\n",
    "\n",
    "This notebook serves two functions:\n",
    "\n",
    "    1) generating prior probability trainers to train ``q2-feature-classifier``.\n",
    "    2) comparing classification accuracy of training classifiers with:\n",
    "        a) a uniform prior.\n",
    "        b) prior probabilities appropriate for sample type X.\n",
    "        c) prior probabilities inappropriate for sample type X.\n",
    "        \n",
    "This notebook examines the effect of prior probabilities in classifying two different types of data sets:\n",
    "\n",
    "    1) simulated communities generated from observed compositions of natural communities.\n",
    "    2) natural communities in which the true composition is unknown, but well studied.\n",
    "    \n",
    "The general approach is to:\n",
    "\n",
    "    1) Select an appropriate natural community (NC).\n",
    "    2) Generate prior probability training set as a function of NC taxonomic composition at levels 1-6.\n",
    "    3) Select an appropriate reference dataset (RD).\n",
    "    4) extract RD sequences x,y,z (match NC taxonomies x,y,z)\n",
    "    5) mix x,y,z at defined distributions D to make simulated community S\n",
    "    6) provide prior distributions to classifier C\n",
    "    7) assign taxonomy to S using C\n"
   ]
  },
  {
   "cell_type": "code",
   "execution_count": null,
   "metadata": {
    "collapsed": true
   },
   "outputs": [],
   "source": [
    "from qiime.plugins import feature_classifier\n",
    "from qiime import Artifact\n"
   ]
  },
  {
   "cell_type": "code",
   "execution_count": null,
   "metadata": {
    "collapsed": true
   },
   "outputs": [],
   "source": [
    "# Project directory\n",
    "project_dir = expandvars(\"$HOME/Desktop/projects/short-read-tax-assignment\")\n",
    "# Directory containing reference sequence databases\n",
    "reference_database_dir = expandvars(\"$HOME/Desktop/ref_dbs/\")\n",
    "# prior probabilities directory\n",
    "prior_probabilities_dir = join(project_dir, \"data\", \"prior_probabilities\")"
   ]
  },
  {
   "cell_type": "markdown",
   "metadata": {},
   "source": [
    "## Generating prior probabilities from natural community observations\n",
    "This section describes how we generate prior probability trainers. To do so, we use taxonomic composition observations from previously analyzed natural communities. This does introduces bias in that we are assuming that those previous observations are accurate — or at least precise enough that we can assume that training with this prior probability will yield better predictive accuracy than a uniform prior.\n",
    "\n",
    "This can be performed on any sample type and used for subsequent analysis of samples, or re-analysis of the same samples. Samples should be well-characterized and the microbial composition reasonably well-known. For this reason, we demonstrate using three defined sample types from the following data sets. Each is publicly available, with hyperlinks to the QIITA study and open-access publications below.\n",
    "\n",
    "[Wine fermentation microbiota (bacterial 16S)](https://qiita.ucsd.edu/study/description/10119)    ([Bokulich et al. mBio 2016](http://dx.doi.org/10.1128/mBio.00631-16))\n",
    "\n",
    "[Sour beer fermentation microbiota (bacterial 16S)](https://qiita.ucsd.edu/study/description/1689)    ([Bokulich et al. PLoS One 2012](http://dx.doi.org/10.1371/journal.pone.0035507))\n",
    "\n",
    "[\"Moving pictures of the human microbiome\" (human feces bacterial 16S)](https://qiita.ucsd.edu/study/description/550)     ([Caporaso et al. Genome Biol 2012](http://dx.doi.org/10.1186/gb-2011-12-5-r50))\n",
    "\n",
    "Download the taxonomy-annotated biom files and mapping files and place in a single directory, which we designate as natural_community_dir below. It is critical that only one sample type is used to make each prior. Hence, any dissimilar sample types must be removed prior to classification. For example, the \"Moving Pictures\" dataset contains samples from several body sites, but we want to focus on stool samples here.\n",
    "\n",
    "(Note that QIITA uses different processing parameters from those used in the original studies, and thus results may differ slightly from those in publication. QIITA conveniently provides pre-processed data, such that taxonomy assignments can be immediately produced from multiple studies, facilitating the training of prior probabilities.)"
   ]
  },
  {
   "cell_type": "code",
   "execution_count": null,
   "metadata": {
    "collapsed": true
   },
   "outputs": [],
   "source": [
    "# Select an appropriate natural community (NC).\n",
    "# Directory containing natural community observations (taxonomy assignments)\n",
    "natural_community_dir = expandvars(\"$HOME/Desktop/projects/natural_community_priors/\")\n",
    "\n",
    "# Create dictionary that maps datasets to their biom and mapping files, and to the marker gene type\n",
    "natural_datasets = {\n",
    " #'moving_pics' : ('gg_13_8_otus', '67_otu_table.biom',\n",
    " # '550_prep_72_qiime_20160804-161109.txt'), # Moving pictures\n",
    " 'sour_beer' : ('gg_13_8_otus', '246_otu_table.biom', \n",
    "                '246_sortmerna_picked_otus.tgz',\n",
    "                '1989_prep_698_qiime_20150818-225324.txt'),\n",
    " 'wine' : ('gg_13_8_otus', 'otu_table.biom', \n",
    "           'sortmerna_picked_otus.tgz'\n",
    "           '10119_prep_258_qiime_20160529-140847.txt'),\n",
    "}\n",
    "\n",
    "reference_dbs = {'gg_13_8_otus' : (join(reference_database_dir, \n",
    "                                        'gg_13_8_otus/rep_set/97_otus.fasta'), \n",
    "                                   join(reference_database_dir, \n",
    "                                        'gg_13_8_otus/taxonomy/97_otu_taxonomy.txt')),\n",
    "                }"
   ]
  },
  {
   "cell_type": "code",
   "execution_count": null,
   "metadata": {
    "collapsed": true
   },
   "outputs": [],
   "source": [
    "# Generate prior probability training set as a function of NC taxonomic composition\n",
    "for dataset, data in natural_datasets.items():\n",
    "    db = data[0]\n",
    "    biom_table = data[1]\n",
    "    rep_seqs = data[2]\n",
    "    metadata_map = data[3]\n",
    "    reference_seqs, reference_tax = reference_dbs[db]\n",
    "    \n",
    "    # import data into qiime\n",
    "    feature_table = Artifact.import_data(\"FeatureTable[Frequency]\", biom_table)\n",
    "    rep_seqs_artifact = Artifact.import_data(\"FeatureData[Sequence]\", rep_seqs)\n",
    "\n",
    "    # assign taxonomy using uniform prior\n",
    "    classifier_path = \n",
    "    tax_assign = feature_classifier.methods.classify(reads = rep_seqs_artifact,\n",
    "                                                     classifier = classifier_path)\n",
    "    tax_assign.save(''.join(map(str, [natural_community_dir, '/', \n",
    "                                      dataset, '_tax_assignment.qza'])))\n",
    "    \n",
    "    \n",
    "    ### Collapsing features and tables may be unnecessary for simulation\n",
    "    ### just randomly sample tax_assign to make simulated sets.\n",
    "                    \n",
    "    # collapse features\n",
    "    # in qiime2, species = level 7\n",
    "    taxa_table = taxa.methods.collapse(table = feature_table, taxonomy = tax_assign,\n",
    "                                      level = 7)           \n",
    "    tax_assign.save(''.join(map(str, [natural_community_dir, '/', \n",
    "                                      dataset, '_tax_assignment.qza']))\n",
    "    # collapse samples\n",
    "\n",
    "    # store as dict?\n",
    "                    \n",
    "    # add to natural_datasets? as dataframe? \n",
    "    # Then we can store dataframe and call composition below without re-running this step\n",
    "                    \n"
   ]
  },
  {
   "cell_type": "markdown",
   "metadata": {},
   "source": [
    "## Generating simulated communities resembling natural communities\n",
    "The purpose of this step is to generate simulated communities that resemble natural sample types, but contain a known taxonomic composition."
   ]
  },
  {
   "cell_type": "code",
   "execution_count": null,
   "metadata": {
    "collapsed": true
   },
   "outputs": [],
   "source": [
    "num_samples = 5\n",
    "seqs_per_sample = 1000\n",
    "\n",
    "# Select an appropriate reference dataset (RD).\n",
    "# extract NC sequences x,y,z (match RD taxonomies x,y,z)\n",
    "# mix x,y,z at defined distributions D to make simulated community S\n"
   ]
  },
  {
   "cell_type": "markdown",
   "metadata": {},
   "source": [
    "## Classification of simulated communities using prior probabilities"
   ]
  },
  {
   "cell_type": "code",
   "execution_count": null,
   "metadata": {
    "collapsed": true
   },
   "outputs": [],
   "source": [
    "# provide prior distributions to classifier C\n",
    "# assign taxonomy to S using C"
   ]
  },
  {
   "cell_type": "markdown",
   "metadata": {},
   "source": [
    "## Classification of natural communities using prior probabilities"
   ]
  },
  {
   "cell_type": "code",
   "execution_count": null,
   "metadata": {
    "collapsed": true
   },
   "outputs": [],
   "source": [
    "# provide prior distributions to classifier C\n",
    "# assign taxonomy to NC using C\n"
   ]
  }
 ],
 "metadata": {
  "kernelspec": {
   "display_name": "Python [conda env:qiime2-05]",
   "language": "python",
   "name": "conda-env-qiime2-05-py"
  },
  "language_info": {
   "codemirror_mode": {
    "name": "ipython",
    "version": 3
   },
   "file_extension": ".py",
   "mimetype": "text/x-python",
   "name": "python",
   "nbconvert_exporter": "python",
   "pygments_lexer": "ipython3",
   "version": "3.5.2"
  }
 },
 "nbformat": 4,
 "nbformat_minor": 1
}
