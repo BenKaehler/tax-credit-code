{
 "cells": [
  {
   "cell_type": "markdown",
   "metadata": {},
   "source": [
    "# Data generation: using python to sweep over methods and parameters"
   ]
  },
  {
   "cell_type": "markdown",
   "metadata": {},
   "source": [
    "This notebook demonstrates taxonomy classification using ``q2-feature-classifier``'s naive Bayes classifier."
   ]
  },
  {
   "cell_type": "markdown",
   "metadata": {},
   "source": [
    "## Environment preparation"
   ]
  },
  {
   "cell_type": "code",
   "execution_count": 1,
   "metadata": {
    "collapsed": false
   },
   "outputs": [],
   "source": [
    "from os.path import join, expandvars\n",
    "from joblib import Parallel, delayed\n",
    "from glob import glob\n",
    "from os import system\n",
    "from tax_credit.framework_functions import (parameter_sweep,\n",
    "                                            generate_per_method_biom_tables,\n",
    "                                            move_results_to_repository)\n"
   ]
  },
  {
   "cell_type": "code",
   "execution_count": 2,
   "metadata": {
    "collapsed": false
   },
   "outputs": [],
   "source": [
    "project_dir = expandvars(\"$HOME/Desktop/projects/short-read-tax-assignment\")\n",
    "analysis_name= \"mock-community\"\n",
    "data_dir = join(project_dir, \"data\", analysis_name)\n",
    "\n",
    "reference_database_dir = expandvars(\"$HOME/Desktop/ref_dbs/\")\n",
    "results_dir = expandvars(\"$HOME/Desktop/projects/mock-community/\")"
   ]
  },
  {
   "cell_type": "markdown",
   "metadata": {},
   "source": [
    "## Preparing data set sweep"
   ]
  },
  {
   "cell_type": "markdown",
   "metadata": {},
   "source": [
    "First, we're going to define the data sets that we'll sweep over. The following cell does not need to be modified unless if you wish to change the datasets or reference databases used in the sweep."
   ]
  },
  {
   "cell_type": "code",
   "execution_count": 16,
   "metadata": {
    "collapsed": false
   },
   "outputs": [],
   "source": [
    "dataset_reference_combinations = [\n",
    " ('mock-1', 'gg_13_8_otus_clean'), # formerly S16S-1\n",
    " ('mock-2', 'gg_13_8_otus_clean'), # formerly S16S-2\n",
    " ('mock-3', 'gg_13_8_otus_clean'), # formerly Broad-1\n",
    " ('mock-4', 'gg_13_8_otus_clean'), # formerly Broad-2\n",
    " ('mock-5', 'gg_13_8_otus_clean'), # formerly Broad-3\n",
    " ('mock-6', 'gg_13_8_otus_clean'), # formerly Turnbaugh-1\n",
    " ('mock-7', 'gg_13_8_otus_clean'), # formerly Turnbaugh-2\n",
    " ('mock-8', 'gg_13_8_otus_clean'), # formerly Turnbaugh-3\n",
    " ('mock-9', 'unite_20.11.2016_clean_fullITS'), # formerly ITS1\n",
    " ('mock-10', 'unite_20.11.2016_clean_fullITS'), # formerly ITS2-SAG\n",
    " ('mock-12', 'gg_13_8_otus_clean'), # Extreme\n",
    " ('mock-13', 'gg_13_8_otus_full16S_clean'), # kozich-1\n",
    " ('mock-14', 'gg_13_8_otus_full16S_clean'), # kozich-2\n",
    " ('mock-15', 'gg_13_8_otus_full16S_clean'), # kozich-3\n",
    " ('mock-16', 'gg_13_8_otus_clean'), # schirmer-1\n",
    "]\n",
    "\n",
    "reference_dbs = {'gg_13_8_otus_clean' : (join(reference_database_dir, 'gg_13_8_otus/99_otus_clean_515f-806r-classifier.qza'), \n",
    "                 # 'gg_13_8_otus' : (join(reference_database_dir, 'gg_13_8_otus/gg-13-8-99-515-806-nb-classifier.qza'), \n",
    "                                   join(reference_database_dir, 'gg_13_8_otus/taxonomy/99_otu_taxonomy.qza')),\n",
    "                 'gg_13_8_otus_full16S_clean' : (join(reference_database_dir, 'gg_13_8_otus/99_otus_clean-classifier.qza'), \n",
    "                 # 'gg_13_8_otus_full16S' : (join(reference_database_dir, 'gg_13_8_otus/gg-13-8-99-nb-classifier.qza'), \n",
    "                                   join(reference_database_dir, 'gg_13_8_otus/taxonomy/99_otu_taxonomy.qza')),\n",
    "                 'unite_20.11.2016_clean_fullITS' : (join(reference_database_dir, 'sh_qiime_release_20.11.2016/developer/sh_refs_qiime_ver7_99_20.11.2016_dev_clean-classifier.qza'), \n",
    "                                   join(reference_database_dir, 'sh_qiime_release_20.11.2016/developer/sh_taxonomy_qiime_ver7_99_20.11.2016_dev_clean.qza')),\n",
    "                 'unite_20.11.2016_clean' : (join(reference_database_dir, 'sh_qiime_release_20.11.2016/developer/sh_refs_qiime_ver7_99_20.11.2016_dev_clean_ITS1Ff-ITS2r-classifier.qza'), \n",
    "                 # 'unite_20.11.2016' : (join(reference_database_dir, 'sh_qiime_release_20.11.2016/developer/99-dev-ITS1Ff-ITS2r-trim250-nb-classifier.qza'), \n",
    "                                       join(reference_database_dir, 'sh_qiime_release_20.11.2016/developer/sh_taxonomy_qiime_ver7_99_20.11.2016_dev.qza'))}\n"
   ]
  },
  {
   "cell_type": "markdown",
   "metadata": {},
   "source": [
    "## Preparing the method/parameter combinations and generating commands\n",
    "\n",
    "Now we set the methods and method-specific parameters that we want to sweep. Modify to sweep other methods. Note how method_parameters_combinations feeds method/parameter combinations to parameter_sweep() in the cell below."
   ]
  },
  {
   "cell_type": "code",
   "execution_count": 17,
   "metadata": {
    "collapsed": false
   },
   "outputs": [],
   "source": [
    "method_parameters_combinations = {\n",
    "              'q2-nb' : {'p-confidence': [0.0, 0.2, 0.4, 0.6, 0.8]}\n",
    "             }"
   ]
  },
  {
   "cell_type": "markdown",
   "metadata": {},
   "source": [
    "Now enter the template of the command to sweep, and generate a list of commands with ``parameter_sweep()``.\n",
    "\n",
    "Fields must adhere to following format:\n",
    "\n",
    "                      {0} = output directory\n",
    "                      {1} = input data\n",
    "                      {2} = reference sequences\n",
    "                      {3} = reference taxonomy\n",
    "                      {4} = method name\n",
    "                      {5} = other parameters"
   ]
  },
  {
   "cell_type": "code",
   "execution_count": 18,
   "metadata": {
    "collapsed": false
   },
   "outputs": [],
   "source": [
    "command_template = \"mkdir -p {0}; qiime feature-classifier classify --i-reads {1} --o-classification {0}/rep_seqs_tax_assignments.qza --i-classifier {2} {5}; qiime tools export {0}/rep_seqs_tax_assignments.qza --output-dir {0}\"\n",
    "        \n",
    "commands = parameter_sweep(data_dir, results_dir, reference_dbs,\n",
    "                           dataset_reference_combinations,\n",
    "                           method_parameters_combinations, command_template,\n",
    "                           infile='rep_seqs.qza', output_name='rep_seqs_tax_assignments.qza')\n"
   ]
  },
  {
   "cell_type": "markdown",
   "metadata": {},
   "source": [
    "As a sanity check, we can look at the first command that was generated and the number of commands generated."
   ]
  },
  {
   "cell_type": "code",
   "execution_count": 19,
   "metadata": {
    "collapsed": false
   },
   "outputs": [
    {
     "name": "stdout",
     "output_type": "stream",
     "text": [
      "39\n"
     ]
    },
    {
     "data": {
      "text/plain": [
       "'mkdir -p /Users/nbokulich/Desktop/projects/mock-community/mock-1/gg_13_8_otus_clean/q2-nb/0.2; qiime feature-classifier classify --i-reads /Users/nbokulich/Desktop/projects/short-read-tax-assignment/data/mock-community/mock-1/rep_seqs.qza --o-classification /Users/nbokulich/Desktop/projects/mock-community/mock-1/gg_13_8_otus_clean/q2-nb/0.2/rep_seqs_tax_assignments.qza --i-classifier /Users/nbokulich/Desktop/ref_dbs/gg_13_8_otus/99_otus_clean_515f-806r-classifier.qza --p-confidence 0.2; qiime tools export /Users/nbokulich/Desktop/projects/mock-community/mock-1/gg_13_8_otus_clean/q2-nb/0.2/rep_seqs_tax_assignments.qza --output-dir /Users/nbokulich/Desktop/projects/mock-community/mock-1/gg_13_8_otus_clean/q2-nb/0.2'"
      ]
     },
     "execution_count": 19,
     "metadata": {},
     "output_type": "execute_result"
    }
   ],
   "source": [
    "print(len(commands))\n",
    "commands[0]"
   ]
  },
  {
   "cell_type": "markdown",
   "metadata": {},
   "source": [
    "Finally, we run our commands."
   ]
  },
  {
   "cell_type": "code",
   "execution_count": 20,
   "metadata": {
    "collapsed": true
   },
   "outputs": [
    {
     "data": {
      "text/plain": [
       "[0,\n",
       " 0,\n",
       " 0,\n",
       " 0,\n",
       " 0,\n",
       " 0,\n",
       " 0,\n",
       " 0,\n",
       " 0,\n",
       " 0,\n",
       " 0,\n",
       " 0,\n",
       " 0,\n",
       " 0,\n",
       " 0,\n",
       " 0,\n",
       " 0,\n",
       " 0,\n",
       " 0,\n",
       " 0,\n",
       " 0,\n",
       " 0,\n",
       " 0,\n",
       " 0,\n",
       " 0,\n",
       " 0,\n",
       " 0,\n",
       " 0,\n",
       " 0,\n",
       " 0,\n",
       " 0,\n",
       " 0,\n",
       " 0,\n",
       " 0,\n",
       " 0,\n",
       " 0,\n",
       " 0,\n",
       " 0,\n",
       " 0]"
      ]
     },
     "execution_count": 20,
     "metadata": {},
     "output_type": "execute_result"
    }
   ],
   "source": [
    "Parallel(n_jobs=4)(delayed(system)(command) for command in commands)"
   ]
  },
  {
   "cell_type": "markdown",
   "metadata": {},
   "source": [
    "## Generate per-method biom tables\n",
    "\n",
    "Modify the taxonomy_glob below to point to the taxonomy assignments that were generated above. This may be necessary if filepaths were altered in the preceding cells."
   ]
  },
  {
   "cell_type": "code",
   "execution_count": 3,
   "metadata": {
    "collapsed": false
   },
   "outputs": [],
   "source": [
    "taxonomy_glob = join(results_dir, '*', '*', '*', '*', 'taxonomy.tsv')\n",
    "generate_per_method_biom_tables(taxonomy_glob, data_dir)"
   ]
  },
  {
   "cell_type": "markdown",
   "metadata": {},
   "source": [
    "## Move result files to repository\n",
    "\n",
    "Add results to the short-read-taxa-assignment directory (e.g., to push these results to the repository or compare with other precomputed results in downstream analysis steps). The precomputed_results_dir path and methods_dirs glob below should not need to be changed unless if substantial changes were made to filepaths in the preceding cells."
   ]
  },
  {
   "cell_type": "code",
   "execution_count": 22,
   "metadata": {
    "collapsed": false
   },
   "outputs": [],
   "source": [
    "precomputed_results_dir = join(project_dir, \"data\", \"precomputed-results\", analysis_name)\n",
    "method_dirs = glob(join(results_dir, '*', '*', '*', '*'))\n",
    "move_results_to_repository(method_dirs, precomputed_results_dir)"
   ]
  },
  {
   "cell_type": "code",
   "execution_count": null,
   "metadata": {
    "collapsed": true
   },
   "outputs": [],
   "source": []
  }
 ],
 "metadata": {
  "anaconda-cloud": {},
  "kernelspec": {
   "display_name": "Python 3",
   "language": "python",
   "name": "python3"
  },
  "language_info": {
   "codemirror_mode": {
    "name": "ipython",
    "version": 3
   },
   "file_extension": ".py",
   "mimetype": "text/x-python",
   "name": "python",
   "nbconvert_exporter": "python",
   "pygments_lexer": "ipython3",
   "version": "3.5.2"
  }
 },
 "nbformat": 4,
 "nbformat_minor": 0
}
